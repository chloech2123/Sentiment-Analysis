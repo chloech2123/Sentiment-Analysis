{
 "cells": [
  {
   "cell_type": "code",
   "execution_count": 265,
   "id": "e34efcf7",
   "metadata": {},
   "outputs": [
    {
     "name": "stderr",
     "output_type": "stream",
     "text": [
      "[nltk_data] Downloading package punkt to\n",
      "[nltk_data]     C:\\Users\\Chloe\\AppData\\Roaming\\nltk_data...\n",
      "[nltk_data]   Package punkt is already up-to-date!\n"
     ]
    },
    {
     "data": {
      "text/plain": [
       "True"
      ]
     },
     "execution_count": 265,
     "metadata": {},
     "output_type": "execute_result"
    }
   ],
   "source": [
    "import pandas as pd\n",
    "import nltk\n",
    "import re\n",
    "nltk.download('punkt')"
   ]
  },
  {
   "cell_type": "code",
   "execution_count": 266,
   "id": "474f8581",
   "metadata": {},
   "outputs": [],
   "source": [
    "biden_train = pd.read_csv('biden_stance_train_public.csv')\n",
    "biden_test = pd.read_csv('biden_stance_test_public.csv')\n",
    "#trump = pd.read_csv('trump_stance_train_public.csv')"
   ]
  },
  {
   "cell_type": "markdown",
   "id": "dea253ce",
   "metadata": {},
   "source": [
    "biden.head()\n",
    "len(biden)\n",
    "biden['label'].value_counts()"
   ]
  },
  {
   "cell_type": "markdown",
   "id": "3d5c329e",
   "metadata": {},
   "source": [
    "## Data Cleaning"
   ]
  },
  {
   "cell_type": "markdown",
   "id": "1b09289d",
   "metadata": {},
   "source": [
    "#### Stage 1: case to lower"
   ]
  },
  {
   "cell_type": "code",
   "execution_count": 5,
   "id": "60d67a19",
   "metadata": {},
   "outputs": [
    {
     "data": {
      "text/plain": [
       "0      imma keep it real with y’all i don’t think the...\n",
       "1      @user guess the #cult45 #trumpdrunkmorons can ...\n",
       "2      joe “let’s be reasonable guys not everybody ca...\n",
       "3      pelosi says biden shouldn't debate trump: 'i w...\n",
       "4      @user hey @user, here’s what your own party th...\n",
       "                             ...                        \n",
       "870    i’m excited to hear from hunter biden’s family...\n",
       "871    @user your still talking about trump? get over...\n",
       "872    @user we will...thank you for checking\\n#biden...\n",
       "873    i thought you were not doing bad, but then the...\n",
       "874    @user exactly @user !!! we all must vote in pe...\n",
       "Name: text, Length: 875, dtype: object"
      ]
     },
     "execution_count": 5,
     "metadata": {},
     "output_type": "execute_result"
    }
   ],
   "source": [
    "biden['text'] = biden['text'].str.lower()"
   ]
  },
  {
   "cell_type": "markdown",
   "id": "063da754",
   "metadata": {},
   "source": [
    "#### Stage 2: tokenization"
   ]
  },
  {
   "cell_type": "code",
   "execution_count": 69,
   "id": "6cfda11c",
   "metadata": {},
   "outputs": [],
   "source": [
    "from nltk.tokenize import RegexpTokenizer"
   ]
  },
  {
   "cell_type": "code",
   "execution_count": 70,
   "id": "ca494208",
   "metadata": {},
   "outputs": [],
   "source": [
    "tokenizer = RegexpTokenizer(r'\\w+')\n",
    "#tokens = tokenizer.tokenize(biden['text'][0])"
   ]
  },
  {
   "cell_type": "code",
   "execution_count": 71,
   "id": "ac0d8693",
   "metadata": {},
   "outputs": [],
   "source": [
    "biden['word_tok'] = biden['text'].apply(lambda x: tokenizer.tokenize(x))"
   ]
  },
  {
   "cell_type": "markdown",
   "id": "1af97418",
   "metadata": {},
   "source": [
    "tokenizer = RegexpTokenizer(r'\\w+'')\n",
    "tokens = tokenizer.tokenize(text)\n",
    "                            \n",
    "def word_token(x): #x=biden['text_tok'][0]\n",
    "    word_tok = []\n",
    "    for word in x:\n",
    "        word = word_tokenize(word)\n",
    "        word_tok.append(word)\n",
    "    return word_tok"
   ]
  },
  {
   "cell_type": "markdown",
   "id": "8561b386",
   "metadata": {},
   "source": [
    "from nltk.tokenize import sent_tokenize, word_tokenize"
   ]
  },
  {
   "cell_type": "markdown",
   "id": "395cc18f",
   "metadata": {},
   "source": [
    "biden['text'][0]"
   ]
  },
  {
   "cell_type": "markdown",
   "id": "650d7a4e",
   "metadata": {},
   "source": [
    "sent_tokenize(biden['text'][0])"
   ]
  },
  {
   "cell_type": "markdown",
   "id": "c2854397",
   "metadata": {},
   "source": [
    "biden['text_tok'] = biden['text'].apply(lambda x: sent_tokenize(x))"
   ]
  },
  {
   "cell_type": "markdown",
   "id": "16f3aa9b",
   "metadata": {},
   "source": [
    "def word_token(x): #x=biden['text_tok'][0]\n",
    "    word_tok = []\n",
    "    for word in x:\n",
    "        word = word_tokenize(word)\n",
    "        word_tok.append(word)\n",
    "    return word_tok"
   ]
  },
  {
   "cell_type": "markdown",
   "id": "296110ed",
   "metadata": {},
   "source": [
    "biden['word_tok'] = biden['text_tok'].apply(lambda x: word_token(x))"
   ]
  },
  {
   "cell_type": "markdown",
   "id": "48598cae",
   "metadata": {},
   "source": [
    "#### Stage 3: regular expression (remove special characters)"
   ]
  },
  {
   "cell_type": "markdown",
   "id": "44724efc",
   "metadata": {},
   "source": [
    "import re"
   ]
  },
  {
   "cell_type": "markdown",
   "id": "d250b9ce",
   "metadata": {},
   "source": [
    "def regu_exp(x):\n",
    "    clean_text = []\n",
    "    for words in x:\n",
    "        clean = []\n",
    "        for w in words:\n",
    "            res = re.sub(r\"[^\\w\\s]\" ,\"\",w)\n",
    "            if res != '':\n",
    "                clean.append(res)\n",
    "        clean_text.append(clean)\n",
    "    return clean_text"
   ]
  },
  {
   "cell_type": "markdown",
   "id": "6d25af8f",
   "metadata": {},
   "source": [
    "biden['clean_text1'] = biden['word_tok'].apply(lambda x: regu_exp(x))"
   ]
  },
  {
   "cell_type": "markdown",
   "id": "6d4cff4a",
   "metadata": {},
   "source": [
    "#### Stage 4: Stop word removal"
   ]
  },
  {
   "cell_type": "code",
   "execution_count": 81,
   "id": "acd33085",
   "metadata": {},
   "outputs": [
    {
     "name": "stderr",
     "output_type": "stream",
     "text": [
      "[nltk_data] Downloading package stopwords to\n",
      "[nltk_data]     C:\\Users\\Chloe\\AppData\\Roaming\\nltk_data...\n",
      "[nltk_data]   Package stopwords is already up-to-date!\n"
     ]
    },
    {
     "data": {
      "text/plain": [
       "True"
      ]
     },
     "execution_count": 81,
     "metadata": {},
     "output_type": "execute_result"
    }
   ],
   "source": [
    "import nltk\n",
    "nltk.download('stopwords')"
   ]
  },
  {
   "cell_type": "code",
   "execution_count": 84,
   "id": "8ba9d008",
   "metadata": {},
   "outputs": [],
   "source": [
    "from nltk.corpus import stopwords"
   ]
  },
  {
   "cell_type": "code",
   "execution_count": 85,
   "id": "d440658c",
   "metadata": {},
   "outputs": [],
   "source": [
    "def stopword(x): \n",
    "    clean_text = []\n",
    "    for word in x:\n",
    "        if not word in stopwords.words('english'):       \n",
    "            clean_text.append(word)\n",
    "    return clean_text"
   ]
  },
  {
   "cell_type": "code",
   "execution_count": 86,
   "id": "232060c4",
   "metadata": {},
   "outputs": [],
   "source": [
    "biden['clean_text2'] = biden['word_tok'].apply(lambda x: stopword(x))"
   ]
  },
  {
   "cell_type": "markdown",
   "id": "d3f62d4e",
   "metadata": {},
   "source": [
    "#### Stage 5: Stemming"
   ]
  },
  {
   "cell_type": "code",
   "execution_count": 42,
   "id": "e37c48d1",
   "metadata": {},
   "outputs": [],
   "source": [
    "from nltk.stem.porter import PorterStemmer"
   ]
  },
  {
   "cell_type": "code",
   "execution_count": 43,
   "id": "a5518f15",
   "metadata": {},
   "outputs": [],
   "source": [
    "port = PorterStemmer()"
   ]
  },
  {
   "cell_type": "code",
   "execution_count": 88,
   "id": "f82425a5",
   "metadata": {},
   "outputs": [],
   "source": [
    "def stem(x):\n",
    "    clean_text = []\n",
    "    for word in x:\n",
    "        word = port.stem(word)\n",
    "        clean_text.append(word)\n",
    "    return clean_text"
   ]
  },
  {
   "cell_type": "code",
   "execution_count": 89,
   "id": "9181a649",
   "metadata": {},
   "outputs": [],
   "source": [
    "biden['clean_text3'] = biden['clean_text2'].apply(lambda x: stem(x))"
   ]
  },
  {
   "cell_type": "markdown",
   "id": "996d8207",
   "metadata": {},
   "source": [
    "#### lemitization"
   ]
  },
  {
   "cell_type": "code",
   "execution_count": 91,
   "id": "090d8c46",
   "metadata": {},
   "outputs": [],
   "source": [
    "from nltk.stem.wordnet import WordNetLemmatizer"
   ]
  },
  {
   "cell_type": "code",
   "execution_count": 92,
   "id": "3b53cb87",
   "metadata": {},
   "outputs": [
    {
     "name": "stderr",
     "output_type": "stream",
     "text": [
      "[nltk_data] Downloading package wordnet to\n",
      "[nltk_data]     C:\\Users\\Chloe\\AppData\\Roaming\\nltk_data...\n",
      "[nltk_data]   Package wordnet is already up-to-date!\n"
     ]
    },
    {
     "data": {
      "text/plain": [
       "True"
      ]
     },
     "execution_count": 92,
     "metadata": {},
     "output_type": "execute_result"
    }
   ],
   "source": [
    "import nltk\n",
    "nltk.download('wordnet')"
   ]
  },
  {
   "cell_type": "code",
   "execution_count": 93,
   "id": "b41b04d9",
   "metadata": {},
   "outputs": [],
   "source": [
    "def lemmatize(x):\n",
    "    lem = []\n",
    "    for word in x:\n",
    "        lem.append(wnet.lemmatize(word))\n",
    "    return lem"
   ]
  },
  {
   "cell_type": "code",
   "execution_count": 94,
   "id": "d2c8ae46",
   "metadata": {},
   "outputs": [],
   "source": [
    "biden['clean_text4'] = biden['clean_text3'].apply(lambda x: stem(x))"
   ]
  },
  {
   "cell_type": "code",
   "execution_count": 267,
   "id": "9ef533dc",
   "metadata": {},
   "outputs": [
    {
     "data": {
      "text/html": [
       "<div>\n",
       "<style scoped>\n",
       "    .dataframe tbody tr th:only-of-type {\n",
       "        vertical-align: middle;\n",
       "    }\n",
       "\n",
       "    .dataframe tbody tr th {\n",
       "        vertical-align: top;\n",
       "    }\n",
       "\n",
       "    .dataframe thead th {\n",
       "        text-align: right;\n",
       "    }\n",
       "</style>\n",
       "<table border=\"1\" class=\"dataframe\">\n",
       "  <thead>\n",
       "    <tr style=\"text-align: right;\">\n",
       "      <th></th>\n",
       "      <th>tweet_id</th>\n",
       "      <th>text</th>\n",
       "      <th>label</th>\n",
       "    </tr>\n",
       "  </thead>\n",
       "  <tbody>\n",
       "    <tr>\n",
       "      <th>0</th>\n",
       "      <td>1311162417938919424</td>\n",
       "      <td>imma keep it real with y’all i don’t think the...</td>\n",
       "      <td>NONE</td>\n",
       "    </tr>\n",
       "    <tr>\n",
       "      <th>1</th>\n",
       "      <td>1299361296400429057</td>\n",
       "      <td>@USER guess the #cult45 #trumpdrunkmorons can ...</td>\n",
       "      <td>NONE</td>\n",
       "    </tr>\n",
       "    <tr>\n",
       "      <th>2</th>\n",
       "      <td>1239350672782483456</td>\n",
       "      <td>joe “let’s be reasonable guys not everybody ca...</td>\n",
       "      <td>NONE</td>\n",
       "    </tr>\n",
       "    <tr>\n",
       "      <th>3</th>\n",
       "      <td>1299022276571140099</td>\n",
       "      <td>pelosi says biden shouldn't debate trump: 'i w...</td>\n",
       "      <td>AGAINST</td>\n",
       "    </tr>\n",
       "    <tr>\n",
       "      <th>4</th>\n",
       "      <td>1295359993655578624</td>\n",
       "      <td>@USER hey @USER, here’s what your own party th...</td>\n",
       "      <td>NONE</td>\n",
       "    </tr>\n",
       "    <tr>\n",
       "      <th>...</th>\n",
       "      <td>...</td>\n",
       "      <td>...</td>\n",
       "      <td>...</td>\n",
       "    </tr>\n",
       "    <tr>\n",
       "      <th>870</th>\n",
       "      <td>1296637794966745088</td>\n",
       "      <td>i’m excited to hear from hunter biden’s family...</td>\n",
       "      <td>NONE</td>\n",
       "    </tr>\n",
       "    <tr>\n",
       "      <th>871</th>\n",
       "      <td>1295317559802302466</td>\n",
       "      <td>@USER your still talking about trump? get over...</td>\n",
       "      <td>AGAINST</td>\n",
       "    </tr>\n",
       "    <tr>\n",
       "      <th>872</th>\n",
       "      <td>1292661159078723590</td>\n",
       "      <td>@USER we will...thank you for checking\\n#biden...</td>\n",
       "      <td>FAVOR</td>\n",
       "    </tr>\n",
       "    <tr>\n",
       "      <th>873</th>\n",
       "      <td>1298457178773184512</td>\n",
       "      <td>i thought you were not doing bad, but then the...</td>\n",
       "      <td>NONE</td>\n",
       "    </tr>\n",
       "    <tr>\n",
       "      <th>874</th>\n",
       "      <td>1301526342341726208</td>\n",
       "      <td>@USER exactly @USER !!! we all must vote in pe...</td>\n",
       "      <td>AGAINST</td>\n",
       "    </tr>\n",
       "  </tbody>\n",
       "</table>\n",
       "<p>875 rows × 3 columns</p>\n",
       "</div>"
      ],
      "text/plain": [
       "                tweet_id                                               text  \\\n",
       "0    1311162417938919424  imma keep it real with y’all i don’t think the...   \n",
       "1    1299361296400429057  @USER guess the #cult45 #trumpdrunkmorons can ...   \n",
       "2    1239350672782483456  joe “let’s be reasonable guys not everybody ca...   \n",
       "3    1299022276571140099  pelosi says biden shouldn't debate trump: 'i w...   \n",
       "4    1295359993655578624  @USER hey @USER, here’s what your own party th...   \n",
       "..                   ...                                                ...   \n",
       "870  1296637794966745088  i’m excited to hear from hunter biden’s family...   \n",
       "871  1295317559802302466  @USER your still talking about trump? get over...   \n",
       "872  1292661159078723590  @USER we will...thank you for checking\\n#biden...   \n",
       "873  1298457178773184512  i thought you were not doing bad, but then the...   \n",
       "874  1301526342341726208  @USER exactly @USER !!! we all must vote in pe...   \n",
       "\n",
       "       label  \n",
       "0       NONE  \n",
       "1       NONE  \n",
       "2       NONE  \n",
       "3    AGAINST  \n",
       "4       NONE  \n",
       "..       ...  \n",
       "870     NONE  \n",
       "871  AGAINST  \n",
       "872    FAVOR  \n",
       "873     NONE  \n",
       "874  AGAINST  \n",
       "\n",
       "[875 rows x 3 columns]"
      ]
     },
     "execution_count": 267,
     "metadata": {},
     "output_type": "execute_result"
    }
   ],
   "source": [
    "biden_train"
   ]
  },
  {
   "cell_type": "markdown",
   "id": "b9ff1262",
   "metadata": {},
   "source": [
    "#### words to string"
   ]
  },
  {
   "cell_type": "code",
   "execution_count": 133,
   "id": "4399379d",
   "metadata": {},
   "outputs": [],
   "source": [
    "# Python program to convert a list\n",
    "# to string using list comprehension\n",
    "def listtoStr(s):\n",
    "    Str = ' '.join([str(elem) for elem in s])\n",
    "    return Str"
   ]
  },
  {
   "cell_type": "code",
   "execution_count": 134,
   "id": "e694d356",
   "metadata": {},
   "outputs": [],
   "source": [
    "biden['clean_text5'] = biden['clean_text4'].apply(lambda x: listtoStr(x))"
   ]
  },
  {
   "cell_type": "code",
   "execution_count": 135,
   "id": "c89da9b2",
   "metadata": {},
   "outputs": [],
   "source": [
    "x_clean = biden['clean_text5'].tolist()"
   ]
  },
  {
   "cell_type": "markdown",
   "id": "e2f92165",
   "metadata": {},
   "source": [
    "#### Function to integrate all stage"
   ]
  },
  {
   "cell_type": "code",
   "execution_count": 193,
   "id": "cfc0c58c",
   "metadata": {},
   "outputs": [],
   "source": [
    "from nltk.tokenize import RegexpTokenizer"
   ]
  },
  {
   "cell_type": "code",
   "execution_count": 194,
   "id": "c3c35bcc",
   "metadata": {},
   "outputs": [],
   "source": [
    "from nltk.stem.porter import PorterStemmer"
   ]
  },
  {
   "cell_type": "code",
   "execution_count": 195,
   "id": "dd2752c4",
   "metadata": {},
   "outputs": [],
   "source": [
    "from nltk.stem.wordnet import WordNetLemmatizer"
   ]
  },
  {
   "cell_type": "code",
   "execution_count": 196,
   "id": "505998f5",
   "metadata": {},
   "outputs": [
    {
     "name": "stderr",
     "output_type": "stream",
     "text": [
      "[nltk_data] Downloading package stopwords to\n",
      "[nltk_data]     C:\\Users\\Chloe\\AppData\\Roaming\\nltk_data...\n",
      "[nltk_data]   Package stopwords is already up-to-date!\n"
     ]
    },
    {
     "data": {
      "text/plain": [
       "True"
      ]
     },
     "execution_count": 196,
     "metadata": {},
     "output_type": "execute_result"
    }
   ],
   "source": [
    "import nltk\n",
    "nltk.download('stopwords')"
   ]
  },
  {
   "cell_type": "code",
   "execution_count": 197,
   "id": "5a2636e1",
   "metadata": {},
   "outputs": [],
   "source": [
    "from nltk.corpus import stopwords"
   ]
  },
  {
   "cell_type": "code",
   "execution_count": 198,
   "id": "97333188",
   "metadata": {},
   "outputs": [],
   "source": [
    "tokenizer=RegexpTokenizer(r'\\w+')\n",
    "en_stopwords= set(stopwords.words('english'))\n",
    "ps = PorterStemmer()"
   ]
  },
  {
   "cell_type": "code",
   "execution_count": 199,
   "id": "aac5f947",
   "metadata": {},
   "outputs": [],
   "source": [
    "def getCleanedText(text):\n",
    "    text = text.lower()\n",
    "    \n",
    "    #tokenize\n",
    "    tokens = tokenizer.tokenize(text)\n",
    "    new_tokens = [token for token in tokens if token not in en_stopwords]\n",
    "    \n",
    "    stemmed_tokens = [ps.stem(tokens) for tokens in new_tokens]\n",
    "    \n",
    "    clean_text = \" \".join(stemmed_tokens)\n",
    "    \n",
    "    return clean_text"
   ]
  },
  {
   "cell_type": "code",
   "execution_count": 200,
   "id": "9be8f65f",
   "metadata": {},
   "outputs": [],
   "source": [
    "x_clean = [getCleanedText(i) for i in biden_train['text']]\n",
    "xt_clean = [getCleanedText(i) for i in biden_test['text']]"
   ]
  },
  {
   "cell_type": "code",
   "execution_count": 237,
   "id": "27c5ca74",
   "metadata": {
    "collapsed": true
   },
   "outputs": [
    {
     "data": {
      "text/plain": [
       "['imma keep real think debates2020 twitch',\n",
       " 'user guess cult45 trumpdrunkmoron pick poison unlik jim jone offer one trump serv assort trumpgenocid ettd votebluetosaveamerica',\n",
       " 'joe let reason guy everybodi get medicar biden demdeb',\n",
       " 'pelosi say biden debat trump legitim convers http knew would happen noth make rise basement left scratch bite eat rather face presid maga',\n",
       " 'user hey user parti think billboard paid user world see user win 2020elect http',\n",
       " 'user biden job control trump moder job trump follow rule agre upon campaign chri wallac control trump biden took high road',\n",
       " 'user nanci pelosi other democrat leader think american peopl stupid rude un respect againt peopl lier user trump trump2020 maga kag2020 fourmoreyear',\n",
       " 'get sander v warren battl yet seen everi fight warren need take glove sander comment onlin support demdeb',\n",
       " 'remind local race matter ever take minut today confirm updat voter registr get info upcom elect make sure plan vote 2020elect massachusett votema http',\n",
       " 'someon point nearest antifa headquart sign local leader email antifa maga debates2020 trump2020 bidenharristosaveamerica',\n",
       " 'new nicknam biden bidenstein puzzl candid plagiar trump buy american polici berni yell elizabeth warren lie scari funni bidenharris2020tosaveamerica amjoy 2020elect user user user foxnew',\n",
       " 'user turn kid gay right antifa brainwash jesu eat kid brain rnc2020',\n",
       " 'user typic know nobodi stand turd dumptrump',\n",
       " 'user trump lobbi disabl vet food truck remov outsid build right vet prefer statu sinc return civil war',\n",
       " 'comment poll show biden lead trump say debat influenc outcom trump highli respect leader nation recommend nobl peac prize biden person',\n",
       " 'user user third parti option give fact everyon liter vote either trump biden go equival vote trump vote',\n",
       " 'donald trump success creat new american enemi china http trump trumptaxreturn trumpknew trumpriot trump2020 bidenriot biden biden2020 usa usapolit democrat democratsaredestroyingamerica republican europ europeanunion',\n",
       " 'arrest made viral hate crime 7 year old boy maga hat http',\n",
       " 'love see openli lgbtq elect offici user user user assist deliv 2020 democrat convent keynot demconvent keynot bidenharris2020',\n",
       " 'hey user 2048 ounc gold news alert 27 000 dow user user trump2020 maga kag money goldpric http',\n",
       " 'user screw democraticnationalconvent trump trumpisanationaldisgrac trumpviru dncconvent wethepeopl biden2020tosaveamerica',\n",
       " 'user user never fail alway play victim cri audac ask femal offic trump2020',\n",
       " 'user taylor swift want attent vote democrat payrol depend upon trump2020',\n",
       " 'user havasu cigar get readi watch debat rock bad ass new hat compliment user gracia hermano jeremyjack jeremyjackcigar jj23 trump maga lakehavasu az arizona potu http',\n",
       " 'user lot gop senat go figur moneymak go come without user line pocket',\n",
       " 'user user user user team biden election2020 berni obama warrenendorsesbiden joebiden presidentbiden votebluetosaveamerica voteblue2020 notmeu bluewave2020 unitedason southasian asian electionsmatt novemberiscom http',\n",
       " 'watch gma like dnc commerci shame fakenew',\n",
       " 'user wit anyon half brain control peopl thought trump2020',\n",
       " 'user could guess parti woefulli inept govern creat plan repeal amp replac obamacar 8 year would complet wilt pressur deal pandem health emerg resist votebluetosaveamerica knowyourdeplor',\n",
       " 'user user user user user user joe biden 1 trillion debt easi pull random number ass sourc',\n",
       " 'joe got get fight oh man democraticdeb',\n",
       " 'user longer listen dr scarf sold soul trump believ noth come wh votebluetosaveamerica',\n",
       " 'kamala harri dnc speech claim new moment progress democrat http leftw polit democrat berni',\n",
       " 'america democrat desir disgust walkawayfromdemocrat maga2020 maga http',\n",
       " 'find strang djt would never hire someon busi without resum state qualif think resum qualifi leader amp command chief usa votebidenharristosaveamerica bidenharris2020landslid biden2020',\n",
       " 'democrat whitehous contend biden say would pick woman vice presid http',\n",
       " 'shit shitti shit show presidentialdebate2020 dumptrump notmypresid makeamericanotrussiaagain shutupman',\n",
       " 'user feel right one go live decis ultim person see reason vote biden though',\n",
       " 'biden say focu truth problem http',\n",
       " 'user maga white evangel biggest sucker america tv preacher blacksfortrump steve bannon pillow guy grifter see work class white mark pigeon john fleec',\n",
       " 'rat scotu plan aw truli balanc suprem court would 4 communist 4 socialist 4 social democrat demdeb',\n",
       " 'user thank presid trump last night amaz know nanci livid might stroke nevadafortrump trump2020',\n",
       " 'user user enjoy pleas followback everyon rt short 1 36 upbeat video voteblu votebidenharris2020 kamala joe rememb click thumb thank http',\n",
       " 'america ceo say trump fail coronaviru back biden http',\n",
       " 'user time nazi germani ted would show fit uniform gop want one parti rule lie cheat steal burn constitut achiev end gop want rule govern votelikeyourlifedependsonit votebluetosaveamerica',\n",
       " 'user one simpl slogan keep america great trump2020',\n",
       " 'kneel flag militari call fallen soldier pow soldier loser sucker perfectli ok trump logic maga dont deserv countri maga2020 voter deport day biden inaugur hatr america',\n",
       " 'user user feel like excus public wet willi joe biden',\n",
       " 'rnc go march everi trump voter newsflash lie sway peopl read noplatform bore votebluetosaveamerica http',\n",
       " 'joe biden meet jacob blake sr long histori racist anti semit anti christian post kenosha http',\n",
       " 'user user user right focu polici reason vote user may win progress indi voter 2016 thisweek covid19 sundaythought voteblu http',\n",
       " 'biden sander want nomin woman vp guy think could warren klobuchar harri somebodi nobodi expect demdeb',\n",
       " 'user user user user user user user user user user user user user user user user user user user thank mention stephen trump2020',\n",
       " 'user user politic death child misrepres 99 9 like valid certif death show covid 19 factor ill also present time death retain crucial medic data gop stop make death polit',\n",
       " 'user user user senat confirm presidenti appointe forbidden even attend convent hardli democrat keep speak want talk doubl standard trump admin full stop whine time trump go voteblue2020',\n",
       " 'neither biden trump manag complet entir thought sentenc sinc like 2010',\n",
       " 'campaign trump best trump trump2020 trump2020landslid',\n",
       " 'user lol biden need bump keep hummin',\n",
       " 'safe return absente ballot without usp vote votebidenharri voteblue2020 voterfraud votersuppress http',\n",
       " 'final night demconvent make sure watch joe biden 9 pm et http',\n",
       " 'user hypocrisi gop http',\n",
       " 'love comment tweet particularli aggress one clearli western leftist experienc arab linguist let agre someth inshallah biden win inshallah trump win perhap user respond debates2020',\n",
       " 'user gop tri decad govern taken fund pay whatev piggyback use',\n",
       " 'watch debat still vote trump wow',\n",
       " 'user rememb back said listen expert yeah figur fit new democrat agenda guess usp fauci vote2020 trump2020 http',\n",
       " 'trump execut action may littl late especi peopl similarli fight back movement fightbackamerica trumpwarrior kag wake amp fight stop look govt http',\n",
       " 'drop let help grow follow everyon back maga backtheblu',\n",
       " 'user user user amp let cancel dinner plan anymor either open economi demand voter id biden win landslid nevertrump biden2020landslid',\n",
       " 'nba rate crash continu laker big win least watch game seri http',\n",
       " 'user never lead texa except lead crook hillari liber fantasi poll trump2020',\n",
       " 'user user user user oh pleas user chew spit know trump2020',\n",
       " 'user user racist shame bigot trump2020',\n",
       " 'got say biden trump need lip inject',\n",
       " 'user welcom famili wise choic trump2020 let us save countri self destruct amp ever angri hate empti democrat http',\n",
       " 'gop donald trump know reelect chanc troubl tri confus american amp erod trust elect lose joe biden accord almost everi poll tri sow discord amp confus elect http',\n",
       " 'user yay trump2020',\n",
       " 'hillari everi bit white supremacist republican joe biden joe clearli compet candid enrag shitlib vs left',\n",
       " 'user weird sound lucid anyway biden2020',\n",
       " 'user somehow bet msm journalist along dem quit gleeful trump2020',\n",
       " 'user well guess worri elect want hope amp desir elect novemb full steam ahead agenda move countri forward trump2020 pence2024 trump2028 trump2032 world nightmar',\n",
       " 'user user democrat come denounc violenc seattleriot democrat blmterrorist blm antifadomesticterrorist antifa trump trump2020 maga maga2020 election2020 lawandord usa',\n",
       " 'user mayb dem wast much 1st bill like art 2do w pandem employe laid wo dime mayb b kid concern user trump2020',\n",
       " 'user follow pleas follow back resist fbr voteblue2020 bidencalm',\n",
       " 'presid trump biden prepar debat could turn person http',\n",
       " 'user rnc2020 go lit user hear 3 year record accomplish potu user oppos can speech avoid void 47 year noth hidenbiden',\n",
       " 'user idgaf pick vote blue matter must get fuck maniac white hous votebluenomatterwho ettd',\n",
       " 'user user everi time trump front microphon mental abil call question incoher inept incompet feel much safer biden presid uneth corrupt fool biden2020',\n",
       " 'demdeb rather stick pin eye watch',\n",
       " 'candid support process mean superdeleg overrid berni plural pretti pathet demdeb',\n",
       " 'user wait see breakdown scream trump hand biden ass trump2020',\n",
       " 'djia 93 9 time high despit democratstheenemywithin tri tube economi trump2020 defeat impact covid_19 live vote user dum user go user user',\n",
       " 'user aw shock trump ignor rule could show self restraint decenc expect shameless viciou point sure watch still much cruel could imagin must vote tyrant',\n",
       " 'user alllll way trump2020',\n",
       " 'user former presid impeach nobel nobl prize jealou much obamawasbetterateveryth votebluetosaveamerica',\n",
       " 'user user user user c mon man dem leader offic decad accomplish littl trump outperform 3 5 year maga',\n",
       " 'user user american must vote follow peopl respect offic susan collin mitch mcconnel lindsey graham donald trump els vote offic votebluetosaveamerica',\n",
       " 'mean even prayer bit crazi rncconvention2020 rnc2020',\n",
       " 'user ye user move rather actual protect home solv frig problem coward complianc antifa blm maga trump2020',\n",
       " 'user oh pleas releas tax dumptrumperdinck dumptrump2020 dumptrump releaseyourtaxestrump trumpisaliar trumptaxreturn trumpcrimefamili trumpisafak trumpisaphoni trumpisfak phonytrump',\n",
       " 'kamala hillari barack today go demconvent dnc democraticnationalconvent bidenharri bidenharris2020 joebiden kamalaharri kamaladay vote http',\n",
       " 'well trump take lead micromanag rnc2020 pretti childish http',\n",
       " 'backtoschool2020 today florida trumpcountri trump2020 godblessamerica http',\n",
       " 'user user right still user disguis maga trump2020landsid keepamericagreat',\n",
       " 'noth realli happen yet biden fresh cut ok king',\n",
       " 'user gopcoward want withhold money state stop creat bullshit legisl know merit votebluetosaveamerica',\n",
       " 'u govern decid put iphon stop tiktok governmentoverreach votetrumpout votebluenomatterwho votebiden voteblueasifyourlifedependedonit putinpuppet bluewave2020 http',\n",
       " 'user user dream ticket alway warren castro hope warren senat major leader castro ticket 2024 progress voteblu',\n",
       " 'pundit tv talk convent light polici specif debat cannot wait see joe biden kamala harri go toe toe trump penc polici bring demconvent',\n",
       " 'user user user user user refut wrote eh maga murder authoritarian gaslight america',\n",
       " 'miss presid speak eloqu empathi hope better tomorrow fortun soon bidenharris2020 demconvent',\n",
       " 'tactic clear let biden get coher messag across debates2020',\n",
       " 'americawakeup antifa use black commun gain shield care famili futur watch video extrem well put maga http',\n",
       " 'user user user user user good pay energi job elimin biden want end frack car technolog replac cheap plenti oil',\n",
       " 'user user user user guy excus earn right whatev f want veteransfortrump trump2020 http',\n",
       " 'user realli anyon function brain see biden would wors obama',\n",
       " 'user user joebiden would reach bulli deck offer hand offer shake gestur peac reset new start',\n",
       " 'user user user user user mani great strong honor first nation nativ leader let build monument name fort base instead racist trash make america proud votebluetosaveamerica biden2020 http',\n",
       " 'berni answer whether pick woman vp word salad basic meant demdeb',\n",
       " 'user user trump good person attack name call alreadi prep need trump master lie good creat fear rude disrespect anyth valid worthwhil say hope biden lose cool',\n",
       " 'biden vs trump',\n",
       " 'dnc america promis live user join stage user user amp user demconvent bidenharri http',\n",
       " 'user peopl think charl bronson play vigilant wonder kenoshashoot tie qanon',\n",
       " 'user joebiden corrupt vp histori sinc 2016 seen type simpl statement repeat trump point becom fact independ voter need detail http',\n",
       " 'user user go websit listen speech made auto worker union plan help us votebluetosaveamerica',\n",
       " 'user user govern let poor peopl live free utopian democrat run citi light trump2020',\n",
       " 'st vincent grenadin woooohooo demconvent democraticconvent flapol floridaprimari',\n",
       " 'user ask user said woman elect deni say instead ask user rebut ask feel said effect buss berni one know fuckcnn democraticdeb',\n",
       " 'trump critic obama biden problem fix fire cali',\n",
       " 'user even 200k dead think biden mismanag medic system number high think one biggest piec covid death afford access healthcar biden got effect plan realli',\n",
       " 'user user user user user user ye chang nov 3 though votebluetosaveamerica',\n",
       " 'user user presid trump patriot vote iran way overthrow terrorist mullah regim vote presindet trump trump2020 iranianssupporttrump',\n",
       " 'user need job safeti america denounc violenc violenc video trump2020 support leader amp stop call amp inspir militia blm congress pass policeaccount blacklivesmatt stop violenc trump http',\n",
       " 'user show tax crimin drumpf scare cowardli ye know votebluetosaveamerica',\n",
       " '1984 us elect walter mondal democrat nomine minnesota took femal run mate geraldin page state minesotta regan 49',\n",
       " 'biden presid campaign celebr one year anniversari encourag commun servic 2020elect http',\n",
       " 'user user user yeah moron offic last 30 40 year done great job manag social secur hmmm know peopl offic long trump trump2020 trumplandslide2020',\n",
       " 'user user republican offer 1 week extent polit plan sole intent dem reject appear uncoop fat ass user cheap tactic backfir republican user dc leav washington biden2020 executiveord',\n",
       " 'user accord dementiajo one third american alreadi die coronaviru fool like creeoy joe stay indoor make fool vote trump2020 kag2020 user http',\n",
       " 'user expos goggl http',\n",
       " 'maga keep track user follow count 45 47 tweet everi follow give donat trump campaign 1 follow 1 dollar owe 2 far trump campaign',\n",
       " 'user user mean biden top plug mean',\n",
       " 'user demdeb like everi question pete mayb unbias preach',\n",
       " 'user lip god ear votebluetoendthisnightmar voteblue2020',\n",
       " 'nation watch last night joe biden manag part fall asleep complet lose train thought declar million american die coronaviru http',\n",
       " 'enjoy republican crap trump right dnc2020 dncconvent',\n",
       " 'joe biden could drop pant 5th avenu defic still vote biden 2020',\n",
       " 'user user user fring right maga crowd full frantic mode disinform campaign flat lie deliber mislead narr tell american peopl one thing know truth help trump beat biden left lie',\n",
       " 'user user maga embrac lack logic love violenc much love trump mayb trump determin kill mani us take win us even gun seem may need',\n",
       " 'support trump 1 stand constitut 2 stand african american 3 stand militari polic 4 stand freedom last least 5 abhor child abus trump2020 draintheswamp wwg1wga',\n",
       " 'elizabeth warren announc 6 first thing elect presid tonight demdeb http',\n",
       " 'bloomberg speak truth would never hire someon donald record past four year america either demconvent dncconvention2020 bloomberg votebidenharris2020',\n",
       " 'biden next berni biden next trump',\n",
       " 'user good tri sleepi joe radic leftist parti trumppence2020 democratsareevil democratsaredestroyingamerica redwave2020 trumplovesamerica democratshateamerica trump2020',\n",
       " 'user plan even includ biden trojan hors even tri hide anymor',\n",
       " 'user put elect jepardi support redflaglaw statu remov amp cuckserv israel endlesswar obama saw blood water maga kag',\n",
       " 'pennsylvania vp penc person attach polic 67 violent day portland oper legend http vppenc trump2024 kag2020 operationlegend lawenforc joebiden',\n",
       " 'power uplift video black american perfectli describ support presid trump defin blm outstand young men trump2020 http',\n",
       " 'saw dude speak rnc2020 almost inspir stori http',\n",
       " 'without trump counterweight wonder debat would civil feel like trump anger leech across aisl someth democrat parti must trump demdeb http',\n",
       " 'user trump fit lead last night put nail coffin fail presid',\n",
       " 'user career politician like user talk mani lie lol rich walkaway trump2020',\n",
       " 'person polici abil implement import gender margin ident want women lgbtq peopl black brown peopl lead good polit valu demdeb',\n",
       " 'user flatli reject accus told user 2018 woman could elect presid could anybodi million year believ woman could becom presid unit state http demdeb',\n",
       " 'last night masen debat tonight demdeb prouder user user http',\n",
       " 'user user user user would absolut get trump2020',\n",
       " 'interest fake media obli start call end riot know hurt democrat amp sudden governor wisconsin request help pre trump polit maga keepamericagreat trump2020 rnc2020',\n",
       " 'wage even lower demdeb',\n",
       " 'countri medic system amaz lock someon callou dingi ward contempl suicid let time give bankrupt amount debt still vulner maga healthcareforal http',\n",
       " 'user user hogan mean trump stop fight elimin pre exist condit protect court think trump gop need go sake america voteblu',\n",
       " 'user delusion trump2020',\n",
       " 'democrat support bloomberg practic receipt tattoo forehead paidinful bloomberg demdeb democraticdeb democrat',\n",
       " 'user glad noth press attend need chief execut team work hard behalf american peopl one tweet tv day wewillvot voteblu top bottom ballot bidenharris2020',\n",
       " 'user ur last person believ prayer art decept god bless america drain swamp dump user help us god dsdt2020 maga2020 kag2020 bebest unhing 2020elect americafirst berniesurg coronaviru',\n",
       " 'listen joe free healthcar univers childcar bail work class citizen amaz take global pandem get moder embrac progress polici demdeb',\n",
       " 'anoth note biden also extrem pain listen realli call ami barrett fine person',\n",
       " 'put word black brown commun answer make polici intersect demdeb',\n",
       " 'time petit sue twitter blatant attack conserv 1a liber brainwash tactic american peopl maga user user user 2a vet user draintheswamp demoncrat',\n",
       " 'user thank vote donald j trump youaintblack trump2020',\n",
       " 'user meanwhil good kind brave polic offic endors trump2020 bluelivesmatt alllivesmatt kungflu saveourchildren savethechildren http',\n",
       " 'trump better win 2020 world depend trump2020 bidenharris2020 biden',\n",
       " 'user thank say loud votebluetosaveamerica votebidenharris2020 votegopout',\n",
       " 'user worri user cabl go votebluetosaveamerica',\n",
       " 'live user tweet rn savag af dumptrump bidenharris2020 http',\n",
       " 'user rememb write senat toomey concern trump racist comment squad lead violenc minor cours silent el paso man activ violent base danger countri voteblu',\n",
       " 'democrat view abort point birth restrict extrem push pro life voter democrat parti lead pro life democrat democrat build armi futur former democrat demdeb http',\n",
       " 'user stop burn build beat sometim murder peopl get job trump2020',\n",
       " 'biden fall flatteri dictat colinpowel dnc2020 demconvent bidenharris2020',\n",
       " 'take trump day honestli think move needl say anyon think joe biden inspir vote though may decid trump think lot look biden see replac',\n",
       " 'user rnc2020 guy nail great convent everi singl day tonight ice cake best presid ever trump2020landslidevictori',\n",
       " 'someon need follow biden obama brother revel demconvent dncconvention2020',\n",
       " 'user predict vote biden anyway',\n",
       " 'user user innoc children stolen parent stuf dirti border cage like wild anim 100 gone miss hypocrisi show savethechildren votebluetosaveamerica',\n",
       " 'user user user hope biden2020',\n",
       " 'anybodi els get impati time make decis user joebiden kamalaharri democraticparti democrat',\n",
       " 'want shithol usa shitholeusa trumpsuck maga kag trump2020',\n",
       " 'user user user user realli get skin lol cri nanci trump2020',\n",
       " 'user care think votebluetosaveamerica',\n",
       " 'user love right back brother trump2020 takingbackourcountri patriotfam onenationundergod',\n",
       " 'user user children futur nation plung third world countri democrat get elect maga usa',\n",
       " 'user da aid bed user pleas defund citi want support liber polici money ted belong jail',\n",
       " 'user trump support everywher im follow maga american work peopl know trump best potu ever activ trump twitter support fight tyranni',\n",
       " 'user user fair let thousand die let hundr thousand die maga',\n",
       " 'user user appreci apolog someth trump never amp never elect defeat trump need unifi parti countri user shown abil user better progress messeng votebluetosaveamerica',\n",
       " 'mind back five minut user trump2020 covid19 warroompandem blm backtheblu walkaway screenwrit',\n",
       " 'user ye exactli happen formerliber maga2020 like never would thought say recent votebluetosaveamerica user',\n",
       " 'soooo user user user user user user maga coronaviru made great 4u friend famili friend famili member die got infect lost job bui amp un emp benefit ridenwithbiden votebluetoendthisnightmar http',\n",
       " 'rnc2020 like motiv forum delus hatr fear smear lie circu mani clown',\n",
       " 'cabal hate god muslim christian need stand togeth believ god love peac freedom like fake news lie amaz presid user lie guy religion believ stand peac amp justic trump2020',\n",
       " 'leftist hurl racist abus black natur rnc speaker http',\n",
       " 'democrat tri crucifi trump like peopl crucifi christ tell truth mean trump god mean world crook wick good heart man tri chang someth bad someth good trump2020 godbless',\n",
       " 'user georgesoro fund blmdomesticterrorist actual donat user campaign ok burn build shoot innoc bash peopl demolish entir citi ok thesilentmajor see bs vote trump2020 http',\n",
       " 'user user either rob brainwash trump2020 maga',\n",
       " 'user user user user user user user user user user user user user user user user follow patriot kag thank much marilyn user http',\n",
       " 'user user first day administr shelv christian belief amp support singl corrupt presid nation ever seen neither wethepeopl histori book ever forget democrat landscap come nov thank god',\n",
       " 'believ pete still race one tell belong room much less stage user demdeb',\n",
       " 'berni even democrat allow run ticket demdeb democrats2020',\n",
       " 'user cancel 2020elect trump presid 5 year',\n",
       " '4 year trump gop rule break back countri make sure senat congress work vote blue ballot votebluetosaveamerica bidenharri dems4usa http',\n",
       " 'user never motiv vote life also appal though surpris trump behavior man digniti total right look say tell need know prioriti lie',\n",
       " 'user next 4 year trump2020',\n",
       " 'user sideway need vote2020 voteblu',\n",
       " 'user user ye cours would vote joebiden aa democrat nomine bad vote barackobama vice presid though votebluetosaveamerica http',\n",
       " 'everyth democrat either fake polit nonsens surpris trump2020 maga kag user user user user user user user user user http',\n",
       " 'user peopl stand someth freedom attack foundat countri attack must show support brave enough fight evil head maga minoritiesfortrump americafirst http',\n",
       " 'avoid democrat speech get noth user sound bite everyon despis sicken',\n",
       " 'black peopl make less 2 main popul almost 25 coronaviru case sure user concern disappoint doyourjob dumpcollin trumpfailsamerica trumpliesamericansdi votebluetosaveamerica http',\n",
       " 'user accomplish much sinc take offic might accomplish hyster obstruct dem obstruct driven fear fear trump support might proven right wrong trump2020',\n",
       " 'user debat clearli show biden control trump rail cannot leader like time god will elector colleg favor biden wide margin',\n",
       " 'support local vote arizona vote vote2020 voteblue2020 voteforchang voteforchang arizonavot student votebymail sheastanfield democrat democraci http',\n",
       " 'user agre differ trump thing less 4 year biden 47 year record lack given presid lack tri answer would differ provid 0 plan tonight',\n",
       " 'joe biden entir platform summar deal folk demdeb democraticdeb',\n",
       " 'user america americafirst djt draintheswamp 4moreyear fourmoreyear gop kag kag2020 maga maga2020 potus45 potu user trump trumptrain trump2020 usa voter presidenttrump work dem amp fakenew sleep later wake amp fals accus http',\n",
       " 'know know get hope etc howev nyt tax stori parscal alleg domest abus commit failur trump concoct anyth stick biden perform consist current lead necessari state tri stay level',\n",
       " 'user user gall question actual scientist appal user trump republican administr must go votebidentosaveamerica voteblu',\n",
       " 'richard grenel rnc speech savag russiag global democrat amp 8216 boss american peopl amp 8217 http',\n",
       " 'user relief real presid toddler tantrum biden2020 bidenharris2020 bidenharristosaveamerica',\n",
       " 'user sad apologist clay whole ass interview indefens whatabout ism trump chang expect say want peopl votebluenomatterwho zero tangibl offer',\n",
       " 'make america great makeamericagreatagain maga http',\n",
       " 'america past brownshirt wear black hoodi bandanna fire bomb hous worship loot busi vote weak kneed democrat leader protect chao come upper eastsid time chang user',\n",
       " 'think biden plan select femal vp voteblue2020 democraticdeb',\n",
       " 'drip maga gear fat black ass would chain bumper drag nearest lynch tree know know world know stop danc ass nigg user',\n",
       " 'best demdeb yet',\n",
       " 'user user user well ask notic jelli much biden2020 karin4congress votebluenomatterwho',\n",
       " 'ejinact two top contend joebiden run mate roll comprehens environmentaljustic bill nation grappl legaci racial injustic wake polic kill may georgefloyd breonnataylor amp http',\n",
       " 'past week rnc2020 user voter remind best yet come everi american second term presid user http',\n",
       " 'postmast gener deni chang usp polici regard elect mail http anyon expect say ya copper voteblu',\n",
       " 'user user trump stood laugh felt pen hand trump laugh vote',\n",
       " 'user user voteblu votebidenharris2020 kamala joe rememb click thumb youtub thank http',\n",
       " 'user biden snooz mayb get angri tri swipe trump',\n",
       " 'user doubt patholog liar corrupt crimin donaldtrump unfit presid trumpviru trumpgenocid coronaviruspandem covid19 http',\n",
       " 'love biden',\n",
       " '4 year 4 year rnc2020 trump2020 trump2020landslid',\n",
       " 'user user user user republican get away loot arson steal biden sign assault peopl wear biden hat execut biden voter street like happen bernel trammel jay danielson',\n",
       " 'user poosi afraid biden',\n",
       " 'death america parti arrang greatest elect theft histori done global commi agenda done 4 year maga power transform countri follow least anoth 8 anoth 16 never recov',\n",
       " 'user 45 reagan legaci prove wrong maga',\n",
       " 'user left plantat done research everyth presidenttrump done black commun vs youaintblack harri destroy mani black famili imprison thousand black peopl non violent offenc trump2020 blacksfortrump http',\n",
       " 'user septemb 1st done anyth help american citizen hold money tri get ridicul wish list trump2020 voteredtosaveamerica2020',\n",
       " 'amaz one wall street journal report oper warp speed execut order 13887 prepar pandem trump2020',\n",
       " 'user user stand line one hour tre45onpuppet 10 hr user alreadi impeach remov certainli tre45on americaortrump impeachtrumpagain votebluetosaveamerica',\n",
       " 'user user naw nazi right wing mob need erad support putin orang agent oval offic see sediti act seeyouinnovemb expectu votebluetosaveamerica',\n",
       " 'polit seem shallow moment seem signific biden promis make run mate woman sander less committ say likelyhood guess biden vp pick elizabeth warren demdeb',\n",
       " 'user mani hour week guy spend couch watch fauxnew call execut time know exactli hour stand front crowd beg attent let other work potu voteblu get leader',\n",
       " 'user user user user user weak answer sinc cuomo whole democrat parti blame trump european viru came china ny nj mi heavili infect pelosi ny mayor promot tourism town trump call racist stop travel',\n",
       " 'lyingtrump amp user gop grave danger usa amp world trump gop voter suppress amp use foreign govern interfer elect plan regist amp voteoutthegop even miss work http',\n",
       " 'user user user lol perfect gif presid trump go much fun biden shake boot definit night popcorn',\n",
       " 'healthcarework medicalstaff doctor physician frontlinework scientist user user user give crap parti trust votebidenharris2020 voteblu votersuppress',\n",
       " 'via user senat extend jobless aid unpreced time job mani votebluetosaveamerica http',\n",
       " 'user user trumpet know trump noth enhanc true standard live feel good enough feel other emot connect care fuel trumpet biden2020 http',\n",
       " 'never care vp joebiden kamalaharri http',\n",
       " 'user mention call racist want run well go trump2020',\n",
       " 'user administr fail act quickli enough impeach hear total bullshit stop play polit game stop lie presid republican fail america votebluetosaveamerica',\n",
       " 'jealou jeff bezo richer align mb hack phone reveal eventu clear amp present danger nation secur votebluenomatterwho votebluetosaveamerica user user http',\n",
       " 'heard trump blah blah blah save footbal joe hand show concern american joe genuin trump trump think good even plan next 4 year debatenight',\n",
       " 'user user user user bulli trump routin call peopl name walk press confer lock children care 204k peopl dead biden bulli check',\n",
       " 'biden keep say bunker love lmao debate2020',\n",
       " 'user user like hilari go win fakenewsmedia smart old song corrupmedia hilari ahead biden ahead bash presid trump daili ignor joe biden corrupt',\n",
       " 'import critic warn voter donald trump jason johnson warn mirror exactli tweet trump care win want keep power cost vote earli spread word rnc2020 maddow 11thhour bidenharri http',\n",
       " 'user user user agre place whine lot posit right lot good talk work togeth uplift countri intellig peopl center way rather trump gop backward self serv agenda',\n",
       " 'user user user get anoth test http',\n",
       " 'lost fiancé tonight follow trump q 1 year old liter uproot life devest broken heart still believ gt believ qanon maga kag http',\n",
       " '2 repres wear red hat demconvent',\n",
       " 'user user user come clean america chri wallac give biden question know',\n",
       " 'five hundr religi leader christian muslim jew hindu sikh other jointli endors democrat presidenti ticket user biden sen user bidenharris2020 bidenharrislandslide2020 biden2020 http',\n",
       " 'take one thing word tonight think thing cannot possibl get wors trust make chang elect got vote joe biden like live depend michel obama demconvent',\n",
       " 'top republican delet tweet doctor biden video footag arstechnica http',\n",
       " 'user stage biden',\n",
       " 'user user user democrat cannib begin',\n",
       " 'user user first respond polic firefight blue collar worker trump2020 maga',\n",
       " 'kinda feel bad use brain trust red maga end self defeat absorb damn bizarr hypocrit take quiet seem grasp concept actual principl polit prop',\n",
       " 'user best presid ever trump2020',\n",
       " 'user pleas stop push poll need act like biden 10 point behind vote amp famili amp friend save us votelikeyourlifedependsonit votebluetosaveamerica',\n",
       " 'user kevin want free sign check help millionair billionair friend user want safe oversight gopcorruptionovercountri votebluetosaveamerica',\n",
       " 'biden phone home user user user user maga2020 kag2020 kag trump2020 http',\n",
       " 'joe biden gun reform kid get sent school hide desk learn run corridor avoid shot immor one beaten nra nation beat twice http',\n",
       " 'watch maga drag interst gather begun ralli youtub http trump2020',\n",
       " 'excit turn page user votebluetosaveamerica votebidenharris2020 bidenharris2020 census2020 respond onlin 2020 censu http',\n",
       " 'user trump',\n",
       " 'user question user fought decad cut socialsecur one find singl friggin exampl vote misdirect user adjust consid taboo adjust posit neg democraticdeb',\n",
       " 'user kag2020 trump2020 one asshol vote novemb 3 2020 wonder day forget support ur local anarchist achiev r strong enough stand patriot http',\n",
       " 'user user trump win last chanc us withdraw un like trump win swamp close link us swamp us money leav europ path self destruct european demand freedom american still enjoy',\n",
       " 'user democrat convent wish segreg unit state group gender race republican swore peopl differ race gender becom american trump2020 immigr headlin speaker cspan',\n",
       " 'user know traitorinchief gopbetrayedamerica must defend votebluetosaveamerica',\n",
       " 'user kneepadsandpeepads2020 best democrat offer trump2020 fourmoreyear make chrissi cri',\n",
       " 'user user cohes exactli right messag votebidenharri democraticnationalconvent',\n",
       " 'user talk mani peopl today say anxiou watch sure go well ugh stand see 45 shenanigan biden sure great bell wether counti show far fewer trump sign 16 http',\n",
       " 'joe biden like judg barrett grope sniff hair http',\n",
       " 'user user lose lindsey south carolina want grovel sycoph repres comrad joebiden senatormccain jaimeharrison trump putinspuppet putin moscowmitch cnn foxnew',\n",
       " 'donald trump told white supremacist wait give word pull black support trump gonna race soldier tell maga support http',\n",
       " 'user forgotten fact left white hous 13 million food stamp 8 million poverti trump2020',\n",
       " 'user honestli never go expect user ever condemn white supremacist one racisttrump votetrumpout debat election2020',\n",
       " 'user impress speech propos could came ordinari folk mouth joebiden realli know run countri hmmmmm',\n",
       " 'tire divis inept leadership presid unit state vote user electionday disagre like pleas civil fail block thank biden2020 trump2020',\n",
       " 'presid trump racist done mani thing help black commun opportun zone prison reform increas employ black racist would maga',\n",
       " 'user trump know go lose everyon need voteblu biden ballot mf go steal elect biden2020 saveourcountryvoteblu',\n",
       " 'debat trump amp biden today ghetto',\n",
       " 'biden alreadi slip',\n",
       " 'right vice presid biden right back demdeb',\n",
       " 'user part sound dement hack fakenewscnn trump2020 deardiari',\n",
       " 'user break law get prime time speak gig user patholog liar get nomin lead entir republican parti user tell us without want sound proud fact right user scif breacher bingo',\n",
       " 'user would insan whole idea give gop less target henc vet process alreadi make lie biden thing vp choic fox oann would field day make shit whole cabinet voteblu',\n",
       " 'user blah blah blah plan hellnodementiajo trump2020',\n",
       " 'user citi turn shit hole domest terrorist fli one way north korea see bad terribl democrat lead citizen hell maga oh biden smell kid http',\n",
       " 'user user democrat wise would vote convict either 2020elect come',\n",
       " 'user neg ghost rider trump2020',\n",
       " 'user send joe biden posit vibe anxiou',\n",
       " 'user user jill biden debat sleepi joe trump2020 bidenriot',\n",
       " 'dnc dnc2002convent make feel hope sinc trumpviru felt hope long time thank user user votebidenharristosaveamerica votebluetoendthisnightmar',\n",
       " 'democrat biden told trump shut http',\n",
       " 'surpris everyon els joebiden actual kill debat',\n",
       " 'democrat capit joe biden 2020 democraticdeb joebiden capitald',\n",
       " 'user hillari beat ass yesterday popular vote hillari lost scant 77k vote scatter 3 key swing state cost ec vote clue joebiden complet referendum trumpmeltdown see everyday',\n",
       " 'bloomberg beat trump care mani billion burn tri real dem take apart democraticdeb demdeb',\n",
       " 'let antifa blm abolish polic govern two thing stand way good america love patriot shoot sorri excus flesh trump2020',\n",
       " 'tax return law amp order covid trump biden trade insult fieri presidenti debat user user debates2020 http',\n",
       " 'user user hold breath votebluetosaveamerica votebiden trumpisnotadoctor',\n",
       " 'think oeopl readi keep push joebiden address race crim justic dnc2020',\n",
       " 'insan expect noth less donaldtrump piss away chanc protect live 200k american make plan stop covid 19 biden campaign issu hilari smackdown trump demand debat drug test http',\n",
       " 'user joebiden one fit job fbrpartytim fbr presidentbiden november3rd http',\n",
       " 'user addit idiot logic mani peopl believ vote mad man hous lose new even wors biden2020',\n",
       " 'well user went well votebluetosaveamerica user user user user user user user fox http',\n",
       " 'biden promis demdeb appoint black woman suprem court women could choos http',\n",
       " 'user user kamala harri lock 1500 peopl smoke weed laugh smoke weed block evid innoc man death row never forget kamalaharrisvp kamalaisacop firethom dnc2020 democraticconvent dncconvent',\n",
       " 'know trump gonna smoke biden debat right',\n",
       " 'user user user much possibl gonna get butt everyday novemb 2 vote earli work engag encourag other postcardstovot volunt fed amp local democrat candid votebluetosaveamerica amp voteouth',\n",
       " 'user orang tan make gray hair dy blond show tv awar right biden2020 biden2020landslid',\n",
       " 'user user believ maga',\n",
       " 'user user alreadi one trump2020',\n",
       " 'mani blm citi are polic abl patrol militari tank user trump2020 covid19 warroompandem blm backtheblu walkaway screenwrit user',\n",
       " 'lincoln joe biden presid http let retweet messag america need real presid lead realiti tv presid gojo votebluetosaveamerica biden2020 user user user',\n",
       " 'say joe biden take bathroom break let piss pant kamala blow dri',\n",
       " 'user user user user user ok bought realli want part marxist led america joebiden clearli rino get swamp demconvent bidenharri joebiden user',\n",
       " 'user 1 reason despis ettd crueltyishispoint votebluetosaveamerica',\n",
       " 'never nation tax prosper yet watch democraticdeb watch half dozen moron tri outdo tax spend polici oh wait one watch maga2020 kag2020 user user user',\n",
       " 'user user user user actual trump paid 1 million tax credit previou year loss would otherwis receiv back use pay still money read articl probabl big print pictur',\n",
       " 'ny dept health letter amp cuomo resid shall deni admiss admiss nh nurs home sole base confirm suspect diagnosi covid 19 deathocrat 2020elect demexit http',\n",
       " 'user user user trump said right thing fake news spin want factsmatt trump2020',\n",
       " 'maga qanon white power gang organ realiz plan execut civil war win 20 say deput potu end next year',\n",
       " 'user thank except cheat ballotharvest break cheat tulsi win newhampshir easili fall utter bs biden handler campaign atlant nyt joebiden nap chanc get truth nh',\n",
       " 'user user special place hell reserv user racistli amp misogynist support black women amp especi black women kim klacik day black voter blindli support democrat come end http',\n",
       " 'user submit publicli shame trump2020 maga voteredtosaveamerica walkaway americafirst',\n",
       " '5 way presid warren klobuchar buttegieg sander biden gang trump like bloomberg pleas demdeb',\n",
       " 'user user racist user get fact user alway better man husband citizen presid user ever votebluetosaveamerica trumpliesamericansdi http',\n",
       " 'great spread word open expand http joebiden bidenharri biden2020 cher lgbtq lgbt vote2020 voteproud voteblue2020 trend kamalaharrisvp ridenwithbiden byedon townhal grassroot hrc glaad http',\n",
       " 'user thank god trump obviou even write tweet dimentia joe trump2020',\n",
       " 'user user user user user americafirst maga kag regular attende antifa blm riot make insurrectionist arsonist http',\n",
       " 'maga melania almost got away psst tunnel rose garden girl http',\n",
       " 'user make america smart voteouth voteoutthegop votetrumpout votebluetosaveamerica',\n",
       " 'hope trump bring hunter biden smoke crack get paid russian help chines militari least 17 time',\n",
       " 'first week month spark hope spirit look forward hear word valid encourag talk futur truth care need thank demconvent democraticconvent user user user',\n",
       " 'user agre happi anyon choos quailfi biden2020',\n",
       " 'call folk made thing waaay ahead time worth kamalaharri joebiden vppick bidenharris2020 http',\n",
       " 'media let biden lose debat trump http',\n",
       " 'user mani peopl die mike tell mani peopl die posit test mean noth better 99 recoveri rate stori sound like sky fall sky fall cancel worthless mandat open ohio trump 2020',\n",
       " 'year ago user came speak luncheon houston opportun meet talk fast forward 2020 dem nomine vp dem nomine tx14 let go kamala see hill fliptx14 demconvent http',\n",
       " 'user peac antifa blm protestor liber democrat user voter support respond user caravan maga http',\n",
       " 'charact compass scienc decenc ballot rhetor dnc2020 bidenharris2020',\n",
       " 'klobuchar make point win red district demdeb nhprimari',\n",
       " 'count import elect could help peopl state may face vote issu vote2020 votebidenharristosaveamerica voteblu votebidenharris2020 votehimout2020 votingright votingrightsact',\n",
       " 'warren need stop rais hand wait time speak go ahead interrupt men debat demdeb',\n",
       " 'user mock user oval offic conduct hey bill enough misconduct worri trip epsteinisland affair user hush buddi go plan vacat club fed user trump2020',\n",
       " 'user user user user incompet solv nation problem give damn work class solut polici deni distract deflect stoke divis amp fear voteforbidenharri voteoutcorruptgop votebluetosaveamerica vote earli',\n",
       " 'susan rice trot mainstream media say coronaviru trump fault maga',\n",
       " 'user popular would presidenti nomine lol trump2020 kamalaharrisisjustnotlik',\n",
       " 'user trump barr tell peopl vote twice realli goe prove freak admin run countri maga mobster govern america votebluetosaveamerica republicansagainsttrump http',\n",
       " 'user user proudmomofleo worst nightmar backtheblu prayforleo stopkillingleo antifaterrorist blmterrorist kag2020 maga trump2020 4moreyear voteredtosaveamerica2020',\n",
       " 'user user user user omg definit iv user user user user user user biden joebiden',\n",
       " 'user right trump 4 year trump2020',\n",
       " '200 million peopl die covid19 mani peopl surviv user lol debates2020',\n",
       " 'user user democrat child porn seem go hand hand draintheswamp rootoutpedophil',\n",
       " 'amaz inflat doll laratrump rnc2020',\n",
       " 'watch greg kelli report media never give trump credit anyth 8 10 20 youtub http trump2020',\n",
       " 'user go hell user trump2020',\n",
       " 'sander give smart answer deni charg woman win elect say throw whole weight behind whoever nomine includ one women stage demdeb',\n",
       " 'user ur choic 4 vp sb base compet amp qualif amp base gender pleas pick best person happen 2b woman criteria 2020elect potu',\n",
       " 'like blooper reel movi dnc worst nightmar ebolacrisi demdeb',\n",
       " 'trump next suprem court list could realli extrem trump gop http',\n",
       " 'user insult hell almost derail biden candidaci primari warp illadvis statement buse much rather tracey biden2020',\n",
       " 'vote darlen swaffar republican candid us hous repres florida district 22 send pro congress swaffar pro law amp order constitut veteran school choic vote aug 18th 2020 fl22 maga paid swaffar congress campaign http',\n",
       " 'home trump serious anywher safe live trumpspeech rnc2020 bidenharris2020tosaveamerica trumpchao',\n",
       " 'peopl wethepeopl wethepeoplearenotfool amp tire senseless polici indiana indianapoli votersuppress vote voteblue2020 voteearli votebyoct22 user user votefordemocraci choic user user',\n",
       " 'user goe chanc presid trump2020',\n",
       " 'user ccot actual civilwar partisan realli north south democrat republican battl still wage today democrat still tri keep black man plantat differ africanamerican wake',\n",
       " 'user user biden also announc plan exactli trump alreadi done month prior',\n",
       " 'alreadi tri delegitim elect bidenharri debates2020 presidentialdebate2020',\n",
       " 'keep talk america user user debat',\n",
       " 'love user goe full rant comment horribl user america show passion care countri one tweet shown 4 year dumptrump byedon',\n",
       " 'instead presidentialdeb let trump biden stand stage use one hand take turn lift progress larger glass water lip wager allow',\n",
       " 'biden got big old man yell cloud energi demdeb',\n",
       " 'oklahoma roll call vote 22 00 2020 democrat nation convent aug 18 2020 http dnc2020 okvot okvotes2020 votebiden oklahoma',\n",
       " 'alik user bluewav biden',\n",
       " 'user check see caravan thug isi 2018 midterm elect come 2 destroy countri propaganda right attack biden fearmong trumpisnotwel votebluetosaveamerica bidenharris2020',\n",
       " 'user user user user next one citizen ask question trump interrupt biden answer question audienc look even wors tonight',\n",
       " '14 mile crazi town joebiden demconvent http',\n",
       " 'l k stun stat http fridayvib fridaythought fridaymotiv fridayfeel resist resist biden2020 strongertogeth pride follow',\n",
       " 'user user user user user user user miss wait ralli trump2020 http',\n",
       " 'hello futur ag salli yate demconvention2020 demconvent democraticconvent democraticnationalconvent',\n",
       " 'user go folk maga trump2020landslid http',\n",
       " 'bunch lie dnc2020',\n",
       " 'realli excit start democraticnationalconvent tonight love idea civic leader u give open address',\n",
       " 'nightli sappi tear exactli someth expect past 3 night watch dnc hella inspir hope countri begin forget like dnc2020 bidenharris2020 votebluetosaveamerica',\n",
       " 'user republican support trump admin trump admin withheld inform could save 10x1000 live almost 200 000 soul lost republican give corp billion amp tri shelter corp lawsuit republican side good voteblu',\n",
       " 'user anyth republican sweati young men tight form fit cloth toss around age leather sack older white male shout instruct pat fit bottom good shower togeth engag hors play maga',\n",
       " 'biden strategi speak camera tri rise right one realli must make work trump danger neo fascist give four year suprem court stack arch conserv america unrecognis 2024',\n",
       " 'tran woman anarchist ran counti sheriff district next mine actual primari 10 1 say pleas read http jojorgensen2020 trump2020 votebluenomatterwho',\n",
       " 'decid watch first presidenti debat amp oh life pleas vote donald trump',\n",
       " 'twitter one bloomberg littl bitch demdeb',\n",
       " 'femal vp great open door inclus howev uneduc class midwest women without colleg degre constitut huge vote block may readi woman vp demdeb user',\n",
       " 'user want biden intellig experi need someon start day one fix mess trump made candid dont experi crisi right votebluetosaveamerica',\n",
       " 'user thegreatawak user deal kazarian mafia jk connect along adelson know great thing expens pizzagatelsr wwg1wwga trump2020 thegreatawaken draintheswamp',\n",
       " 'demdeb vice presid biden infant care expens state public colleg tuition half countri',\n",
       " 'user user also victim david offic run busi sinc march 15 flew back colorado came back wilmington delawar joebiden sunday victim make money govern check discourag work',\n",
       " 'user user lol quit project democrat sound point wake think state everyth democrat right get wrong wow trump2020',\n",
       " 'user user user told trump control communist leagu london may 2018 sept 2020 trump made lot aggrav mistak',\n",
       " 'user idea curs trump joe far stronger person peopl honestli part noth polici show biden would presid',\n",
       " 'user wait see trump2020',\n",
       " 'cat made way watch demconvent joebiden http',\n",
       " 'night elizabeth warren becam presid demdeb',\n",
       " 'user user user user user user user user person glad see peopl protect fellow man properti prove snowflak agenda defund polic joke trump2020',\n",
       " 'user young voter need support young voter help save earth heard trump say got rid environment regul make cheaper car biden want take action save earth pleas get involv planet',\n",
       " 'user user user proof trump derang syndrom real td orangemanbad democratshateamerica trust democrat metoo huckster blackfac hypocrit everyth racist clown democrat ideolog distract amp self destruct blexit paw patrol kag http',\n",
       " 'user user user delusion old hag 8 week choos america freedom social trump2020',\n",
       " 'biden harri 2020 elect restor soul america usa shirt biden harr http',\n",
       " 'accord doc review nytim industri group repres world largest chemic maker fossilfuel compani lobbi influenc us trade negoti kenya africa revers strict limit plastic biden2020 http',\n",
       " 'user fat fake flopper look like jame harden level flop maga kag',\n",
       " 'user never forget give biden inch presid',\n",
       " 'user user user user user user user user user user user see kind loyalti support creepi biden trump2020',\n",
       " 'user pleas follow back maga',\n",
       " 'user user attempt sway religi mind q follow away movement argument bogu easi poke hole infiltr win trust divid wiser wwg1wga',\n",
       " 'user user user user user user user user user user user user user good morn happi friday follow rt votebluetosaveamerica',\n",
       " 'user user peopl support trump age terribl',\n",
       " 'absente ballot vote mail thing like aca obamacar damn thing hope blow mind vote vote votebymailearli votebymail absenteeballot savethepostoffic savethepostalservic votebymail2020 votebluetosaveamerica',\n",
       " 'sexual tension gayl king joe biden palpabl demdeb',\n",
       " 'black woman lot think also democraticconvent demconvent',\n",
       " 'user user user user user abcnew user media vi vi correspond anchor report etc must call politician amp surrog immedi fillerbust lie omit amp stretch truth 2020elect voteblu http',\n",
       " 'user user viru came wuhan pleas quiet dont need anymor cnn news trump2020',\n",
       " 'elizabeth want clear still much democraticdeb',\n",
       " 'reason watch debat last night want watch two senil shitbag argu futur said reluctantli unfortun vote biden debates2020 http',\n",
       " 'user mean hunter brother biden famili tie global corrupt tax evas launder sex traffick sort',\n",
       " 'user user user want go trump would love noth reboot economi democrat refus gover aid reopen part economi trump might look good show alot peopl look',\n",
       " 'okay democrat massiv throng peopl gather place hour shoulder shoulder social distanc day day across countri full support okay assum fine person vote elect day 2020elect',\n",
       " 'vote ew berni primari vote either primari ew look bad demdeb',\n",
       " 'user user understand biden elect trump elect want make windfal gift trump2020 alway kept promis trump2020nowmorethanev maga walkaway trumptrain follo4follo kag freedomofspeech buildthewal voteridnow freedom',\n",
       " 'watch fair share convent speech biden accept speech easili one best ever seen tier ted kennedi dream shall never die knock park much better expect dnc2020 demconvent',\n",
       " 'user proud bulli maga http',\n",
       " 'power alway think great soul vast view beyond comprehens weak god servic violat law presidentjohnadam letter thoma jefferson februari 2nd 1816 votetrumpout votebluetosaveamerica http',\n",
       " 'biden quip fox news decid vp campaign say joke joebiden realiti idea handler chosen vp run mate yet embarrass democrat derang http',\n",
       " 'warren berni support go benefit one centrist like biden though may disagre one would better nomine let get perspect demdeb',\n",
       " 'jame corden respons user speech user user ridinwithbiden fucktrump http',\n",
       " 'unauthor biden harri light project termin tower unit steelwork union ahead debat http',\n",
       " 'user alway close race absolut stupidest voter american democrat canadian liber tonight democrat pull ahead primari join rank todaysdemocrat trump2020',\n",
       " 'user hay dummi matter die state countri rememb respons good bad new york death death along 160 000 top user far better leader votebluetosaveamerica',\n",
       " 'user focu gotv effort join biden campaign local one volunt mani remot opportun home make sure circl peopl regist make plan encourag other circl votebluetosaveamerica',\n",
       " 'user moment mission biden2020',\n",
       " 'user third choic choos america dumptrump bluewave2020',\n",
       " 'unbeliev blm okay bc say polic live matter graffiti trump fault user trump2020 http',\n",
       " 'user thank mr peretti thank mr peretti time mr peretti thank mr peretti democraticdeb demdeb http',\n",
       " 'q100 day trump2020 trump2020landslidevictori trumpnowmorethanever2020 100daysdemocratswaterloo get trend trendingtop trend2020 trendnew trendnew http',\n",
       " 'user bother irrelev even 2016 demconvention2020 democraticconvent demconvent http',\n",
       " 'user biden agre neither trump follow would anyth bitch cours trump also drug test never agre',\n",
       " 'left want get rid nuclear famili adher rigid state control everi aspect life trump2020',\n",
       " 'dnc coward mani like rt give hero uniform dnc2020 http',\n",
       " 'slight smug smile biden face whenev trump talk give much life thing like biden go take shit trump love love love debates2020',\n",
       " 'probabl end bash tv dnc tonight lunat',\n",
       " 'user need walk tonight debat introduc joe biden born rais scranton penn believ hard honest work believ pay share incom tax',\n",
       " 'user thank user state violat feder law receiv feder fund dem tri steal 2020elect say sanctuari polici draconian lockdown mail vote nomailinvot kag2020 trump2020 http',\n",
       " 'user user user democrat mayor governor allow mayhem biden support democrat mayor governor antifa blm terrorist joe biden america lose trump2020 wewillwin',\n",
       " 'kind point http',\n",
       " 'user user user user communist live russia user support anarchist amp destroy co rebuild socialist research past news vote red across board user user user user oann maga kag2020 denver colorado coloradofir',\n",
       " 'take biden bloomberg day demdeb',\n",
       " 'user votebluetosaveamerica vote',\n",
       " 'user anoth compani chase democrat run state culp2020 save wa redwav',\n",
       " 'user like satan made eve believ friend told eat appl tree knowledg trump likewis ask us trust best interest mind leav appl tree voteblu',\n",
       " 'report biden set announc v p pick week action tell user america need pick user warrenforvp biden2020 http',\n",
       " 'user decid spill wealth blood gold help clean beenie2020 debatenight',\n",
       " 'think lowbal 37 wwg1wga trump2020 phonykamalaharri sleepyjo sayhisnam http',\n",
       " 'user everi time hear amaz bad ass huge heart presid speak see children save cri restor beauti countri back intend american everi color shape size wwg1wga trump2020',\n",
       " 'user user user user user user user user user user user user user user user user user user trump2020landslid kag prevent democratdefecationapertur voteoutalldemocrat san francisco street filthi infecti diseas expert compar sf dirtiest slum world http http rampant crime homeless',\n",
       " 'user user put black women usernam monolith crew problem alreadi dnc alreadi count poc vote blindli dem jack sh us chang b tch black woman view 2020elect',\n",
       " 'sinc candid spit stump line base audienc alreadi mind made debat elimin process wast time fuel fire hate election2020 trump biden',\n",
       " 'biden amp trump debat tonight amp listen go back n fourth could make brain melt giberish amp lie',\n",
       " 'peopl peopl bidenharris2020 theupris dnc2020 http',\n",
       " 'http 18 american friend pl make sure ur regist vote get trump offic',\n",
       " 'user like joe kamala would torn trump apart say lot world one debat still hope sake america biden win',\n",
       " 'biden commit choos femal vp demdeb',\n",
       " 'user user user user user user user republican one show exampl said small percentag kkk member blame everi peac protest looter hypocrit trump even condemn white supremaci',\n",
       " 'user user amen like one friend anyth alway say someth crazi amp get fight still help love god bless donald j trump trump2020',\n",
       " 'user biden let america know chump american want coward run show biden bow trump biden bow entir world walk',\n",
       " 'peopl cast vote berniesand ballot someth demconvent dnc2020 democraticconvent democraticnationalconvent',\n",
       " 'millionaireberni three home scream gesticul wealthi rich demdeb',\n",
       " 'wear rosari around wrist memori son wire bat shit crazi fool bidenwon joewir debates2020 http',\n",
       " 'user user thank mr presid americafirst kag trump2020 lawandordernow teamtrump',\n",
       " 'user human hope leadership charact exud demconvent made proud american also cri mani time count',\n",
       " 'turn new apart sinc place biden harri sign front suck',\n",
       " 'berni say want work republican bernout go lose thier ever love talk point accept work republican good actual demdeb',\n",
       " 'user good friend mine popular vietnames immigr told know singl asian vote joebiden great american absolut despis thing socialist communist',\n",
       " 'vote candid pledg provid door bathroom stall shower curtain camp bulli realli littl thing democraticdeb',\n",
       " 'back teeth corrupt lawless riot loot burn smash liber democrat incompet trump2020 http',\n",
       " 'say binder women take shot democraticdeb',\n",
       " 'love senat john kennedi even googl find joebiden day tucker',\n",
       " 'republican convent featur racist anti lgbtq activist con men even count tripl threat presid user rnc2020 http',\n",
       " 'user watch chase bunch misinform fun total unawar happen politician got caught worst polit scandal ever thing focu hate quit humor trump2020 maga wwg1wga best yet come',\n",
       " 'user user user ridinwithbidenharri vote dumptrump trumpgenocid trumpgolfsamericansdi trumpliedamericansdi',\n",
       " 'lol everi time hear build back better wish make america great hahaha maga buildbackbett demconvent demconvention2020 democraticnationalconvent',\n",
       " 'joebiden get one speech without mention deceas famili member one new twist biden say trump call deceas son beau sucker shameless',\n",
       " 'want man keep expos pedophilia child traffick elit want dead saveourchildren qanon thegreatawak q newag pizzag http',\n",
       " 'trump2020 middl east achiev first israel muslim countri peac accord 3 decad accomplish user obama saturdaythought voteredtosaveamerica promisesmadepromiseskept donothingdemocrat votedemsout http',\n",
       " '1000 boat show trump boat parad lake hamilton hot spring arkansa today redstat maga user user http',\n",
       " 'jacquelyn brittani nomin joebiden everyth',\n",
       " 'user user user user mani black peopl kill black peopl whole raciat narr complet blown water look number dont let stop u loot arson trump2020',\n",
       " 'user thank leadership unpreced time effort welcom votebluetosaveamerica',\n",
       " 'user make whole even mean demdeb covid19',\n",
       " 'user user miss lgbqt veteransagainsttrump werespectourvet votebluetosaveamerica',\n",
       " 'user 4 year maga respect presid http',\n",
       " 'user aww old parson aman race hope peopl think racist truli hahahaha today 3 2 1 year ago oh ya electiontim donthecon fakenew pardon4vot votebluetosaveamerica foxnew fakepresid',\n",
       " 'stand trump trump2020 http',\n",
       " 'user user user rich love trump2020 maga',\n",
       " 'user user user vote biden green vote hurt biden problem tri help biden win lol almost think goal http',\n",
       " 'court say epa er block agenc grante serv board http impeachtrumpagain votebluetosaveamerica',\n",
       " 'user liter point articl provid new inform regurgit useless sound bite narr memo hill got lazi one votebidenharris2020 voteblue2020',\n",
       " 'user user racist user maga viru destroy countri user vaccin votebluetosaveamerica trumpliesamericansdi http',\n",
       " 'look forward candid spotlight tennesse democrat parti tell fight flip last republican held senat seat davidson counti voteblue2020 tenleg http',\n",
       " 'understand democrat might enjoy appreci gestur allow nevertrump republican speak dnc tonight mission thank us bidenharris2020',\n",
       " 'user user distract trump end stage antic none matter poison lie flail man face failur divorc file chapter 11 must vote overwhelm number must end fail experi consequencesfortrump biden2020',\n",
       " 'case anyon clear commit lol bidenharris2020 demconvent d20 wrightforbiden ridinwithbiden mvpharri vadem dpvadeleg http',\n",
       " 'user time come realiz trump interest elect amp trump care less anyth anyon els trump say amp anyth think secur elect even endang peopl live http',\n",
       " 'trump debat narrat fuck lmao debates2020',\n",
       " 'major theme demconvent covid 19 economi black live matter biden polic reform may kid think peopl readi cop good fact bad one identifi prosecut period nexstardc',\n",
       " 'trumpcult aunt told mom celebr vampir kill children drink blood order stay young actual fuck wrong crazi told lay youtub votebluetosaveamerica',\n",
       " 'user user user user user user user user user user user user thank ben let see bluewav',\n",
       " 'oh mayor pete know decrimin mean websit demdeb',\n",
       " 'user user immatur idiot protestor ever wit unbeliev annoy hope keep everi time see know creat vote trump maga trump2020',\n",
       " 'user user user user lyingelis cocaineconvent score blow yet hey guilfoylechalleng would fun votebluetosaveamerica',\n",
       " 'user must anoth dementia moment ment say user whoop ass novemb go keep make america great trump2020 maga',\n",
       " 'user user user user user user user noth disproven delay ever ask biden harri candid poll badli toward end 2019 news broke hunter suddenli elect interfer investig realli http',\n",
       " 'user user trump draft dodg coward betray troop',\n",
       " 'trump nomin nobel prize third time biden get nomin http',\n",
       " 'user user user user user user user user user user user user user user user user user user user user follow back twit desecr twitter know strong togeth unitednotdivid wwg1wga trump2020nowmorethanev http',\n",
       " 'user sorri trump fault stop watch user racist given minor countri job ever economi grow sinc cnn tell made 4 8 million job trump2020 stopfakenew',\n",
       " 'user user met whitmer deliv dnc respons sotu popular michigan articul readi day 1 presid need think may sleeper pick would popular one mani biden2020',\n",
       " 'user user take red pill brexit trump2020',\n",
       " 'user user execut order mean anyth trump fail leader possibl felon day offic come end biden2020 votebluetosaveamerica http http',\n",
       " 'user user user user user user user user user user user like trump like war du loke presid start war debates2020',\n",
       " 'thank mr presid iranian love continu project overthrow mullah becom legend someon chang histori savenavidafkari اعدام_نکنید آزادشان_کنید kingdomwithpahlavi user user trump2020 maga trump http',\n",
       " 'parti peopl trump2020 http',\n",
       " 'maxwel http',\n",
       " 'fuck klobuchar mutter kobe name black peopl like klobuchar demdeb',\n",
       " 'user user guarante trump elect super major maga',\n",
       " 'user get lost trump crimin amp traitor biden kill 200k fail lead sold countri putin lie amp cheat way wh destroy america stand bribe dictat line pocket talk http',\n",
       " 'ever incumb run neg campaign everi time open mouth biden biden biden 45 run next four year',\n",
       " 'trump lose control rnc mail vote conspiraci meltdown http',\n",
       " 'nobodi would health insur user get way would health care demdeb democrats2020 demdeb democraticdeb',\n",
       " 'atheist singl man polit independ alway feel like republican never want vote messag god god famili famili worship god famili demon earth enemi rnc2020',\n",
       " 'trump get roll lie come fast furiou take paragraph detail read fact check rnc accept speech link http',\n",
       " 'http sign iowa may competit deep concern economi dissatisfact trump handl coronaviru chang dynam race sever recent poll show close race trump joe biden biden',\n",
       " 'ppl hoard tp hand sanit etc set make shift hospit quarantin ny shut curfew flight countri anywher basic user user existenti threat america ok gotta say trumppence2020 demdeb',\n",
       " 'nation deleg proud partner user conven latino leader across countri virtual democrat convent seri event thursday aug 13 2 00 p et regist http',\n",
       " 'user biden plain get unemploy 4',\n",
       " 'user silent major must reign gotta get amp vote get everyon know vote trump2020 trumppence2020 sleepyjo',\n",
       " 'user imagin like glad none famili amp friend like peopl gone would actual feel sorri attack toddler trump2020',\n",
       " 'user open america democrat governor love lockdown keep unemploy high blame trump win elect hate america destroy america peopl voteredtosaveamerica2020 trump2020landslid trump2020',\n",
       " 'hope product debat tonight win countri bloomberg stop racist sexist billionair pleas banbillionair wealthtax demdeb',\n",
       " 'user user joy need stop call christian clearli fall fals narr support modern democrat christian entir platform extens vile marxist idea need fought coddl bishop strong trump2020',\n",
       " 'user user brought eric user cure td yet maga trump2020 http',\n",
       " 'user unaccept lie dnc democrat joebiden',\n",
       " 'cant wait watch biden debat',\n",
       " 'user user bullshit knew viru decemb not_a_democrathoax innoc man ever held back document amp wit could clear resistlyingdonni votebluetosaveamerica blind patriot patriot dumb',\n",
       " 'protest get old serious loot riot tear major citi moron tri prove justifi death certain black peopl told peopl lol trump2020',\n",
       " 'glad call polic trend truli show blm social justic activist burn peopl busi livelihood loot amp kill mani peopl includ black american david dorn italia kelli dave underwood etc trump2020',\n",
       " 'user never kind violenc hate divis trump2020',\n",
       " 'hypocrisi finest negat high ground thought say fund pac billionair offer golli take demdeb http',\n",
       " 'user user user funni sell fear trump leav offic lose yet want joe never conced think left get hypocrit surpris maga2020 trump2020 kag2020',\n",
       " 'rememb pinki ice cube movi next friday dem pinki last night ag barr craig sent shut say anoth word ask question love hear speak trump2020',\n",
       " 'user america reject go back russia venezuela need leadership trump2020',\n",
       " 'watch live trump biden debat first time http',\n",
       " 'user user way biden 64 trump 24 joe mechan 32 joe number',\n",
       " 'need tax code reward wealth reward work user dnc ye',\n",
       " 'democrat nation convent democrat formal nomin joe biden us presidenti candid demconvent http',\n",
       " 'user user user let go south carolina lindsey go take civilright healthcar votingright job votebluedownballot southcarolina debates2020',\n",
       " 'anyon know purchas evalongoria dress dnc2020 would love get wife http',\n",
       " 'break news trump name proxi debat skeepi joe maga sleepyjo http',\n",
       " 'lock user postal servic trumpvotersuppress savetheusp voteblu http',\n",
       " 'joebiden gain 3 943 twitter follow last 6 hour 0 0626 increas current count 6 302 486 follow 2020elect',\n",
       " 'user way bring attent import issu blackwomen votebluetosaveamerica americaortrump biden pressur shatter cement ceil name black woman run mate vanessa william sean sullivan http',\n",
       " 'demdeb user kkk friend senat byrd lynch justic clarenc thoma',\n",
       " 'accus terrorist pic use evid qanon http',\n",
       " 'happen right front busi burn trashcan notic globalreset endoftim endofcapit trump2020 distract marxism collectiv http',\n",
       " 'minnesota nonprofit 35m bail accus violent crime http',\n",
       " 'user good laugh rest us user buffoon debates2020',\n",
       " 'user trump republican mess mail state would happen sure enough harri biden pelosi schumer caus mess surpris',\n",
       " 'oh god tell user trumpisacompletefailur trumpisalaughingstock trumpisatraitor votebluetosaveamerica resist portlandstrong trump rnc accept speech draw less viewer biden address http',\n",
       " 'bitch date black men support trump wtf wrong',\n",
       " 'ima take shot everi time biden stutter tonight',\n",
       " 'food fight nevada corral demdeb democraticdeb bernie2020 warren2020 http',\n",
       " 'user afford user anymor cost 150 000 dead wreck economi much bluewav bluewave2020 votebluetosaveamerica2020 votebluenomatterwho votebluetoendthisnightmar',\n",
       " 'devil work hard kany west http',\n",
       " 'user user condemn marxist domest terrorist group antifa blm wast dang time qanon user kag http',\n",
       " 'user idea full crap russia love traitor go back moscow stay biden2020 http',\n",
       " 'desper loser cultist http',\n",
       " 'save day msnbc laud presidenti biden best night top game demdeb http',\n",
       " 'user still noth accomplish joebiden',\n",
       " 'user wow asshol come color gender trump2020',\n",
       " 'user user user user user user user user user user user user user user user user user user user user follow sever new patriot need follow back user user user l user user user patriotsunit trump2020 wearetrump',\n",
       " 'think peopl spent much time work job help get america go spend protest faux outrag protest vote person said said trump2020',\n",
       " '7 rhode island men arrest rape 16 year old girl 1 suspect loos polic say fox news maga http',\n",
       " 'user feel want hear biden loath sound trump voic',\n",
       " 'prep democrat debat tonight democraticdeb http',\n",
       " 'joe biden berni sander pleas america last boomer adjac presid also joe biden berni sander pleas america presid votebluenomatterwho',\n",
       " 'user go cut payrol tax biden done revers year today yesterday stock market creat job stock market put food tabl votebluetosaveamerica votebymail2020 imwithjo',\n",
       " 'make angri across globe watch happen see connect terrifi anyth beg everyon vote vote trump pleas futur futur',\n",
       " 'user user user come get organ everi trump pressconfer aka campaignev amp everi ralli follow immedi senior democrat hold news confer settherecordstraight 2020elect toobigtorig',\n",
       " 'liber must think militari stupid never presid love respect militari trump fightback wwg1gwa patriotpray freekylerittennhous godwin god trump2020 vetsfortrump veteran woundedwarrior patriot',\n",
       " 'user user biden',\n",
       " 'even destroy beauti rose garden still hous cannot use polit gain rnc2020',\n",
       " 'join us perhap may abl help solv mysteri demconvent http',\n",
       " 'joe biden becom offici democrat presidenti nomine point presumpt democrat nomine demconvent',\n",
       " 'user user research vote cast yet fuckcreepyjo trump2020',\n",
       " 'kind govern want spend 2billion build unnecessari new fbi bldg pandem instead pay unemploy check 600 give govern run superrich gop member want keep u like support trump continu',\n",
       " 'user full lie dnc one want hussein third term',\n",
       " 'hey resist start hope lot rememb help would appreci hate trump like full time job vivatheresist ridenwithbiden votebluetosaveamerica',\n",
       " 'fuck donald trump fuck fuck fuck',\n",
       " 'user user user user better pack bag gonna loooooong 4 year snowflak trump2020 4moreyear http',\n",
       " 'red wave come redwave2020 trump2020 http',\n",
       " 'user think debacl 2016 worst corrupt elect interf russia tri year want paper vote get machin stupid voter suppress votebluetosaveamerica',\n",
       " 'demdeb ff would appoint woman vp run mate ye let includ women strateg asset know rather person qualifi',\n",
       " 'user user elizabeth warren brought 10 blade stage tonight amaz debatenight debat warren warren2020 democrats2020 democraticdeb senatorwarren user votethemallout2020 votebluetosaveamerica votebluetoendthisnightmar votebluetostoprussiasgop',\n",
       " 'user user let tri imagin besid um know thing listen mean hundr year um joke got hairi leg thing know thing biden2020 http',\n",
       " 'user joebiden know suffer dementia spell talk slur welcom new approv mental ward http',\n",
       " 'user presid trump play chess yesterday execut order would check nov 3 2020 checkmat next 4 year go like 2 minut warn game user win trump2020',\n",
       " 'user user user realli embarrass user comment zero fact zero research 100 emot respond seriou issu go vote sleepi joe trump2020',\n",
       " 'user user user follow rnc direct gaslight use china today lyinghypocrit votebluetosaveamerica',\n",
       " 'user hey son user user go drop rnc kick tonight would ventur say good day today user gop gopconvention2020 trumpchao trump',\n",
       " 'user user think wear silk underp votebluenomatterwho',\n",
       " '3 happen easi trumpisanidiot trumpisacompletefailur lesson america user trust actual lead let alon wartim presid trust countri votebluetosaveamerica',\n",
       " 'gonna lie dig sen warren woman word plan mouth pleas dnc2020',\n",
       " 'user say two folk call unfit presid joebidenkamalaharris2020 joebiden',\n",
       " 'user user democrat want defund polic leav citi control vandal crimin blm trump trump2020 maga kag2020 fourmoreyear maga2020',\n",
       " 'user user polit comment bias presidentialdebate2020 debat debates2020 debatetuesday byerudi chri wallac walkaway demexit blexit kag maga2020',\n",
       " 'memento year campaign democrat regret everi minut spent walkaway bidenriot trump2020 http',\n",
       " 'user user user think realist right nation state ballot inde increas voter turnout young older voter 2020elect',\n",
       " 'biden accept speech dnc 24 6 million viewer trump accept speech rnc 21 6 million viewer trump rate everyth lost lose novemb peopl vote votebluetosaveamerica http',\n",
       " 'biden pick california senat kamala harri run mate votethemout voteblu saveamerica traitortrump treasonoustrump putinspuppet trumputin http',\n",
       " 'one polic offic shot antifa blm thug die thug given death penalti broadcast execut tv antifa blm thug learn fk polic fuckblm fuckantifa bluelivesmatt trump2020',\n",
       " 'patriot help need 99 999 740 follow reach 100 million get ugli ass rubi plaqu trump2020 trumptrain patriot murica usa http',\n",
       " 'user get vote democrat god remov everyth arrest wear mask polic chao everywher mr presid win big troubl trump2020 trump2020landslid',\n",
       " 'conserv govern rob british taxpay blind reward 45 approv rate wtf torycorrupt',\n",
       " 'user f k mccarthi bidenharris2020landslid bidenharris2020 kamalaharrisvp trumppressconfer gopcorruptionovercountri gop buildbackbett',\n",
       " 'latino amp support presid trump amp vote novemb 3rd 2020 trump2020 rncconvention2020',\n",
       " 'hand sign physic distanc style seven lake hs tonight fire readi go user user user user user user user user texa txlege vote voteblu voteblue2020 http',\n",
       " 'user user happen intrumpsamerica votebluetosaveamerica',\n",
       " 'user user perform trump realli afford anoth debat allow trump continu interject biden success show trump speak coher follow train thought lie incessantli well done joe biden champion',\n",
       " 'user organ threaten violenc shot basebal field full republican presid trump problem demdeb',\n",
       " 'user issa like lie best part us citizen 3 month see refus acknowledg think peopl dumb freedom gottavotetrump trump2020',\n",
       " 'user surpris biden still use wire headphon',\n",
       " '13 biden former rival appear togeth democrat convent http',\n",
       " 'number women qualifi presid tomorrow joe biden commit pick woman vp guess woman end choos veep slate democraticdeb http',\n",
       " 'user tool truest sens trump2020 kag',\n",
       " 'user user user user biden ask break meet foreign leader',\n",
       " 'actress comedian julialouisdreyfu moder final night fire string one liner lighten earnest tone democraticconvent nomin joebiden white hous http',\n",
       " 'great speech pump voteblue2020',\n",
       " 'user melania wear russian uniform announc true love comrad putin dumptrump',\n",
       " 'user user nope strategi ruin countri trump2020',\n",
       " 'user fake doctor right wing dupe parti look close word match speak votebluetosaveamerica user america',\n",
       " 'user even get brief open speech without lie giant downer trumpislos trumpthreatensamerica dumptrump votebluetosaveamerica bidenharrislandslide2020',\n",
       " 'user gotta love hypocrit trump2020 maga2020 democratsaredestroyingamerica byerosi http',\n",
       " 'user user trump2020 get fortnit kid right way america',\n",
       " 'final user point differ biden democraticdeb demdeb',\n",
       " 'f n way http covid19 coronaviru votebidenharristosaveamerica votetrumpout votebluetosaveamerica',\n",
       " 'user user user user user user wrong trump stood like past amp claim ignor know variou racist group like proud boy could care less faction latino leader stfu dog whistl stand clear day trumpisaracist',\n",
       " 'maga friend jeff user new yt channel polit rant w jeff cancelcultur left creat claim everyth racist hate come left truth click link amp subcrib http',\n",
       " 'ok mani bs trump twitter bash creat via gang see 30 min speech go leftist leftisbest left democrat democrat democraticresistancetaskforc democraticdeb femanist idiot atyp emotionless agenda driven bs lol http',\n",
       " 'remind hard love biden vp demconvent',\n",
       " 'williebrown wrote harri test proven campaign work backsid get biden elect argu includ presidenti ticket obvious huge honor glori would short live kamalasalbatross dnc',\n",
       " 'vice presid joe biden plan roll portag counti wednesday part presidenti campaign http',\n",
       " 'user think wash trump allow finish answer question respond biden falsehood biden allow prate falsehood lie deflect avoid wallac blew presidentialdeb debate2020 debat trump2020 maga',\n",
       " 'almost elect time american oversea decid voic take back senat white hous 2020elect votingissexi gotta regist vote first find http',\n",
       " 'user world go sh real quick blmterrorist trump2020 homi',\n",
       " 'user god bless democrat democrat american blood hand',\n",
       " 'user stop user know tri say trump2020 everyon talk chicago vote trump paint citi red',\n",
       " 'up energi biden sound angri inspir angri demdeb',\n",
       " 'user love mr presid keep great work trump2020',\n",
       " 'stop kamelaharri aintit joebiden joe joebiden2020 biden2020 biden kamelaharri hollywood beach http',\n",
       " 'think tho time guy think america readi women presid think vice presid im sure presid tho debat',\n",
       " 'user see alot accus accus accus here fact fact fact trump2020',\n",
       " 'tonight user refus denounc white supremaci user would refus anoth debate2020 point choos vote trump',\n",
       " 'break joe biden get requir deleg becom democrat candid presid abc news via user http',\n",
       " 'user decid vote nov 3rd live america magaforallbutdemocrat maga',\n",
       " 'user user sicken behavior parent aunt uncl pastor teacher friend one life say wrong behavior reflect poorli shame commun rise say enough continu trump2020',\n",
       " 'white silenc violenc potato tomato stuff learn colleg 250k trump2020 sleepyjo http',\n",
       " 'user user user user wow stupid miss think outsmart someon rest case maga traitorsofamerica traitorssupporttraitortrump',\n",
       " 'need immedi result biden think allow busi sit around figur profit way produc distribut test vaccin best way take care peopl democraticdeb demdeb coronapocolyps',\n",
       " 'watch rnc2020',\n",
       " 'user command chief demdeb http',\n",
       " 'user taken us edg bankruptci physic emot mental moral ethic monetarili nation patriot shudder think might final push send edg votebluetosaveamerica votetrumpout',\n",
       " 'user silenc come novemb 3 2020 outcom speak volum silentmajorityris trump2020 wisdom fear',\n",
       " '2023 social secur trump end votebluetosaveamerica',\n",
       " 'biden put good show presidenti respons covidー19 berni real plan address deep system crisi outbreak expos http demdeb',\n",
       " 'user user biden live truer word well written statement kag americafirst trump2020 user user user',\n",
       " 'tv hous flip rnc wwe bare notic differ rnc2020',\n",
       " 'live first trump biden presidenti debat moder fox news chri http',\n",
       " 'import inform us voter vote 2020elect votefordemocraci getoutthevot vote howtovot registertovot bidenharris2020 http',\n",
       " 'vote earli return person votebluetosaveamerica http',\n",
       " 'user joe biden mere quot trump appointe fbi director forget trump told white supremacist group stand nation televis',\n",
       " 'user debat stage top ramp make sure drink glass water first person man woman vote biden2020',\n",
       " 'yeah trump go win biden suck didnt even answer covid question attack trump debates2020',\n",
       " 'user user user user truth quot well known sourc user tell look votebluetosaveamerica',\n",
       " 'user still presid trump2020',\n",
       " '2020 democrat debat biden v sander best democrat offer democraticdeb demdebate2020 http',\n",
       " 'user trump pull face reveal actual joe biden whole time joe biden cri wife joe biden arm',\n",
       " 'user biden brilliant trump conced live tv',\n",
       " 'user user think tri bring obama back know unconstitut stop trump2020 releas light',\n",
       " 'donald trump fuck demon antichrist votetrumpout2020 votebluetoendthisnightmar votebluetosaveamerica votebluenomatterwho votebiden2020 votebiden onetermtrump nevertrump fdt savethepostoffic savedemocraci savedivers saveamerica savethecountri',\n",
       " 'ya nancyblowout user know want rt usual get u troubl trump2020 http',\n",
       " 'radic progress love old white shrivel liber hack swamp goat manipul draintheoldwhiteliberalswamp pelosimustgo markey draintheswamp wednesdaywisdom',\n",
       " 'user user democrat socialist marxist governor mayor respons democrat state citi mobster mode murder arsonist rapist beat elderli complet stranger incomprehens',\n",
       " 'well hell biden nail realli move speech voteblu',\n",
       " 'user mask sheep actual believ pre trump tri sabotag postal servic everi hoax partisan parti complet destroy grasp straw thank god rest countri smarter jennif trump2020',\n",
       " 'user said kobe memori let answer question pander much democraticdeb demdeb',\n",
       " 'much better spend time creativ amp vote octob make sure get time amwrit writingcommun voteblue2020 opinion want watch rnc good compani http',\n",
       " 'user basic nullifi whole joebiden press confer fridayfeel',\n",
       " 'old realiz dammit mad spell backward dammit mad biden2020 votebluetosaveamerica http',\n",
       " 'user divis weaken need unit surviv anoth 4 year trump americaortrump votebluetosaveamerica http',\n",
       " 'come platitud word salad demdeb cheatpet ratpet',\n",
       " 'user user user lol world liter go watch joe biden shit stage tonight brain even handl fuck stage interview',\n",
       " 'user high probabl least joe biden make nonsens old timey challeng physic contest strength',\n",
       " 'miss ann dorn speech earlier search youtub cannot stop cri anndorn ripdaviddorn dorn trump maga maga2020 trump2020',\n",
       " 'saw somewher borrow doubt biden gener imaginari excit actual produc demdebate2020 democraticdeb',\n",
       " 'former california senat kamalaharri wednesday said unitedst presid donaldtrump turn tragedi polit weapon formal accept histor nomin democraticparti vice presidenti candid uselection2020 uselect http',\n",
       " 'user traitor gop constitut stop fals divis help facilit even within conserv',\n",
       " 'user yeah wish think astound repub allow core parti defil like think would speak votebluetosaveamerica http',\n",
       " 'user user ye ye ye presid trump2020 iranianslovetrump iranianfortrump makeamericagreatagain http',\n",
       " 'sigh debat help one offic pure chao uggghh good 2020 voter stress real democraticdeb demdeb demdebate2020',\n",
       " 'trump like attack biden famili peopl focu main question trump like interrupt wast time import subject trump support kkk racist practic trump talk power support issu hand',\n",
       " 'user wait berni voteblu',\n",
       " 'user user sc protect serv american conserv timetogo voteblu votebluenomatterwho votebluetoendthisnightmar',\n",
       " 'elizabeth warren presid would look like elizabethwarren donaldtrump berniesand joebiden 2020elect economicpopulist democraticparti resistingtrump trumpism http',\n",
       " 'voteblue2020 getregisteredtoday gop senat deep troubl http',\n",
       " 'read sleepi j support thread bunch ill inform ignor hate peopl understand govt realiti wwg1wga truthseek trump2020',\n",
       " 'moment liz warren spoke michael bloomberg nda take prison tonight demdeb http',\n",
       " 'user good control trump2020',\n",
       " 'backstag final debat biden club trump death elect anyway pardon demdeb http',\n",
       " 'user user user ye real easi base democrat platform nonsens move toward social best like commun still like debat style last night trump loss demeanor win polici let biden talk actual help trump',\n",
       " 'clean water michigan dem run state dnc2020 biden democraticconvent',\n",
       " 'end juli joe biden continu lead presidenti race presid trump continu fall behind voter survey joebiden presidenttrump unitedst joe biden presid trump survey survey lead fall presidentialrac endofjuli attheend http',\n",
       " '1 berni top 20 screw rest us everyon stage big money demdeb',\n",
       " 'vote joe biden pleas vote vote count presidentialdeb debate2020 joebiden biden2020',\n",
       " 'trump 2020 firework must trigger protest outsid rnc2020',\n",
       " 'user idea talk come polit trump2020',\n",
       " 'user would fallen would epic endthenightmar biden2020 bidenharris2020 bluewave2020 evicttrump theresist',\n",
       " 'amaz joe biden hide basement msm dirti work amp propaganda report everyth neg trump amp report absolut noth controversi pertain biden amp cover msm big threat elect meddl',\n",
       " 'user curri breath racist everybodi block amp report user trollhunt user anonym former us militari trumptrain trumptrain2020 nojusticenopeac',\n",
       " 'good see user moder user amp user user democrat nation convent coverag tonight await user accept nomin presid unit state user user dnc 2020americadecid user user http',\n",
       " 'congratul chri win calliopean club parliamentari debat debat http',\n",
       " 'drink everi time user say number 1 number 2 demdeb',\n",
       " 'user antifa anarchist worldwid blm hijack marxist ccp democratrunc democrat refus denounc crimin activ democrat parti crimin parti support enemi home abroad media propaganda arm radic dem',\n",
       " 'user user user user think sli move farther left get move user amp user user wise like cnn amp msnbc know mani viewer done foxnew tweet turn channel maga http',\n",
       " 'user call action ban liber would speak fakenew finest video ban entir internet maga maga2020 http',\n",
       " 'user mean ye definit privileg someon outwardli racist isnt deal breaker u necessarili affect u think anyon truli biden statement trip peopl say vote',\n",
       " 'user home call idiotinchief although realli chief leader vote user november3rd support user presid time chang unitedst votethegopout votebluetosaveamerica votebiden',\n",
       " 'break news biden obama vp demdeb democraticdeb',\n",
       " 'two america one donald trump live one dad die kristen urquiza demconvent wethepeopl',\n",
       " 'user disown corpu christi texa hometown gain popular begin career list instead san antonio texa grew nope tri eva sold trump2020',\n",
       " 'user user user user user stay true vote blue trump go start new danger along trump knew',\n",
       " 'user user long republican pull stop voter suppress care poll say voteblue2020 need toobigtorig',\n",
       " 'republican trump fool 2016 2020 disdast time give trump incompet boot let improv thing bidenharris2020 vote trumpviru trump2020landslid donaldtrump gopconvent americafirst http',\n",
       " 'user omg fool cant even speak let alon know wtf talk bout trump2020',\n",
       " 'user realli hope presid stay cours let biden wander wood someth',\n",
       " 'user believ wait biden2020',\n",
       " 'user user user sit behind keyboard mansion throw stone user would love hear thought trump2020',\n",
       " 'elizabeth warren demdeb',\n",
       " 'trump claim ivanka job creation total absurd also illustr lie grow outlandish time gradual embellish trumpcrimefamilyforprison trumpresignnow lieafterli votebluetosaveamerica http',\n",
       " 'ami klobuchar walk dem debat tri impress everyon like demdeb demdebate2020 democraticdeb romyandmichel http',\n",
       " 'user user unfortun dumptrump votebluetosaveamerica votebluetoendthisnightmar votebluetostoprussiasgop',\n",
       " 'user user user user user user user user user user user user user user user user user user user user enough votebluetosaveamerica',\n",
       " 'user user joe know think governor nice hair touch smell pick vp know like like one pick promis demconvent',\n",
       " 'user trump russia much cut blackmail truth come eventu know right trumpcrimefamili votebluenomatterwho votebluetosaveamerica gopgaslight idiotbas',\n",
       " 'user user know serious charg think biden would welcom chanc show trump team fool get inspect way',\n",
       " 'user user guy find trump presidenti month trump elect trump gave state union happen profession',\n",
       " 'user love love see actual state cast vote ye undoubtedli go get littl emot delawar come back put joebiden top',\n",
       " 'power perform billieeilish dnc2020 gee patriot realli sure top satan logo endless violenc guess might well hang maga2020 hat call night sarcasm trump2020landslid trump civilwar2 http',\n",
       " 'user never anyth abl accomplish done togeth joe biden dncconvention2020 demconvent',\n",
       " 'user hero trump disrespect militari constantli',\n",
       " 'user might tell pedophil joe sinc separ wonen black women ridicul speech night trump2020landslid maga',\n",
       " 'countri world ever taken great crisi turn great opportun joe biden demdeb http',\n",
       " 'user amaz need air tv mayb pga weekend draintheswamp',\n",
       " 'biden gotta bring daddi home energi',\n",
       " 'berni twist q stump speech vs biden answer sound human sound like thought leader come someon idea prefer 2 demdeb',\n",
       " 'user presid way better aw poor excus man make america great trump2020 http',\n",
       " 'trump2020 maga stay fuck away riot lefti terrorist kill media justifi scapegoat escal twitter danc grave practic self defens willingli go place',\n",
       " 'biden tie look like someth wear scene kid 6th grade parti',\n",
       " 'user come hate rd thank support user trump2020',\n",
       " 'user happen us trump elect',\n",
       " 'run outsid day november3rd put experi behind us votebluetosaveamerica http',\n",
       " 'biden harri put andrew yang transit team cabinet labor wast major thinker transitionteam biden2020 andrewyang http',\n",
       " 'user user user hit bullsey chang trump biden shit pant chang shirt revolut need need chang system user notrump nobiden neverbiden nevertrump',\n",
       " 'user much wanna say wanna say go twitter jail call exactli votebluetosaveamerica votebluetoendthisnightmar bidenharris2020 bidenharris2020landslid bidenharri kamala biden',\n",
       " 'fake america joebiden artist illustr sketchbook draw artwork digitalart sketch doodl paint instaart fanart pencil draw anim ink pencildraw design artoftheday portrait sketch art illustr http',\n",
       " 'user mani peopl blind hatr user fake news schemer never realiz might actual answer problem let man work trump2020 trumpunleash http',\n",
       " 'one comment user cognit declin one comment biden threaten voter last week even worth mention democraticdeb',\n",
       " 'show joe biden kid good look lmfao dnc2020',\n",
       " 'demdeb america go youtub watch video berni direct peopl democraticdeb',\n",
       " 'wonder user go match joebiden pick woman vp nomin user user make kaynewest great',\n",
       " 'user contrast think presid trump much better republican right must lead unit state order unit state prevail return tradit valu trump win',\n",
       " 'democrat user believ power govern gop user believ power american peopl maga gopconvention2020',\n",
       " 'user pull stunt still c she liter gonna give whole new mean orangeisthenewblack freek wait trump2020',\n",
       " 'user user user user enough info convinc republican care votebluetosaveamerica protectourdemocraci',\n",
       " 'vote biden care freedom ownit democrat republican',\n",
       " 'user stop know darn well peopl die democrat governor amp nurs home mani health issu state pad number cash put lid creepyjoebiden disgust',\n",
       " 'user user presid trump go histori best presid ever kag thank presid trump',\n",
       " 'wait nora time thank user ad user demdeb democraticdeb',\n",
       " 'user preach sister tire white liber think know best black commun amount hate slur use simpli support trump show care black vote black live sick blacksfortrump maga',\n",
       " 'user hey dem would attend democrat unifi win votebluenomatterwho ralli c unifytowin votebluetosaveamerica',\n",
       " 'user respect call biden decent human disingenu lie easili trump lie want cut ss exist wmd oppos iraq war veto m4a despit pandem roll back bankruptci protect creat student debt crisi',\n",
       " 'india oldest democraci part background kamala harri say root shape joebiden pick kamalaharri vice presidenti run mate http bidenharri biden2020',\n",
       " 'user user user user user user user mel brook movi promo say slowli understand ridicul sp ace ca mo oxymoron like choic amazingli aw fight dark light wtf keep make us laugh stock world votebluetosaveamerica',\n",
       " 'product segment aw demconvent',\n",
       " 'user user worst thing joe biden might wear hear aid worst thing donald trump might beg worst enemi help steal elect',\n",
       " 'user glad expos go bet one hundr thousand head snake user grant draintheswamp full snake realli fastest safest way stop mess take',\n",
       " 'r tard fan orang f ggot sent http suppos happi trump appeas k ke n gger f ggot ignor white base maga ass',\n",
       " 'demdeb believ black voter embrac user guy still live 20th centuri msnbc chrismatthew',\n",
       " 'user joke nation virtual evenli divid everi vote real fake lost count ever fightvoterfraud voterfraud trump2020 real talk peopl bring across aisl user',\n",
       " 'go berni gt http berniewonia berniesanders2020 berniesand bernie2020 healthcareforal climateactionnow presidentberniesand womenforberni iacaucu berniewon demdeb demdeb petesbillionair democraticdeb http',\n",
       " 'republican parti racist soulless ask veteran gop strategist http',\n",
       " 'user user user user user peopl rail user podium without mask hypocrit trump2020',\n",
       " 'love power hate hope power fear light power dark joe biden demconvent',\n",
       " 'rnc2020 mitch tell us democrat tell us live drive what polici cut 600 ppl ppl get evict hungri',\n",
       " 'user user user user user deplor user correctli told america wakeup voteredtosaveamerica2020 amp movehimout trumpisbrok trumpisnotabillionair trumptax trumpfascist trumpcoupplot trumpracist trumpresignnow trumpcrimefamilyforprison noth maga trump voteblue2020',\n",
       " 'kamala harri becom first black woman first woman asian descent appoint vice presid candid read http joebiden uselect blackwomen whitehous opoyi',\n",
       " 'anyon left wonder watch tune rnc2020 spite covid still felt like dnc2020 kept tradit seem like convent energi hope futur energi rnc bidenharri election2020',\n",
       " 'user still tri decid whether vote joe biden chri wallac',\n",
       " 'user user user dumb fact fbi site show zero result qanon domest terrorist fals claim prove fakenew lurk http',\n",
       " 'caus donald trump awesom trump2020 http',\n",
       " 'user happi labor day famili thank happylaborday laborday trump2020 fourmoreyear',\n",
       " 'user user biden could nadler left still gush prais',\n",
       " 'user joe biden scare littl babi chicken happen need convers w world leader run cri loser democrat loser pick biden2020 biden2020tosaveamerica',\n",
       " 'user user peopl new york cri peopl state listen nobodi want listen ny lib 125 000 americsm dead mayb us voter enough proof right trump famili complicit user votebluetosaveamerica',\n",
       " 'user user much childish nonsens understand mess like wake peopl idioci left woke walkaway trump2020',\n",
       " 'user shiney fluoresc thing pleas thank advanc pictur destruct asshol wear thiscoolasfuckshit ripleftey alllivesmattt fullmoon 2020vision saveourchildren saveyourselv trump2020 godwin http',\n",
       " 'user mayb nomin presid one fall way short shegotitright jayap dncplatform joebiden',\n",
       " 'user user votebidenharris2020 enjoy upbeat bluesi short 1 36 pro biden ditti kamala joe get rave share followblueback voteblu http',\n",
       " 'team biden',\n",
       " 'user new account pleas follow us support presid trump maga trump2020',\n",
       " 'user liter talk joe biden strategi get wrong sure fox trump gosh media bia make mad twitter give enough charact rant kind stuff',\n",
       " 'user rich rapist want sure still hide among dnc look forward receiv confirm dnc wait assur rapist ye rapist welcom dnc rapist alway succeed utmost respect dnc',\n",
       " 'user anyth everyth tri get rid know truth everyon know truth trump2020 foxnewssuck',\n",
       " 'equiti vs equal let stop talk get free let remov barrier voteblu blacklivesmatt dotherightth justiceforal educationforal healthcareforal opportun buildbackbett http',\n",
       " 'user trump win novemb continu blame barack obama hillari clinton nanci pelosi amp chuck schumer mistak amp gop made first term get wors better votebiden votebluetosaveamerica',\n",
       " 'kamala harri describ moment got call biden kamalaharrisvp bidenharris2020 votebluetosaveamerica http',\n",
       " 'user user blame trump death took advic doctor forget close us china come jan 31 biden said xenophob record pelosi went chinatown said trump racist deblasio also said racist',\n",
       " 'select user user continu surround power women user user user user user excit polici possibl leadership open paidleav brainhealthequ bidenvp biden2020 http',\n",
       " 'excit hear hunter biden famili demconvent http',\n",
       " 'user still talk trump get sonnyboy go win trump2020',\n",
       " 'user thank check biden2020',\n",
       " 'thought bad lie came like rnc2020',\n",
       " 'user exactli user must vote person user user user trump2020 maga user kag trump']"
      ]
     },
     "execution_count": 237,
     "metadata": {},
     "output_type": "execute_result"
    }
   ],
   "source": [
    "#x_clean"
   ]
  },
  {
   "cell_type": "markdown",
   "id": "f0a99734",
   "metadata": {},
   "source": [
    "## Vectorization"
   ]
  },
  {
   "cell_type": "markdown",
   "id": "11b73ef7",
   "metadata": {},
   "source": [
    "#### x"
   ]
  },
  {
   "cell_type": "code",
   "execution_count": 252,
   "id": "4ac36884",
   "metadata": {},
   "outputs": [],
   "source": [
    "from sklearn.feature_extraction.text import CountVectorizer"
   ]
  },
  {
   "cell_type": "code",
   "execution_count": 253,
   "id": "8d5480d5",
   "metadata": {},
   "outputs": [],
   "source": [
    "vect =  CountVectorizer(ngram_range=(1,2))"
   ]
  },
  {
   "cell_type": "code",
   "execution_count": 254,
   "id": "d04e4148",
   "metadata": {},
   "outputs": [],
   "source": [
    "x_vec = vect.fit_transform(x_clean).toarray()"
   ]
  },
  {
   "cell_type": "code",
   "execution_count": 168,
   "id": "4b6e5b37",
   "metadata": {
    "collapsed": true
   },
   "outputs": [
    {
     "name": "stdout",
     "output_type": "stream",
     "text": [
      "['00', '00 2020', '00 et', '000', '000 americsm', '000 dead', '000 dow', '000 soul', '000 top', '0626', '0626 increas', '10', '10 20', '10 blade', '10 hr', '10 point', '10 say', '100', '100 emot', '100 gone', '100 million', '1000', '1000 boat', '100daysdemocratswaterloo', '100daysdemocratswaterloo get', '10x1000', '10x1000 live', '11', '11 must', '11thhour', '11thhour bidenharri', '125', '125 000', '13', '13 00', '13 biden', '13 million', '13887', '13887 prepar', '14', '14 mile', '15', '15 flew', '150', '150 000', '1500', '1500 peopl', '16', '16 http', '16 never', '16 year', '160', '160 000', '17', '17 time', '18', '18 2020', '18 american', '1816', '1816 votetrumpout', '18th', '18th 2020', '19', '19 biden', '19 deathocrat', '19 economi', '19 factor', '1984', '1984 us', '1a', '1a liber', '1st', '1st bill', '1st done', '20', '20 say', '20 screw', '20 youtub', '200', '200 000', '200 million', '200k', '200k american', '200k dead', '200k fail', '2010', '2016', '2016 2020', '2016 demconvention2020', '2016 seen', '2016 thisweek', '2016 worst', '2018', '2018 midterm', '2018 sept', '2018 woman', '2019', '2019 news', '2020', '2020 censu', '2020 checkmat', '2020 dem', '2020 democrat', '2020 democraticdeb', '2020 disdast', '2020 elect', '2020 firework', '2020 fl22', '2020 http', '2020 outcom', '2020 trump', '2020 trump2020', '2020 voter', '2020 wonder', '2020 world', '2020americadecid', '2020americadecid user', '2020elect', '2020elect americafirst', '2020elect come', '2020elect demexit', '2020elect economicpopulist', '2020elect http', '2020elect massachusett', '2020elect potu', '2020elect say', '2020elect toobigtorig', '2020elect trump', '2020elect user', '2020elect voteblu', '2020elect votefordemocraci', '2020elect votingissexi', '2020vision', '2020vision saveourchildren', '2023', '2023 social', '2024', '2024 progress', '2048', '2048 ounc', '204k', '204k peopl', '20th', '20th centuri', '21', '21 million', '22', '22 00', '22 send', '24', '24 joe', '24 million', '25', '25 coronaviru', '250k', '250k trump2020', '27', '27 000', '2a', '2a vet', '2b', '2b woman', '2billion', '2billion build', '2do', '2do pandem', '2nd', '2nd 1816', '30', '30 40', '30 min', '302', '302 486', '31', '31 biden', '32', '32 joe', '35m', '35m bail', '36', '36 pro', '36 upbeat', '37', '37 wwg1wga', '3rd', '3rd 2020', '3rd live', '40', '40 year', '45', '45 47', '45 approv', '45 reagan', '45 run', '45 shenanigan', '47', '47 tweet', '47 year', '486', '486 follow', '49', '4moreyear', '4moreyear fourmoreyear', '4moreyear http', '4moreyear voteredtosaveamerica2020', '4u', '4u friend', '5th', '5th avenu', '600', '600 give', '600 ppl', '64', '64 trump', '67', '67 violent', '6th', '6th grade', '740', '740 follow', '77k', '77k vote', '8216', '8216 boss', '8217', '8217 http', '93', '93 time', '943', '943 twitter', '99', '99 999', '99 like', '99 recoveri', '999', '999 740', 'aa', 'aa democrat', 'abc', 'abc news', 'abcnew', 'abcnew user', 'abhor', 'abhor child', 'abil', 'abil call', 'abil implement', 'abil user', 'abl', 'abl accomplish', 'abl help', 'abl patrol', 'abolish', 'abolish polic', 'abort', 'abort point', 'abroad', 'abroad media', 'absente', 'absente ballot', 'absenteeballot', 'absenteeballot savethepostoffic', 'absolut', 'absolut despis', 'absolut get', 'absolut noth', 'absolut stupidest', 'absorb', 'absorb damn', 'absurd', 'absurd also', 'abus', 'abus black', 'abus commit', 'abus trump2020', 'aca', 'aca obamacar', 'accept', 'accept histor', 'accept nomin', 'accept speech', 'accept work', 'access', 'access healthcar', 'accomplish', 'accomplish done', 'accomplish hyster', 'accomplish joebiden', 'accomplish littl', 'accomplish much', 'accomplish potu', 'accomplish user', 'accord', 'accord almost', 'accord decad', 'accord dementiajo', 'accord doc', 'account', 'account pleas', 'accus', 'accus accus', 'accus here', 'accus http', 'accus terrorist', 'accus told', 'accus violent', 'ace', 'ace ca', 'achiev', 'achiev end', 'achiev first', 'achiev strong', 'acknowledg', 'acknowledg think', 'across', 'across aisl', 'across board', 'across countri', 'across debates2020', 'across globe', 'act', 'act like', 'act quickli', 'act seeyouinnovemb', 'action', 'action ban', 'action may', 'action save', 'action tell', 'activ', 'activ democrat', 'activ trump', 'activ violent', 'activist', 'activist burn', 'activist con', 'actress', 'actress comedian', 'actual', 'actual answer', 'actual believ', 'actual civilwar', 'actual demdeb', 'actual donat', 'actual feel', 'actual fuck', 'actual help', 'actual joe', 'actual kill', 'actual lead', 'actual primari', 'actual principl', 'actual produc', 'actual protect', 'actual scientist', 'actual state', 'actual trump', 'ad', 'ad user', 'addit', 'addit idiot', 'address', 'address deep', 'address http', 'address race', 'adelson', 'adelson know', 'adher', 'adher rigid', 'adjac', 'adjac presid', 'adjust', 'adjust consid', 'adjust posit', 'admin', 'admin full', 'admin run', 'admin trump', 'admin withheld', 'administr', 'administr fail', 'administr must', 'administr shelv', 'admiss', 'admiss admiss', 'admiss nh', 'advanc', 'advanc pictur', 'advic', 'advic doctor', 'af', 'af dumptrump', 'affair', 'affair user', 'affect', 'affect think', 'afford', 'afford access', 'afford anoth', 'afford user', 'afraid', 'afraid biden', 'africa', 'africa revers', 'african', 'african american', 'africanamerican', 'africanamerican wake', 'ag', 'ag barr', 'ag salli', 'againt', 'againt peopl', 'age', 'age leather', 'age terribl', 'agenc', 'agenc grante', 'agenda', 'agenda defund', 'agenda done', 'agenda driven', 'agenda guess', 'agenda move', 'agent', 'agent oval', 'aggrav', 'aggrav mistak', 'aggress', 'aggress one', 'ago', 'ago oh', 'ago user', 'agre', 'agre differ', 'agre happi', 'agre neither', 'agre place', 'agre someth', 'agre upon', 'ahead', 'ahead agenda', 'ahead bash', 'ahead biden', 'ahead debat', 'ahead interrupt', 'ahead primari', 'ahead time', 'aid', 'aid bed', 'aid reopen', 'aid unpreced', 'aid worst', 'aintit', 'aintit joebiden', 'air', 'air tv', 'aisl', 'aisl someth', 'aisl user', 'aka', 'aka campaignev', 'alert', 'alert 27', 'align', 'align mb', 'alik', 'alik user', 'alleg', 'alleg domest', 'alllivesmatt', 'alllivesmatt kungflu', 'alllivesmattt', 'alllivesmattt fullmoon', 'alllll', 'alllll way', 'allow', 'allow busi', 'allow core', 'allow finish', 'allow mayhem', 'allow nevertrump', 'allow prate', 'allow run', 'allow trump', 'almost', 'almost 200', 'almost 25', 'almost derail', 'almost elect', 'almost everi', 'almost got', 'almost inspir', 'almost think', 'alon', 'alon know', 'alon wartim', 'along', 'along 160', 'along adelson', 'along dem', 'along trump', 'alot', 'alot accus', 'alot peopl', 'alreadi', 'alreadi count', 'alreadi die', 'alreadi dnc', 'alreadi done', 'alreadi impeach', 'alreadi make', 'alreadi mind', 'alreadi one', 'alreadi prep', 'alreadi slip', 'alreadi tri', 'also', 'also announc', 'also appal', 'also cri', 'also democraticconvent', 'also drug', 'also extrem', 'also illustr', 'also joe', 'also present', 'also said', 'also victim', 'although', 'although realli', 'alway', 'alway better', 'alway close', 'alway feel', 'alway kept', 'alway play', 'alway say', 'alway succeed', 'alway think', 'alway warren', 'aman', 'aman race', 'amaz', 'amaz bad', 'amaz debatenight', 'amaz inflat', 'amaz joe', 'amaz know', 'amaz lock', 'amaz need', 'amaz one', 'amaz presid', 'amaz take', 'amazingli', 'amazingli aw', 'amen', 'amen like', 'america', 'america americafirst', 'america biden', 'america ceo', 'america chri', 'america democrat', 'america denounc', 'america destroy', 'america drain', 'america dumptrump', 'america either', 'america freedom', 'america go', 'america great', 'america joebiden', 'america know', 'america last', 'america lose', 'america love', 'america magaforallbutdemocrat', 'america need', 'america ok', 'america one', 'america parti', 'america past', 'america peopl', 'america presid', 'america promis', 'america proud', 'america readi', 'america reject', 'america show', 'america smart', 'america stand', 'america tv', 'america unrecognis', 'america usa', 'america user', 'america voteblu', 'america votebluetosaveamerica', 'america wakeup', 'americafirst', 'americafirst berniesurg', 'americafirst djt', 'americafirst http', 'americafirst kag', 'americafirst maga', 'americafirst trump2020', 'american', 'american absolut', 'american alreadi', 'american also', 'american amp', 'american blood', 'american citizen', 'american conserv', 'american david', 'american democrat', 'american die', 'american enemi', 'american everi', 'american friend', 'american joe', 'american make', 'american must', 'american oversea', 'american peopl', 'american perfectli', 'american polici', 'american second', 'american stand', 'american still', 'american trump2020', 'american want', 'american work', 'americaortrump', 'americaortrump biden', 'americaortrump impeachtrumpagain', 'americaortrump votebluetosaveamerica', 'americawakeup', 'americawakeup antifa', 'americsm', 'americsm dead', 'ami', 'ami barrett', 'ami klobuchar', 'amjoy', 'amjoy 2020elect', 'among', 'among dnc', 'amount', 'amount debt', 'amount hate', 'amp', 'amp 8216', 'amp 8217', 'amp anyth', 'amp base', 'amp biden', 'amp cheat', 'amp chuck', 'amp claim', 'amp command', 'amp confus', 'amp cover', 'amp cuckserv', 'amp cuomo', 'amp desir', 'amp destroy', 'amp erod', 'amp especi', 'amp ever', 'amp everi', 'amp fakenew', 'amp fals', 'amp famili', 'amp fear', 'amp fight', 'amp friend', 'amp get', 'amp gop', 'amp http', 'amp inspir', 'amp justic', 'amp kill', 'amp let', 'amp lie', 'amp listen', 'amp local', 'amp misogynist', 'amp movehimout', 'amp msnbc', 'amp never', 'amp nurs', 'amp oh', 'amp order', 'amp present', 'amp propaganda', 'amp qualif', 'amp replac', 'amp report', 'amp self', 'amp stop', 'amp stretch', 'amp subcrib', 'amp sudden', 'amp support', 'amp surrog', 'amp tire', 'amp traitor', 'amp tri', 'amp trump', 'amp un', 'amp use', 'amp user', 'amp vote', 'amp voteouth', 'amp voteoutthegop', 'amp wit', 'amp world', 'amwrit', 'amwrit writingcommun', 'anarchist', 'anarchist achiev', 'anarchist amp', 'anarchist ran', 'anarchist worldwid', 'anchor', 'anchor report', 'andrew', 'andrew yang', 'andrewyang', 'andrewyang http', 'anger', 'anger leech', 'angri', 'angri across', 'angri demdeb', 'angri hate', 'angri inspir', 'angri tri', 'anim', 'anim 100', 'anim ink', 'ann', 'ann dorn', 'anndorn', 'anndorn ripdaviddorn', 'anniversari', 'anniversari encourag', 'announc', 'announc first', 'announc pick', 'announc plan', 'announc true', 'annoy', 'annoy hope', 'anonym', 'anonym former', 'anoth', 'anoth 16', 'anoth anoth', 'anoth compani', 'anoth debat', 'anoth debate2020', 'anoth dementia', 'anoth note', 'anoth test', 'anoth word', 'anoth year', 'answer', 'answer covid', 'answer deni', 'answer make', 'answer problem', 'answer question', 'answer sinc', 'answer sound', 'answer whether', 'answer would', 'anti', 'anti christian', 'anti lgbtq', 'anti semit', 'antic', 'antic none', 'antichrist', 'antichrist votetrumpout2020', 'antifa', 'antifa anarchist', 'antifa blm', 'antifa brainwash', 'antifa headquart', 'antifa maga', 'antifa trump', 'antifa use', 'antifadomesticterrorist', 'antifadomesticterrorist antifa', 'antifaterrorist', 'antifaterrorist blmterrorist', 'antonio', 'antonio texa', 'anxiou', 'anxiou watch', 'anybodi', 'anybodi els', 'anybodi million', 'anymor', 'anymor cnn', 'anymor cost', 'anymor either', 'anyon', 'anyon choos', 'anyon clear', 'anyon els', 'anyon expect', 'anyon function', 'anyon half', 'anyon know', 'anyon left', 'anyon think', 'anyon truli', 'anyth', 'anyth 10', 'anyth abl', 'anyth alway', 'anyth anyon', 'anyth beg', 'anyth bitch', 'anyth everyth', 'anyth help', 'anyth republican', 'anyth stick', 'anyth think', 'anyth trump', 'anyth valid', 'anyway', 'anyway biden2020', 'anyway pardon', 'anywher', 'anywher basic', 'anywher safe', 'apart', 'apart democraticdeb', 'apart say', 'apart sinc', 'apolog', 'apolog someth', 'apologist', 'apologist clay', 'appal', 'appal though', 'appal user', 'appear', 'appear togeth', 'appear uncoop', 'appeas', 'appeas ke', 'appl', 'appl tree', 'appoint', 'appoint black', 'appoint vice', 'appoint woman', 'appointe', 'appointe fbi', 'appointe forbidden', 'appreci', 'appreci apolog', 'appreci gestur', 'appreci hate', 'approv', 'approv mental', 'approv rate', 'arab', 'arab linguist', 'arch', 'arch conserv', 'are', 'are polic', 'argu', 'argu futur', 'argu includ', 'argument', 'argument bogu', 'arizona', 'arizona potu', 'arizona vote', 'arizonavot', 'arizonavot student', 'arkansa', 'arkansa today', 'arm', 'arm radic', 'armi', 'armi futur', 'around', 'around age', 'around figur', 'around wrist', 'arrang', 'arrang greatest', 'arrest', 'arrest made', 'arrest rape', 'arrest wear', 'arson', 'arson steal', 'arson trump2020', 'arsonist', 'arsonist http', 'arsonist rapist', 'arstechnica', 'arstechnica http', 'art', 'art 2do', 'art decept', 'art illustr', 'articl', 'articl probabl', 'articl provid', 'articul', 'articul readi', 'artist', 'artist illustr', 'artoftheday', 'artoftheday portrait', 'artwork', 'artwork digitalart', 'asian', 'asian descent', 'asian electionsmatt', 'asian vote', 'ask', 'ask biden', 'ask break', 'ask feel', 'ask femal', 'ask notic', 'ask question', 'ask us', 'ask user', 'ask veteran', 'asleep', 'asleep complet', 'aspect', 'aspect life', 'ass', 'ass huge', 'ass interview', 'ass new', 'ass nigg', 'ass novemb', 'ass rubi', 'ass sourc', 'ass trump2020', 'ass user', 'ass would', 'ass yesterday', 'assault', 'assault peopl', 'asset', 'asset know', 'asshol', 'asshol come', 'asshol vote', 'asshol wear', 'assist', 'assist deliv', 'assort', 'assort trumpgenocid', 'assum', 'assum fine', 'assur', 'assur rapist', 'astound', 'astound repub', 'atheist', 'atheist singl', 'atlant', 'atlant nyt', 'attach', 'attach polic', 'attack', 'attack biden', 'attack conserv', 'attack foundat', 'attack must', 'attack name', 'attack toddler', 'attack trump', 'attempt', 'attempt sway', 'attend', 'attend convent', 'attend democrat', 'attend need', 'attende', 'attende antifa', 'attent', 'attent import', 'attent let', 'attent vote', 'attheend', 'attheend http', 'atyp', 'atyp emotionless', 'audac', 'audac ask', 'audienc', 'audienc alreadi', 'audienc look', 'aug', 'aug 13', 'aug 18', 'aug 18th', 'aunt', 'aunt told', 'aunt uncl', 'authoritarian', 'authoritarian gaslight', 'auto', 'auto worker', 'avenu', 'avenu defic', 'avoid', 'avoid democrat', 'avoid shot', 'avoid void', 'avoid wallac', 'aw', 'aw demconvent', 'aw fight', 'aw poor', 'aw shock', 'aw truli', 'await', 'await user', 'awar', 'awar right', 'away', 'away chanc', 'away loot', 'away movement', 'away psst', 'away riot', 'awesom', 'awesom trump2020', 'aww', 'aww old', 'az', 'az arizona', 'babi', 'babi chicken', 'back', 'back bankruptci', 'back better', 'back biden', 'back brother', 'back colorado', 'back countri', 'back demdeb', 'back document', 'back five', 'back fourth', 'back intend', 'back know', 'back maga', 'back moscow', 'back movement', 'back put', 'back resist', 'back russia', 'back said', 'back senat', 'back teeth', 'back twit', 'back use', 'back user', 'back wilmington', 'backfir', 'backfir republican', 'background', 'background kamala', 'backsid', 'backsid get', 'backstag', 'backstag final', 'backtheblu', 'backtheblu prayforleo', 'backtheblu walkaway', 'backtoschool2020', 'backtoschool2020 today', 'backward', 'backward dammit', 'backward self', 'bad', 'bad ass', 'bad demdeb', 'bad lie', 'bad new', 'bad one', 'bad someth', 'bad terribl', 'bad use', 'bad vote', 'badli', 'badli toward', 'bag', 'bag gonna', 'bail', 'bail accus', 'bail work', 'balanc', 'balanc suprem', 'ballot', 'ballot bidenharris2020', 'ballot inde', 'ballot mf', 'ballot rhetor', 'ballot someth', 'ballot vote', 'ballot votebluetosaveamerica', 'ballot without', 'ballotharvest', 'ballotharvest break', 'ban', 'ban entir', 'ban liber', 'banbillionair', 'banbillionair wealthtax', 'bandanna', 'bandanna fire', 'bankrupt', 'bankrupt amount', 'bankruptci', 'bankruptci physic', 'bankruptci protect', 'bannon', 'bannon pillow', 'barack', 'barack obama', 'barack today', 'barackobama', 'barackobama vice', 'bare', 'bare notic', 'barr', 'barr craig', 'barr tell', 'barrett', 'barrett fine', 'barrett grope', 'barrier', 'barrier voteblu', 'base', 'base audienc', 'base compet', 'base confirm', 'base danger', 'base democrat', 'base gender', 'base instead', 'base maga', 'basebal', 'basebal field', 'basement', 'basement left', 'basement msm', 'bash', 'bash creat', 'bash peopl', 'bash presid', 'bash tv', 'basic', 'basic meant', 'basic nullifi', 'basic user', 'bat', 'bat shit', 'bathroom', 'bathroom break', 'bathroom stall', 'battl', 'battl still', 'battl yet', 'bc', 'bc say', 'beach', 'beach http', 'beat', 'beat ass', 'beat biden', 'beat elderli', 'beat sometim', 'beat trump', 'beat twice', 'beaten', 'beaten nra', 'beau', 'beau sucker', 'beauti', 'beauti countri', 'beauti rose', 'bebest', 'bebest unhing', 'becam', 'becam presid', 'becom', 'becom american', 'becom democrat', 'becom fact', 'becom first', 'becom legend', 'becom offici', 'becom presid', 'bed', 'bed user', 'beenie2020', 'beenie2020 debatenight', 'beg', 'beg attent', 'beg everyon', 'beg worst', 'begin', 'begin career', 'begin forget', 'begun', 'begun ralli', 'behalf', 'behalf american', 'behavior', 'behavior man', 'behavior parent', 'behavior reflect', 'behind', 'behind keyboard', 'behind us', 'behind vote', 'behind voter', 'behind whoever', 'belief', 'belief amp', 'believ', 'believ black', 'believ friend', 'believ god', 'believ gt', 'believ hard', 'believ maga', 'believ noth', 'believ pay', 'believ pete', 'believ power', 'believ prayer', 'believ pre', 'believ qanon', 'believ stand', 'believ vote', 'believ wait', 'believ woman', 'bell', 'bell wether', 'belong', 'belong jail', 'belong room', 'ben', 'ben let', 'benefit', 'benefit one', 'benefit ridenwithbiden', 'bernel', 'bernel trammel', 'berni', 'berni answer', 'berni biden', 'berni direct', 'berni even', 'berni gt', 'berni obama', 'berni one', 'berni plural', 'berni primari', 'berni real', 'berni sander', 'berni say', 'berni support', 'berni top', 'berni twist', 'berni voteblu', 'berni yell', 'bernie2020', 'bernie2020 healthcareforal', 'bernie2020 warren2020', 'berniesand', 'berniesand ballot', 'berniesand bernie2020', 'berniesand joebiden', 'berniesanders2020', 'berniesanders2020 berniesand', 'berniesurg', 'berniesurg coronaviru', 'berniewon', 'berniewon demdeb', 'berniewonia', 'berniewonia berniesanders2020', 'bernout', 'bernout go', 'besid', 'besid um', 'best', 'best black', 'best demdeb', 'best democrat', 'best ever', 'best interest', 'best like', 'best night', 'best part', 'best person', 'best potu', 'best presid', 'best trump', 'best way', 'best yet', 'bet', 'bet msm', 'bet one', 'betray', 'betray troop', 'better', 'better 99', 'better aw', 'better expect', 'better leader', 'better man', 'better nomine', 'better pack', 'better progress', 'better republican', 'better spend', 'better tomorrow', 'better votebiden', 'better win', 'better wish', 'beyond', 'beyond comprehens', 'bezo', 'bezo richer', 'bia', 'bia make', 'bias', 'bias presidentialdebate2020', 'biden', 'biden 10', 'biden 2020', 'biden 45', 'biden 47', 'biden 64', 'biden accept', 'biden accord', 'biden address', 'biden agre', 'biden ahead', 'biden allow', 'biden alreadi', 'biden also', 'biden america', 'biden amp', 'biden answer', 'biden anyway', 'biden arm', 'biden ask', 'biden ass', 'biden ballot', 'biden becom', 'biden berni', 'biden best', 'biden biden', 'biden biden2020', 'biden bidenstein', 'biden bloomberg', 'biden born', 'biden bow', 'biden brilliant', 'biden bulli', 'biden campaign', 'biden candidaci', 'biden care', 'biden champion', 'biden chri', 'biden club', 'biden commit', 'biden continu', 'biden control', 'biden corrupt', 'biden could', 'biden cri', 'biden debat', 'biden debates2020', 'biden decent', 'biden demconvent', 'biden demdeb', 'biden democraticconvent', 'biden democraticdeb', 'biden ditti', 'biden dncconvention2020', 'biden done', 'biden elect', 'biden election2020', 'biden entir', 'biden face', 'biden fall', 'biden falsehood', 'biden famili', 'biden fearmong', 'biden former', 'biden fresh', 'biden gang', 'biden gener', 'biden get', 'biden go', 'biden got', 'biden gotta', 'biden green', 'biden gun', 'biden handler', 'biden harr', 'biden harri', 'biden hat', 'biden hide', 'biden http', 'biden inaugur', 'biden inch', 'biden infant', 'biden inspir', 'biden intellig', 'biden job', 'biden joe', 'biden joebiden', 'biden kamala', 'biden kamalaharrisvp', 'biden kamelaharri', 'biden keep', 'biden kid', 'biden kill', 'biden lead', 'biden left', 'biden let', 'biden like', 'biden live', 'biden loath', 'biden lose', 'biden make', 'biden manag', 'biden meet', 'biden mere', 'biden might', 'biden mismanag', 'biden nail', 'biden need', 'biden next', 'biden obama', 'biden palpabl', 'biden pelosi', 'biden perform', 'biden person', 'biden phone', 'biden pick', 'biden plain', 'biden plan', 'biden pleas', 'biden pm', 'biden polic', 'biden posit', 'biden prepar', 'biden presid', 'biden presidenti', 'biden pressur', 'biden problem', 'biden promis', 'biden put', 'biden question', 'biden quip', 'biden right', 'biden said', 'biden sander', 'biden say', 'biden scare', 'biden see', 'biden sen', 'biden set', 'biden shake', 'biden shit', 'biden sign', 'biden smell', 'biden smoke', 'biden snooz', 'biden sound', 'biden stand', 'biden statement', 'biden still', 'biden strategi', 'biden stutter', 'biden success', 'biden suck', 'biden support', 'biden sure', 'biden take', 'biden talk', 'biden thing', 'biden think', 'biden though', 'biden threaten', 'biden tie', 'biden today', 'biden told', 'biden took', 'biden top', 'biden trade', 'biden trillion', 'biden trojan', 'biden trump', 'biden trump2020', 'biden us', 'biden video', 'biden voter', 'biden vp', 'biden vs', 'biden wander', 'biden want', 'biden whole', 'biden wide', 'biden win', 'biden would', 'biden2020', 'biden2020 andrewyang', 'biden2020 biden', 'biden2020 biden2020landslid', 'biden2020 biden2020tosaveamerica', 'biden2020 bidenharris2020', 'biden2020 cher', 'biden2020 executiveord', 'biden2020 http', 'biden2020 karin4congress', 'biden2020 saveourcountryvoteblu', 'biden2020 strongertogeth', 'biden2020 trump2020', 'biden2020 usa', 'biden2020 user', 'biden2020 votebluetosaveamerica', 'biden2020landslid', 'biden2020tosaveamerica', 'bidencalm', 'bidenharri', 'bidenharri biden2020', 'bidenharri bidenharris2020', 'bidenharri debates2020', 'bidenharri dems4usa', 'bidenharri election2020', 'bidenharri http', 'bidenharri joebiden', 'bidenharri kamala', 'bidenharris2020', 'bidenharris2020 biden', 'bidenharris2020 bidenharris2020landslid', 'bidenharris2020 bidenharrislandslide2020', 'bidenharris2020 bidenharristosaveamerica', 'bidenharris2020 bluewave2020', 'bidenharris2020 census2020', 'bidenharris2020 demconvent', 'bidenharris2020 http', 'bidenharris2020 joebiden', 'bidenharris2020 kamalaharrisvp', 'bidenharris2020 theupris', 'bidenharris2020 vote', 'bidenharris2020 votebluetosaveamerica', 'bidenharris2020landslid', 'bidenharris2020landslid biden2020', 'bidenharris2020landslid bidenharri', 'bidenharris2020landslid bidenharris2020', 'bidenharris2020tosaveamerica', 'bidenharris2020tosaveamerica amjoy', 'bidenharris2020tosaveamerica trumpchao', 'bidenharrislandslide2020', 'bidenharrislandslide2020 biden2020', 'bidenharristosaveamerica', 'bidenriot', 'bidenriot biden', 'bidenriot trump2020', 'bidenstein', 'bidenstein puzzl', 'bidenvp', 'bidenvp biden2020', 'bidenwon', 'bidenwon joewir', 'big', 'big money', 'big old', 'big print', 'big threat', 'big troubl', 'big win', 'biggest', 'biggest piec', 'biggest sucker', 'bigot', 'bigot trump2020', 'bill', 'bill enough', 'bill like', 'bill nation', 'billboard', 'billboard paid', 'billieeilish', 'billieeilish dnc2020', 'billion', 'billion amp', 'billion burn', 'billionair', 'billionair friend', 'billionair offer', 'billionair pleas', 'binder', 'binder women', 'bingo', 'birth', 'birth restrict', 'bishop', 'bishop strong', 'bit', 'bit crazi', 'bit white', 'bitch', 'bitch cours', 'bitch date', 'bitch demdeb', 'bite', 'bite eat', 'bite everyon', 'bite narr', 'bizarr', 'bizarr hypocrit', 'black', 'black american', 'black ass', 'black brown', 'black commun', 'black famili', 'black hoodi', 'black live', 'black man', 'black men', 'black natur', 'black peopl', 'black racist', 'black support', 'black vote', 'black voter', 'black woman', 'black women', 'blackfac', 'blackfac hypocrit', 'blacklivesmatt', 'blacklivesmatt dotherightth', 'blacklivesmatt stop', 'blackmail', 'blackmail truth', 'blacksfortrump', 'blacksfortrump http', 'blacksfortrump maga', 'blacksfortrump steve', 'blackwomen', 'blackwomen votebluetosaveamerica', 'blackwomen whitehous', 'blade', 'blade stage', 'blah', 'blah blah', 'blah plan', 'blah save', 'blake', 'blake sr', 'blame', 'blame barack', 'blame everi', 'blame trump', 'blatant', 'blatant attack', 'bldg', 'bldg pandem', 'bless', 'bless america', 'bless democrat', 'bless donald', 'blew', 'blew presidentialdeb', 'blexit', 'blexit kag', 'blexit paw', 'blind', 'blind hatr', 'blind patriot', 'blind reward', 'blindli', 'blindli dem', 'blindli support', 'blm', 'blm abolish', 'blm antifadomesticterrorist', 'blm backtheblu', 'blm citi', 'blm congress', 'blm hijack', 'blm maga', 'blm okay', 'blm outstand', 'blm protestor', 'blm riot', 'blm social', 'blm terrorist', 'blm thug', 'blm trump', 'blm wast', 'blmdomesticterrorist', 'blmdomesticterrorist actual', 'blmterrorist', 'blmterrorist blm', 'blmterrorist kag2020', 'blmterrorist trump2020', 'block', 'block agenc', 'block amp', 'block evid', 'block may', 'block thank', 'blond', 'blond show', 'blood', 'blood gold', 'blood hand', 'blood order', 'blood water', 'bloomberg', 'bloomberg beat', 'bloomberg day', 'bloomberg demdeb', 'bloomberg littl', 'bloomberg nda', 'bloomberg pleas', 'bloomberg practic', 'bloomberg speak', 'bloomberg stop', 'bloomberg votebidenharris2020', 'blooper', 'blooper reel', 'blow', 'blow dri', 'blow mind', 'blow yet', 'blown', 'blown water', 'blue', 'blue ballot', 'blue collar', 'blue matter', 'blue trump', 'bluelivesmatt', 'bluelivesmatt alllivesmatt', 'bluelivesmatt trump2020', 'bluesi', 'bluesi short', 'bluewav', 'bluewav biden', 'bluewav bluewave2020', 'bluewave2020', 'bluewave2020 evicttrump', 'bluewave2020 http', 'bluewave2020 unitedason', 'bluewave2020 votebluetosaveamerica2020', 'board', 'board http', 'board user', 'boat', 'boat parad', 'boat show', 'bogu', 'bogu easi', 'bomb', 'bomb hous', 'book', 'book ever', 'boomer', 'boomer adjac', 'boot', 'boot definit', 'boot let', 'border', 'border cage', 'bore', 'bore votebluetosaveamerica', 'born', 'born rais', 'borrow', 'borrow doubt', 'boss', 'boss american', 'bother', 'bother irrelev', 'bottom', 'bottom ballot', 'bottom good', 'bought', 'bought realli', 'bout', 'bout trump2020', 'bow', 'bow entir', 'bow trump', 'boy', 'boy could', 'boy maga', 'brain', 'brain control', 'brain even', 'brain melt', 'brain rnc2020', 'brain see', 'brain trust', 'brainhealthequ', 'brainhealthequ bidenvp', 'brainwash', 'brainwash jesu', 'brainwash tactic', 'brainwash trump2020', 'brave', 'brave enough', 'brave polic', 'breacher', 'breacher bingo', 'break', 'break back', 'break cheat', 'break joe', 'break law', 'break let', 'break meet', 'break news', 'breakdown', 'breakdown scream', 'breaker', 'breaker necessarili', 'breath', 'breath racist', 'breath votebluetosaveamerica', 'breonnataylor', 'breonnataylor amp', 'brexit', 'brexit trump2020', 'bribe', 'bribe dictat', 'brief', 'brief open', 'brilliant', 'brilliant trump', 'bring', 'bring across', 'bring attent', 'bring daddi', 'bring demconvent', 'bring hunter', 'bring obama', 'british', 'british taxpay', 'brittani', 'brittani nomin', 'broadcast', 'broadcast execut', 'broke', 'broke hunter', 'broken', 'broken heart', 'bronson', 'bronson play', 'brook', 'brook movi', 'brother', 'brother biden', 'brother revel', 'brother trump2020', 'brought', 'brought 10', 'brought eric', 'brown', 'brown commun', 'brown peopl', 'brownshirt', 'brownshirt wear', 'bs', 'bs biden', 'bs lol', 'bs trump', 'bs vote', 'buddi', 'buddi go', 'buffoon', 'buffoon debates2020', 'bui', 'bui amp', 'build', 'build armi', 'build back', 'build beat', 'build monument', 'build right', 'build shoot', 'build unnecessari', 'buildbackbett', 'buildbackbett demconvent', 'buildbackbett http', 'buildthewal', 'buildthewal voteridnow', 'bulli', 'bulli check', 'bulli deck', 'bulli maga', 'bulli realli', 'bulli trump', 'bullsey', 'bullsey chang', 'bullshit', 'bullshit knew', 'bullshit legisl', 'bullshit stop', 'bump', 'bump keep', 'bumper', 'bumper drag', 'bunch', 'bunch ill', 'bunch lie', 'bunch misinform', 'bunker', 'bunker love', 'burn', 'burn build', 'burn constitut', 'burn peopl', 'burn smash', 'burn trashcan', 'burn tri', 'buse', 'buse much', 'busi', 'busi burn', 'busi livelihood', 'busi sinc', 'busi sit', 'busi vote', 'busi without', 'buss', 'buss berni', 'butt', 'butt everyday', 'buttegieg', 'buttegieg sander', 'buy', 'buy american', 'byedon', 'byedon townhal', 'byerosi', 'byerosi http', 'byerudi', 'byerudi chri', 'byrd', 'byrd lynch', 'ca', 'ca mo', 'cabal', 'cabal hate', 'cabinet', 'cabinet labor', 'cabinet voteblu', 'cabl', 'cabl go', 'cage', 'cage like', 'cake', 'cake best', 'cali', 'california', 'california senat', 'call', 'call action', 'call alreadi', 'call ami', 'call amp', 'call biden', 'call christian', 'call deceas', 'call end', 'call exactli', 'call execut', 'call fallen', 'call folk', 'call idiotinchief', 'call night', 'call peopl', 'call polic', 'call politician', 'call question', 'call racist', 'call unfit', 'call vote', 'calliopean', 'calliopean club', 'callou', 'callou dingi', 'came', 'came back', 'came china', 'came like', 'came ordinari', 'came speak', 'came wuhan', 'camera', 'camera tri', 'camp', 'camp bulli', 'campaign', 'campaign atlant', 'campaign celebr', 'campaign chri', 'campaign democrat', 'campaign everi', 'campaign flat', 'campaign follow', 'campaign http', 'campaign issu', 'campaign local', 'campaign ok', 'campaign say', 'campaign trump', 'campaign work', 'campaignev', 'campaignev amp', 'can', 'can speech', 'canadian', 'canadian liber', 'cancel', 'cancel 2020elect', 'cancel dinner', 'cancel worthless', 'cancelcultur', 'cancelcultur left', 'candid', 'candid demconvent', 'candid dont', 'candid enrag', 'candid plagiar', 'candid pledg', 'candid poll', 'candid presid', 'candid read', 'candid spit', 'candid spotlight', 'candid support', 'candid us', 'candid uselection2020', 'candid votebluetosaveamerica', 'candidaci', 'candidaci primari', 'cannib', 'cannib begin', 'cannot', 'cannot leader', 'cannot possibl', 'cannot stop', 'cannot use', 'cannot wait', 'cant', 'cant even', 'cant wait', 'capit', 'capit joe', 'capitald', 'car', 'car biden', 'car technolog', 'caravan', 'caravan maga', 'caravan thug', 'care', 'care 204k', 'care black', 'care countri', 'care demdeb', 'care expens', 'care famili', 'care freedom', 'care fuel', 'care less', 'care mani', 'care need', 'care peopl', 'care poll', 'care think', 'care votebluetosaveamerica', 'care vp', 'care win', 'career', 'career list', 'career politician', 'carolina', 'carolina lindsey', 'carolina want', 'case', 'case anyon', 'case maga', 'case sure', 'cash', 'cash put', 'cast', 'cast vote', 'cast yet', 'castro', 'castro hope', 'castro ticket', 'cat', 'cat made', 'caught', 'caught worst', 'caus', 'caus donald', 'caus mess', 'ccot', 'ccot actual', 'ccp', 'ccp democratrunc', 'ceil', 'ceil name', 'celebr', 'celebr one', 'celebr vampir', 'cement', 'cement ceil', 'censu', 'censu http', 'census2020', 'census2020 respond', 'center', 'center way', 'centrist', 'centrist like', 'centuri', 'centuri msnbc', 'ceo', 'ceo say', 'certain', 'certain black', 'certainli', 'certainli tre45on', 'certif', 'certif death', 'chain', 'chain bumper', 'challeng', 'challeng physic', 'champion', 'chanc', 'chanc get', 'chanc presid', 'chanc protect', 'chanc show', 'chanc troubl', 'chanc us', 'chang', 'chang dynam', 'chang elect', 'chang expect', 'chang histori', 'chang nov', 'chang shirt', 'chang someth', 'chang system', 'chang tch', 'chang trump', 'chang unitedst', 'chang user', 'chang usp', 'channel', 'channel maga', 'channel polit', 'chao', 'chao come', 'chao everywher', 'chao uggghh', 'chapter', 'chapter 11', 'charact', 'charact compass', 'charact exud', 'charact rant', 'charg', 'charg think', 'charg woman', 'charl', 'charl bronson', 'chase', 'chase bunch', 'chase democrat', 'cheap', 'cheap plenti', 'cheap tactic', 'cheaper', 'cheaper car', 'cheat', 'cheat ballotharvest', 'cheat steal', 'cheat tulsi', 'cheat way', 'cheatpet', 'cheatpet ratpet', 'check', 'check 600', 'check biden2020', 'check discourag', 'check help', 'check nov', 'check rnc', 'check see', 'checkmat', 'checkmat next', 'chemic', 'chemic maker', 'cher', 'cher lgbtq', 'chess', 'chess yesterday', 'chew', 'chew spit', 'chicago', 'chicago vote', 'chicken', 'chicken happen', 'chief', 'chief demdeb', 'chief execut', 'chief leader', 'chief usa', 'child', 'child abus', 'child misrepres', 'child porn', 'child traffick', 'childcar', 'childcar bail', 'childish', 'childish http', 'childish nonsens', 'children', 'children care', 'children drink', 'children futur', 'children save', 'children stolen', 'china', 'china come', 'china http', 'china ny', 'china today', 'chinatown', 'chinatown said', 'chines', 'chines militari', 'choic', 'choic amazingli', 'choic choos', 'choic fox', 'choic trump2020', 'choic user', 'choic vote', 'choic vp', 'choos', 'choos america', 'choos femal', 'choos http', 'choos quailfi', 'choos veep', 'choos vote', 'chosen', 'chosen vp', 'chri', 'chri http', 'chri wallac', 'chri win', 'chrismatthew', 'chrissi', 'chrissi cri', 'christ', 'christ tell', 'christi', 'christi texa', 'christian', 'christian belief', 'christian clearli', 'christian entir', 'christian muslim', 'christian need', 'christian post', 'chuck', 'chuck schumer', 'chump', 'chump american', 'cigar', 'cigar get', 'circl', 'circl peopl', 'circl votebluetosaveamerica', 'circu', 'circu mani', 'citi', 'citi are', 'citi control', 'citi light', 'citi mobster', 'citi moron', 'citi ok', 'citi red', 'citi turn', 'citi want', 'citizen', 'citizen amaz', 'citizen ask', 'citizen hell', 'citizen hold', 'citizen month', 'citizen presid', 'civic', 'civic leader', 'civil', 'civil fail', 'civil feel', 'civil war', 'civilright', 'civilright healthcar', 'civilwar', 'civilwar partisan', 'civilwar2', 'civilwar2 http', 'claim', 'claim everyth', 'claim ignor', 'claim ivanka', 'claim new', 'claim prove', 'clarenc', 'clarenc thoma', 'class', 'class citizen', 'class midwest', 'class solut', 'class white', 'clay', 'clay whole', 'clean', 'clean america', 'clean beenie2020', 'clean water', 'clear', 'clear amp', 'clear commit', 'clear day', 'clear let', 'clear resistlyingdonni', 'clear still', 'clearli', 'clearli compet', 'clearli fall', 'clearli rino', 'clearli show', 'clearli western', 'click', 'click link', 'click thumb', 'climateactionnow', 'climateactionnow presidentberniesand', 'clinton', 'clinton nanci', 'close', 'close link', 'close race', 'close us', 'close word', 'cloth', 'cloth toss', 'cloud', 'cloud energi', 'clown', 'clown democrat', 'club', 'club fed', 'club parliamentari', 'club trump', 'clue', 'clue joebiden', 'cnn', 'cnn amp', 'cnn foxnew', 'cnn news', 'cnn tell', 'co', 'co rebuild', 'cocaineconvent', 'cocaineconvent score', 'coddl', 'coddl bishop', 'code', 'code reward', 'coffin', 'coffin fail', 'cognit', 'cognit declin', 'coher', 'coher follow', 'coher messag', 'cohes', 'cohes exactli', 'colinpowel', 'colinpowel dnc2020', 'collar', 'collar worker', 'collectiv', 'collectiv http', 'colleg', 'colleg 250k', 'colleg degre', 'colleg favor', 'colleg tuition', 'collin', 'collin mitch', 'color', 'color gender', 'color shape', 'colorado', 'colorado came', 'colorado coloradofir', 'coloradofir', 'come', 'come back', 'come clean', 'come color', 'come denounc', 'come destroy', 'come end', 'come eventu', 'come everi', 'come fast', 'come get', 'come hate', 'come jan', 'come left', 'come nov', 'come novemb', 'come platitud', 'come polit', 'come realiz', 'come redwave2020', 'come someon', 'come upper', 'come wh', 'come without', 'comedian', 'comedian julialouisdreyfu', 'command', 'command chief', 'comment', 'comment bias', 'comment biden', 'comment horribl', 'comment onlin', 'comment poll', 'comment squad', 'comment tweet', 'comment user', 'comment zero', 'commerci', 'commerci shame', 'commi', 'commi agenda', 'commit', 'commit choos', 'commit failur', 'commit lol', 'commit pick', 'committ', 'committ say', 'commun', 'commun amount', 'commun answer', 'commun gain', 'commun opportun', 'commun rise', 'commun servic', 'commun still', 'commun vs', 'communist', 'communist leagu', 'communist live', 'communist socialist', 'compani', 'compani chase', 'compani http', 'compani lobbi', 'compar', 'compar sf', 'compass', 'compass scienc', 'compet', 'compet amp', 'compet candid', 'competit', 'competit deep', 'complet', 'complet blown', 'complet destroy', 'complet entir', 'complet lose', 'complet referendum', 'complet stranger', 'complet wilt', 'complianc', 'complianc antifa', 'complicit', 'complicit user', 'compliment', 'compliment user', 'comprehens', 'comprehens environmentaljustic', 'comprehens weak', 'comrad', 'comrad joebiden', 'comrad putin', 'con', 'con men', 'conced', 'conced live', 'conced think', 'concept', 'concept actual', 'concern', 'concern american', 'concern disappoint', 'concern economi', 'concern trump', 'concern user', 'concoct', 'concoct anyth', 'condemn', 'condemn marxist', 'condemn white', 'condit', 'condit protect', 'conduct', 'conduct hey', 'confer', 'confer fridayfeel', 'confer lock', 'confer settherecordstraight', 'confirm', 'confirm dnc', 'confirm presidenti', 'confirm suspect', 'confirm updat', 'confus', 'confus american', 'confus elect', 'congratul', 'congratul chri', 'congress', 'congress campaign', 'congress pass', 'congress swaffar', 'congress work', 'connect', 'connect along', 'connect care', 'connect terrifi', 'consequencesfortrump', 'consequencesfortrump biden2020', 'conserv', 'conserv 1a', 'conserv america', 'conserv govern', 'conserv timetogo', 'consid', 'consid taboo', 'consist', 'consist current', 'conspiraci', 'conspiraci meltdown', 'constantli', 'constitut', 'constitut achiev', 'constitut huge', 'constitut stand', 'constitut stop', 'constitut veteran', 'contempl', 'contempl suicid', 'contend', 'contend biden', 'contend joebiden', 'contest', 'contest strength', 'continu', 'continu blame', 'continu fall', 'continu interject', 'continu laker', 'continu lead', 'continu project', 'continu surround', 'continu trump2020', 'contrast', 'contrast think', 'control', 'control communist', 'control everi', 'control peopl', 'control rnc', 'control trump', 'control trump2020', 'control vandal', 'controversi', 'controversi pertain', 'conven', 'conven latino', 'convent', 'convent aug', 'convent coverag', 'convent democrat', 'convent energi', 'convent everi', 'convent featur', 'convent hardli', 'convent http', 'convent keynot', 'convent light', 'convent seri', 'convent speech', 'convent wish', 'convers', 'convers http', 'convers world', 'convict', 'convict either', 'convinc', 'convinc republican', 'cool', 'cop', 'cop good', 'copper', 'copper voteblu', 'corden', 'corden respons', 'core', 'core parti', 'coronapocolyps', 'coronaviru', 'coronaviru back', 'coronaviru case', 'coronaviru chang', 'coronaviru fool', 'coronaviru http', 'coronaviru made', 'coronaviru trump', 'coronaviru votebidenharristosaveamerica', 'coronaviruspandem', 'coronaviruspandem covid19', 'corp', 'corp billion', 'corp lawsuit', 'corpu', 'corpu christi', 'corral', 'corral demdeb', 'correctli', 'correctli told', 'correspond', 'correspond anchor', 'corridor', 'corridor avoid', 'corrupmedia', 'corrupmedia hilari', 'corrupt', 'corrupt crimin', 'corrupt elect', 'corrupt fool', 'corrupt lawless', 'corrupt presid', 'corrupt tax', 'corrupt vp', 'cost', 'cost 150', 'cost ec', 'cost vote', 'couch', 'couch watch', 'could', 'could anybodi', 'could becom', 'could came', 'could care', 'could choos', 'could clear', 'could drop', 'could elect', 'could guess', 'could help', 'could imagin', 'could make', 'could nadler', 'could realli', 'could save', 'could show', 'could turn', 'could warren', 'count', 'count 302', 'count 45', 'count ever', 'count import', 'count poc', 'count presidentialdeb', 'count tripl', 'counterweight', 'counterweight wonder', 'counti', 'counti sheriff', 'counti show', 'counti voteblue2020', 'counti wednesday', 'countri', 'countri anywher', 'countri attack', 'countri back', 'countri begin', 'countri bloomberg', 'countri democrat', 'countri follow', 'countri forward', 'countri full', 'countri hmmmmm', 'countri intellig', 'countri job', 'countri maga', 'countri maga2020', 'countri make', 'countri medic', 'countri one', 'countri peac', 'countri propaganda', 'countri putin', 'countri rememb', 'countri self', 'countri smarter', 'countri trump2020', 'countri user', 'countri virtual', 'countri voteblu', 'countri votebluetosaveamerica', 'countri world', 'cours', 'cours let', 'cours silent', 'cours trump', 'cours would', 'court', 'court list', 'court say', 'court stack', 'court think', 'court women', 'court would', 'cover', 'cover msm', 'coverag', 'coverag tonight', 'covid', 'covid 19', 'covid death', 'covid question', 'covid still', 'covid trump', 'covid19', 'covid19 coronaviru', 'covid19 http', 'covid19 mani', 'covid19 sundaythought', 'covid19 warroompandem', 'covid_19', 'covid_19 live', 'covidー19', 'covidー19 berni', 'coward', 'coward betray', 'coward complianc', 'coward mani', 'coward run', 'cowardli', 'cowardli ye', 'crack', 'crack get', 'craig', 'craig sent', 'crap', 'crap parti', 'crap russia', 'crap trump', 'crash', 'crash continu', 'crazi', 'crazi amp', 'crazi fool', 'crazi rncconvention2020', 'crazi told', 'crazi town', 'creat', 'creat bullshit', 'creat claim', 'creat fear', 'creat job', 'creat new', 'creat plan', 'creat student', 'creat via', 'creat vote', 'creation', 'creation total', 'creativ', 'creativ amp', 'credit', 'credit anyth', 'credit previou', 'creeoy', 'creeoy joe', 'creepi', 'creepi biden', 'creepyjoebiden', 'creepyjoebiden disgust', 'crew', 'crew problem', 'cri', 'cri anndorn', 'cri audac', 'cri loser', 'cri mani', 'cri nanci', 'cri peopl', 'cri restor', 'cri wife', 'crim', 'crim justic', 'crime', 'crime homeless', 'crime http', 'crime year', 'crimin', 'crimin activ', 'crimin amp', 'crimin blm', 'crimin donaldtrump', 'crimin drumpf', 'crimin parti', 'crisi', 'crisi outbreak', 'crisi right', 'crisi turn', 'criteria', 'criteria 2020elect', 'critic', 'critic obama', 'critic warn', 'crook', 'crook hillari', 'crook wick', 'crowd', 'crowd beg', 'crowd full', 'crucial', 'crucial medic', 'crucifi', 'crucifi christ', 'crucifi trump', 'cruel', 'cruel could', 'crueltyishispoint', 'crueltyishispoint votebluetosaveamerica', 'cspan', 'cube', 'cube movi', 'cuckserv', 'cuckserv israel', 'culp2020', 'culp2020 save', 'cult45', 'cult45 trumpdrunkmoron', 'cultist', 'cultist http', 'cuomo', 'cuomo resid', 'cuomo whole', 'cure', 'cure td', 'curfew', 'curfew flight', 'current', 'current count', 'current lead', 'curri', 'curri breath', 'curs', 'curs trump', 'curtain', 'curtain camp', 'cut', 'cut 600', 'cut blackmail', 'cut ok', 'cut payrol', 'cut socialsecur', 'cut ss', 'd20', 'd20 wrightforbiden', 'da', 'da aid', 'dad', 'dad die', 'daddi', 'daddi home', 'daili', 'daili ignor', 'dammit', 'dammit mad', 'damn', 'damn bizarr', 'damn thing', 'damn work', 'danc', 'danc ass', 'danc grave', 'dang', 'dang time', 'danger', 'danger along', 'danger countri', 'danger nation', 'danger neo', 'danger usa', 'danielson', 'dark', 'dark joe', 'dark light', 'darlen', 'darlen swaffar', 'darn', 'darn well', 'data', 'data gop', 'date', 'date black', 'dave', 'dave underwood', 'david', 'david dorn', 'david offic', 'davidson', 'davidson counti', 'day', 'day 2020elect', 'day across', 'day administr', 'day biden', 'day black', 'day day', 'day demdeb', 'day famili', 'day forget', 'day honestli', 'day make', 'day msnbc', 'day november3rd', 'day offic', 'day one', 'day portland', 'day presid', 'day today', 'day tonight', 'day trump2020', 'day trumpisaracist', 'day tucker', 'day wewillvot', 'dc', 'dc leav', 'dead', 'dead biden', 'dead mayb', 'dead saveourchildren', 'dead think', 'dead wreck', 'deal', 'deal breaker', 'deal folk', 'deal kazarian', 'deal pandem', 'deardiari', 'death', 'death afford', 'death along', 'death america', 'death certain', 'death child', 'death death', 'death elect', 'death penalti', 'death polit', 'death retain', 'death row', 'death show', 'death took', 'deathocrat', 'deathocrat 2020elect', 'debacl', 'debacl 2016', 'debat', 'debat allow', 'debat amp', 'debat biden', 'debat cannot', 'debat clearli', 'debat could', 'debat debat', 'debat debates2020', 'debat demdeb', 'debat drug', 'debat election2020', 'debat elimin', 'debat first', 'debat help', 'debat http', 'debat influenc', 'debat introduc', 'debat last', 'debat moder', 'debat narrat', 'debat right', 'debat rock', 'debat skeepi', 'debat sleepi', 'debat stage', 'debat still', 'debat style', 'debat tonight', 'debat tri', 'debat trump', 'debat trump2020', 'debat user', 'debat warren', 'debat would', 'debate2020', 'debate2020 debat', 'debate2020 joebiden', 'debate2020 point', 'debatenight', 'debatenight debat', 'debates2020', 'debates2020 debatetuesday', 'debates2020 http', 'debates2020 presidentialdebate2020', 'debates2020 trump2020', 'debates2020 twitch', 'debatetuesday', 'debatetuesday byerudi', 'deblasio', 'deblasio also', 'debt', 'debt crisi', 'debt easi', 'debt still', 'decad', 'decad accomplish', 'decad cut', 'decad govern', 'deceas', 'deceas famili', 'deceas son', 'decemb', 'decemb not_a_democrathoax', 'decenc', 'decenc ballot', 'decenc expect', 'decent', 'decent human', 'decept', 'decept god', 'decid', 'decid put', 'decid spill', 'decid trump', 'decid voic', 'decid vote', 'decid vp', 'decid watch', 'decid whether', 'decis', 'decis ultim', 'decis user', 'deck', 'deck offer', 'declar', 'declar million', 'declin', 'declin one', 'decrimin', 'decrimin mean', 'deep', 'deep concern', 'deep system', 'deep troubl', 'defeat', 'defeat absorb', 'defeat impact', 'defeat trump', 'defend', 'defend votebluetosaveamerica', 'defens', 'defens willingli', 'defic', 'defic still', 'defil', 'defil like', 'defin', 'defin blm', 'definit', 'definit iv', 'definit night', 'definit privileg', 'deflect', 'deflect avoid', 'deflect stoke', 'defund', 'defund citi', 'defund polic', 'degre', 'degre constitut', 'delawar', 'delawar come', 'delawar joebiden', 'delay', 'delay ever', 'deleg', 'deleg becom', 'deleg proud', 'delegitim', 'delegitim elect', 'delet', 'delet tweet', 'deliber', 'deliber mislead', 'deliv', 'deliv 2020', 'deliv dnc', 'delus', 'delus hatr', 'delusion', 'delusion old', 'delusion trump2020', 'dem', 'dem amp', 'dem debat', 'dem jack', 'dem leader', 'dem nomine', 'dem obstruct', 'dem pinki', 'dem quit', 'dem reject', 'dem run', 'dem take', 'dem tri', 'dem wast', 'dem would', 'demand', 'demand debat', 'demand freedom', 'demand voter', 'demconvent', 'demconvent bidenharri', 'demconvent bidenharris2020', 'demconvent covid', 'demconvent d20', 'demconvent demconvention2020', 'demconvent democraticconvent', 'demconvent dnc', 'demconvent dnc2020', 'demconvent dncconvention2020', 'demconvent http', 'demconvent joebiden', 'demconvent keynot', 'demconvent made', 'demconvent make', 'demconvent wethepeopl', 'demconvention2020', 'demconvention2020 demconvent', 'demconvention2020 democraticconvent', 'demconvention2020 democraticnationalconvent', 'demdeb', 'demdeb america', 'demdeb appoint', 'demdeb believ', 'demdeb cheatpet', 'demdeb coronapocolyps', 'demdeb covid19', 'demdeb demdeb', 'demdeb demdebate2020', 'demdeb democraticdeb', 'demdeb democrats2020', 'demdeb ff', 'demdeb http', 'demdeb like', 'demdeb nhprimari', 'demdeb petesbillionair', 'demdeb prouder', 'demdeb rather', 'demdeb user', 'demdeb vice', 'demdeb yet', 'demdebate2020', 'demdebate2020 democraticdeb', 'demdebate2020 http', 'demeanor', 'demeanor win', 'dement', 'dement hack', 'dementia', 'dementia moment', 'dementia spell', 'dementiajo', 'dementiajo one', 'demexit', 'demexit blexit', 'demexit http', 'democraci', 'democraci http', 'democraci part', 'democrat', 'democrat agenda', 'democrat allow', 'democrat american', 'democrat amp', 'democrat berni', 'democrat biden', 'democrat blmterrorist', 'democrat build', 'democrat canadian', 'democrat candid', 'democrat cannib', 'democrat capit', 'democrat child', 'democrat christian', 'democrat come', 'democrat convent', 'democrat debat', 'democrat demdeb', 'democrat democraci', 'democrat democrat', 'democrat democraticresistancetaskforc', 'democrat democratsaredestroyingamerica', 'democrat derang', 'democrat desir', 'democrat either', 'democrat formal', 'democrat get', 'democrat god', 'democrat governor', 'democrat hold', 'democrat http', 'democrat ideolog', 'democrat incompet', 'democrat joebiden', 'democrat keep', 'democrat landscap', 'democrat lead', 'democrat leader', 'democrat loser', 'democrat massiv', 'democrat mayor', 'democrat metoo', 'democrat might', 'democrat nation', 'democrat nomine', 'democrat offer', 'democrat parti', 'democrat payrol', 'democrat platform', 'democrat presidenti', 'democrat pull', 'democrat refus', 'democrat regret', 'democrat republican', 'democrat right', 'democrat run', 'democrat socialist', 'democrat sound', 'democrat speech', 'democrat state', 'democrat still', 'democrat support', 'democrat tell', 'democrat tri', 'democrat unifi', 'democrat user', 'democrat view', 'democrat want', 'democrat whitehous', 'democrat wise', 'democratdefecationapertur', 'democratdefecationapertur voteoutalldemocrat', 'democraticconvent', 'democraticconvent demconvent', 'democraticconvent democraticnationalconvent', 'democraticconvent dncconvent', 'democraticconvent flapol', 'democraticconvent nomin', 'democraticconvent user', 'democraticdeb', 'democraticdeb bernie2020', 'democraticdeb demdeb', 'democraticdeb demdebate2020', 'democraticdeb democrat', 'democraticdeb femanist', 'democraticdeb http', 'democraticdeb joebiden', 'democraticdeb romyandmichel', 'democraticdeb senatorwarren', 'democraticdeb watch', 'democraticnationalconvent', 'democraticnationalconvent bidenharri', 'democraticnationalconvent tonight', 'democraticnationalconvent trump', 'democraticparti', 'democraticparti democrat', 'democraticparti resistingtrump', 'democraticparti vice', 'democraticresistancetaskforc', 'democraticresistancetaskforc democraticdeb', 'democratrunc', 'democratrunc democrat', 'democrats2020', 'democrats2020 demdeb', 'democrats2020 democraticdeb', 'democratsaredestroyingamerica', 'democratsaredestroyingamerica byerosi', 'democratsaredestroyingamerica redwave2020', 'democratsaredestroyingamerica republican', 'democratsareevil', 'democratsareevil democratsaredestroyingamerica', 'democratshateamerica', 'democratshateamerica trump2020', 'democratshateamerica trust', 'democratstheenemywithin', 'democratstheenemywithin tri', 'demolish', 'demolish entir', 'demon', 'demon antichrist', 'demon earth', 'demoncrat', 'dems4usa', 'dems4usa http', 'deni', 'deni admiss', 'deni chang', 'deni charg', 'deni distract', 'deni say', 'denounc', 'denounc crimin', 'denounc violenc', 'denounc white', 'denver', 'denver colorado', 'depend', 'depend michel', 'depend trump2020', 'depend upon', 'deplor', 'deplor user', 'deport', 'deport day', 'dept', 'dept health', 'deput', 'deput potu', 'derail', 'derail biden', 'derang', 'derang http', 'derang syndrom', 'descent', 'descent appoint', 'describ', 'describ moment', 'describ support', 'desecr', 'desecr twitter', 'deserv', 'deserv countri', 'design', 'design artoftheday', 'desir', 'desir disgust', 'desir elect', 'desk', 'desk learn', 'desper', 'desper loser', 'despis', 'despis ettd', 'despis sicken', 'despis thing', 'despit', 'despit democratstheenemywithin', 'despit pandem', 'destroy', 'destroy america', 'destroy beauti', 'destroy co', 'destroy countri', 'destroy grasp', 'destroy mani', 'destruct', 'destruct amp', 'destruct asshol', 'destruct blexit', 'destruct european', 'detail', 'detail http', 'detail read', 'determin', 'determin kill', 'devest', 'devest broken', 'devil', 'devil work', 'diagnosi', 'diagnosi covid', 'dictat', 'dictat colinpowel', 'dictat line', 'didnt', 'didnt even', 'die', 'die coronaviru', 'die covid19', 'die democrat', 'die got', 'die knock', 'die kristen', 'die let', 'die maga', 'die mike', 'die posit', 'die state', 'die thug', 'differ', 'differ africanamerican', 'differ biden', 'differ provid', 'differ race', 'differ rnc2020', 'differ trump', 'dig', 'dig sen', 'digitalart', 'digitalart sketch', 'digniti', 'digniti total', 'dime', 'dime mayb', 'dimentia', 'dimentia joe', 'dingi', 'dingi ward', 'dinner', 'dinner plan', 'direct', 'direct gaslight', 'direct peopl', 'director', 'director forget', 'dirti', 'dirti border', 'dirti work', 'dirtiest', 'dirtiest slum', 'disabl', 'disabl vet', 'disagre', 'disagre like', 'disagre one', 'disappoint', 'disappoint doyourjob', 'discord', 'discord amp', 'discourag', 'discourag work', 'disdast', 'disdast time', 'diseas', 'diseas expert', 'disguis', 'disguis maga', 'disgust', 'disgust walkawayfromdemocrat', 'disinform', 'disinform campaign', 'disingenu', 'disingenu lie', 'disown', 'disown corpu', 'disproven', 'disproven delay', 'disrespect', 'disrespect anyth', 'disrespect militari', 'dissatisfact', 'dissatisfact trump', 'distanc', 'distanc day', 'distanc style', 'distract', 'distract amp', 'distract deflect', 'distract marxism', 'distract trump', 'distribut', 'distribut test', 'district', 'district 22', 'district demdeb', 'district next', 'ditti', 'ditti kamala', 'divid', 'divid everi', 'divid wiser', 'divis', 'divis amp', 'divis help', 'divis inept', 'divis trump2020', 'divis weaken', 'divorc', 'divorc file', 'djia', 'djia 93', 'djt', 'djt draintheswamp', 'djt would', 'dnc', 'dnc 2020americadecid', 'dnc 24', 'dnc alreadi', 'dnc america', 'dnc commerci', 'dnc coward', 'dnc democrat', 'dnc democraticnationalconvent', 'dnc dnc2002convent', 'dnc hella', 'dnc look', 'dnc one', 'dnc rapist', 'dnc respons', 'dnc speech', 'dnc tonight', 'dnc wait', 'dnc worst', 'dnc ye', 'dnc2002convent', 'dnc2002convent make', 'dnc2020', 'dnc2020 biden', 'dnc2020 bidenharris2020', 'dnc2020 demconvent', 'dnc2020 democraticconvent', 'dnc2020 dncconvent', 'dnc2020 gee', 'dnc2020 http', 'dnc2020 kept', 'dnc2020 okvot', 'dnc2020 would', 'dncconvent', 'dncconvent wethepeopl', 'dncconvention2020', 'dncconvention2020 bloomberg', 'dncconvention2020 demconvent', 'dncplatform', 'dncplatform joebiden', 'doc', 'doc review', 'doctor', 'doctor biden', 'doctor forget', 'doctor physician', 'doctor right', 'document', 'document amp', 'dodg', 'dodg coward', 'dog', 'dog whistl', 'doll', 'doll laratrump', 'dollar', 'dollar owe', 'domest', 'domest abus', 'domest terrorist', 'donald', 'donald record', 'donald trump', 'donaldtrump', 'donaldtrump berniesand', 'donaldtrump gopconvent', 'donaldtrump piss', 'donaldtrump turn', 'donaldtrump unfit', 'donat', 'donat trump', 'donat user', 'done', 'done anyth', 'done black', 'done foxnew', 'done global', 'done great', 'done joe', 'done mani', 'done month', 'done research', 'done revers', 'done togeth', 'done year', 'donothingdemocrat', 'donothingdemocrat votedemsout', 'dont', 'dont deserv', 'dont experi', 'dont let', 'dont need', 'donthecon', 'donthecon fakenew', 'doodl', 'doodl paint', 'door', 'door bathroom', 'door inclus', 'dorn', 'dorn italia', 'dorn speech', 'dorn trump', 'dotherightth', 'dotherightth justiceforal', 'doubl', 'doubl standard', 'doubt', 'doubt biden', 'doubt patholog', 'dow', 'dow user', 'downer', 'downer trumpislos', 'doyourjob', 'doyourjob dumpcollin', 'dozen', 'dozen moron', 'dpvadeleg', 'dpvadeleg http', 'dr', 'dr scarf', 'draconian', 'draconian lockdown', 'draft', 'draft dodg', 'drag', 'drag interst', 'drag nearest', 'drain', 'drain swamp', 'draintheoldwhiteliberalswamp', 'draintheoldwhiteliberalswamp pelosimustgo', 'draintheswamp', 'draintheswamp 4moreyear', 'draintheswamp demoncrat', 'draintheswamp full', 'draintheswamp rootoutpedophil', 'draintheswamp wednesdaywisdom', 'draintheswamp wwg1wga', 'draw', 'draw anim', 'draw artwork', 'draw less', 'dream', 'dream shall', 'dream ticket', 'dress', 'dress dnc2020', 'dri', 'drink', 'drink blood', 'drink everi', 'drink glass', 'drip', 'drip maga', 'drive', 'drive what', 'driven', 'driven bs', 'driven fear', 'drop', 'drop let', 'drop pant', 'drop rnc', 'drug', 'drug test', 'drumpf', 'drumpf scare', 'dsdt2020', 'dsdt2020 maga2020', 'du', 'du loke', 'dude', 'dude speak', 'dum', 'dum user', 'dumb', 'dumb fact', 'dumb freedom', 'dummi', 'dummi matter', 'dump', 'dump user', 'dumpcollin', 'dumpcollin trumpfailsamerica', 'dumptrump', 'dumptrump bidenharris2020', 'dumptrump bluewave2020', 'dumptrump byedon', 'dumptrump notmypresid', 'dumptrump releaseyourtaxestrump', 'dumptrump trumpgenocid', 'dumptrump votebluetosaveamerica', 'dumptrump2020', 'dumptrump2020 dumptrump', 'dumptrumperdinck', 'dumptrumperdinck dumptrump2020', 'dupe', 'dupe parti', 'dy', 'dy blond', 'dynam', 'dynam race', 'ear', 'ear votebluetoendthisnightmar', 'earli', 'earli return', 'earli spread', 'earli work', 'earlier', 'earlier search', 'earn', 'earn right', 'earnest', 'earnest tone', 'earth', 'earth enemi', 'earth heard', 'earth pleas', 'easi', 'easi base', 'easi poke', 'easi pull', 'easi trumpisanidiot', 'easili', 'easili fall', 'easili one', 'easili trump', 'east', 'east achiev', 'eastsid', 'eastsid time', 'eat', 'eat appl', 'eat kid', 'eat rather', 'ebolacrisi', 'ebolacrisi demdeb', 'ec', 'ec vote', 'economi', 'economi black', 'economi demand', 'economi democrat', 'economi dissatisfact', 'economi grow', 'economi much', 'economi trump', 'economi trump2020', 'economicpopulist', 'economicpopulist democraticparti', 'edg', 'edg bankruptci', 'edg votebluetosaveamerica', 'educationforal', 'educationforal healthcareforal', 'effect', 'effect buss', 'effect plan', 'effort', 'effort join', 'effort welcom', 'eh', 'eh maga', 'either', 'either 2020elect', 'either demconvent', 'either fake', 'either open', 'either primari', 'either rob', 'either trump', 'ejinact', 'ejinact two', 'el', 'el paso', 'elderli', 'elderli complet', 'elect', 'elect amp', 'elect anyway', 'elect argu', 'elect biden2020', 'elect bidenharri', 'elect come', 'elect could', 'elect day', 'elect defeat', 'elect deni', 'elect even', 'elect got', 'elect hate', 'elect http', 'elect interf', 'elect interfer', 'elect jepardi', 'elect lose', 'elect maga', 'elect mail', 'elect make', 'elect meddl', 'elect novemb', 'elect offici', 'elect plan', 'elect presid', 'elect restor', 'elect say', 'elect super', 'elect theft', 'elect time', 'elect trump', 'elect walter', 'elect want', 'election2020', 'election2020 berni', 'election2020 lawandord', 'election2020 trump', 'electionday', 'electionday disagre', 'electionsmatt', 'electionsmatt novemberiscom', 'electiontim', 'electiontim donthecon', 'elector', 'elector colleg', 'elimin', 'elimin biden', 'elimin pre', 'elimin process', 'elit', 'elit want', 'elizabeth', 'elizabeth want', 'elizabeth warren', 'elizabethwarren', 'elizabethwarren donaldtrump', 'eloqu', 'eloqu empathi', 'els', 'els get', 'els joebiden', 'els trump', 'els vote', 'email', 'email antifa', 'embarrass', 'embarrass democrat', 'embarrass user', 'embellish', 'embellish trumpcrimefamilyforprison', 'embrac', 'embrac lack', 'embrac progress', 'embrac user', 'emerg', 'emerg resist', 'emot', 'emot connect', 'emot delawar', 'emot mental', 'emot respond', 'emotionless', 'emotionless agenda', 'emp', 'emp benefit', 'empathi', 'empathi hope', 'employ', 'employ black', 'employe', 'employe laid', 'empti', 'empti democrat', 'encourag', 'encourag commun', 'encourag other', 'encourag talk', 'end', 'end 2019', 'end bash', 'end biden2020', 'end choos', 'end fail', 'end frack', 'end gop', 'end http', 'end juli', 'end next', 'end riot', 'end self', 'end stage', 'end votebluetosaveamerica', 'endang', 'endang peopl', 'endless', 'endless violenc', 'endlesswar', 'endlesswar obama', 'endofcapit', 'endofcapit trump2020', 'endofjuli', 'endofjuli attheend', 'endoftim', 'endoftim endofcapit', 'endors', 'endors democrat', 'endors trump2020', 'endthenightmar', 'endthenightmar biden2020', 'enemi', 'enemi china', 'enemi help', 'enemi home', 'enemi rnc2020', 'energi', 'energi biden', 'energi demdeb', 'energi hope', 'energi job', 'energi rnc', 'engag', 'engag encourag', 'engag hors', 'enhanc', 'enhanc true', 'enjoy', 'enjoy appreci', 'enjoy pleas', 'enjoy republican', 'enjoy upbeat', 'enough', 'enough charact', 'enough continu', 'enough feel', 'enough fight', 'enough harri', 'enough impeach', 'enough info', 'enough misconduct', 'enough proof', 'enough stand', 'enough votebluetosaveamerica', 'enrag', 'enrag shitlib', 'entir', 'entir citi', 'entir internet', 'entir platform', 'entir republican', 'entir thought', 'entir world', 'environment', 'environment regul', 'environmentaljustic', 'environmentaljustic bill', 'epa', 'epa er', 'epic', 'epic endthenightmar', 'epsteinisland', 'epsteinisland affair', 'equal', 'equal let', 'equiti', 'equiti vs', 'equival', 'equival vote', 'er', 'er block', 'erad', 'erad support', 'eric', 'eric user', 'erod', 'erod trust', 'escal', 'escal twitter', 'especi', 'especi black', 'especi peopl', 'et', 'et http', 'et regist', 'etc', 'etc howev', 'etc must', 'etc set', 'etc trump2020', 'ethic', 'ethic monetarili', 'ettd', 'ettd crueltyishispoint', 'ettd votebluetosaveamerica', 'europ', 'europ europeanunion', 'europ path', 'european', 'european demand', 'european viru', 'europeanunion', 'eva', 'eva sold', 'evalongoria', 'evalongoria dress', 'evangel', 'evangel biggest', 'evas', 'evas launder', 'eve', 'eve believ', 'even', 'even 200k', 'even 2016', 'even answer', 'even attend', 'even condemn', 'even count', 'even democrat', 'even destroy', 'even endang', 'even get', 'even googl', 'even gun', 'even handl', 'even includ', 'even lower', 'even mean', 'even miss', 'even plan', 'even prayer', 'even speak', 'even tri', 'even within', 'even wors', 'even worth', 'even write', 'evenli', 'evenli divid', 'event', 'event thursday', 'eventu', 'eventu clear', 'eventu know', 'ever', 'ever activ', 'ever angri', 'ever ask', 'ever condemn', 'ever economi', 'ever fightvoterfraud', 'ever forget', 'ever held', 'ever incumb', 'ever kag', 'ever love', 'ever seen', 'ever take', 'ever taken', 'ever thing', 'ever trump2020', 'ever trump2020landslidevictori', 'ever votebluetosaveamerica', 'ever wit', 'everi', 'everi american', 'everi aspect', 'everi bit', 'everi color', 'everi fight', 'everi follow', 'everi hoax', 'everi minut', 'everi peac', 'everi poll', 'everi question', 'everi ralli', 'everi singl', 'everi time', 'everi trump', 'everi vote', 'everybodi', 'everybodi block', 'everybodi get', 'everyday', 'everyday novemb', 'everyon', 'everyon back', 'everyon despis', 'everyon els', 'everyon know', 'everyon like', 'everyon liter', 'everyon need', 'everyon rt', 'everyon stage', 'everyon talk', 'everyon vote', 'everyth', 'everyth arrest', 'everyth democrat', 'everyth lost', 'everyth neg', 'everyth presidenttrump', 'everyth racist', 'everyth tri', 'everywher', 'everywher im', 'everywher mr', 'evict', 'evict hungri', 'evicttrump', 'evicttrump theresist', 'evid', 'evid innoc', 'evid qanon', 'evil', 'evil head', 'ew', 'ew berni', 'ew look', 'exactli', 'exactli happen', 'exactli hour', 'exactli right', 'exactli someth', 'exactli trump', 'exactli tweet', 'exactli user', 'exactli votebluetosaveamerica', 'exampl', 'exampl said', 'exampl vote', 'except', 'except cheat', 'except lead', 'excit', 'excit actual', 'excit hear', 'excit polici', 'excit start', 'excit turn', 'excus', 'excus earn', 'excus flesh', 'excus man', 'excus public', 'execut', 'execut action', 'execut biden', 'execut civil', 'execut order', 'execut team', 'execut time', 'execut tv', 'executiveord', 'exist', 'exist condit', 'exist wmd', 'existenti', 'existenti threat', 'expand', 'expand http', 'expect', 'expect demdeb', 'expect dnc2020', 'expect noth', 'expect past', 'expect say', 'expect shameless', 'expect user', 'expectu', 'expectu votebluetosaveamerica', 'expens', 'expens pizzagatelsr', 'expens state', 'experi', 'experi behind', 'experi consequencesfortrump', 'experi crisi', 'experi need', 'experienc', 'experienc arab', 'expert', 'expert compar', 'expert yeah', 'expos', 'expos go', 'expos goggl', 'expos http', 'expos pedophilia', 'extend', 'extend jobless', 'extens', 'extens vile', 'extent', 'extent polit', 'extrem', 'extrem pain', 'extrem push', 'extrem trump', 'extrem well', 'exud', 'exud demconvent', 'eye', 'eye watch', 'face', 'face failur', 'face presid', 'face reveal', 'face vote', 'face whenev', 'facilit', 'facilit even', 'fact', 'fact bad', 'fact check', 'fact everyon', 'fact fact', 'fact fbi', 'fact independ', 'fact left', 'fact right', 'fact trump2020', 'fact user', 'fact zero', 'faction', 'faction latino', 'factor', 'factor ill', 'factsmatt', 'factsmatt trump2020', 'fail', 'fail act', 'fail alway', 'fail america', 'fail block', 'fail coronaviru', 'fail experi', 'fail lead', 'fail leader', 'fail presid', 'failur', 'failur divorc', 'failur trump', 'fair', 'fair let', 'fair share', 'fake', 'fake america', 'fake doctor', 'fake flopper', 'fake lost', 'fake media', 'fake news', 'fake polit', 'fakenew', 'fakenew finest', 'fakenew lurk', 'fakenew pardon4vot', 'fakenew sleep', 'fakenewscnn', 'fakenewscnn trump2020', 'fakenewsmedia', 'fakenewsmedia smart', 'fakepresid', 'fall', 'fall asleep', 'fall behind', 'fall cancel', 'fall fals', 'fall flatteri', 'fall presidentialrac', 'fall sky', 'fall utter', 'fall way', 'fallen', 'fallen soldier', 'fallen would', 'fals', 'fals accus', 'fals claim', 'fals divis', 'fals narr', 'falsehood', 'falsehood biden', 'falsehood lie', 'famili', 'famili adher', 'famili amp', 'famili complicit', 'famili demconvent', 'famili demon', 'famili famili', 'famili friend', 'famili futur', 'famili imprison', 'famili member', 'famili peopl', 'famili thank', 'famili tie', 'famili wise', 'famili worship', 'fan', 'fan orang', 'fanart', 'fanart pencil', 'fantasi', 'fantasi poll', 'far', 'far better', 'far fewer', 'far stronger', 'far trump', 'farther', 'farther left', 'fascist', 'fascist give', 'fast', 'fast forward', 'fast furiou', 'fastest', 'fastest safest', 'fat', 'fat ass', 'fat black', 'fat fake', 'fauci', 'fauci vote2020', 'fault', 'fault maga', 'fault stop', 'fault user', 'faux', 'faux outrag', 'fauxnew', 'fauxnew call', 'favor', 'favor biden', 'fbi', 'fbi bldg', 'fbi director', 'fbi site', 'fbr', 'fbr presidentbiden', 'fbr voteblue2020', 'fbrpartytim', 'fbrpartytim fbr', 'fdt', 'fdt savethepostoffic', 'fear', 'fear fear', 'fear light', 'fear rude', 'fear smear', 'fear trump', 'fear voteforbidenharri', 'fearmong', 'fearmong trumpisnotwel', 'featur', 'featur racist', 'februari', 'februari 2nd', 'fed', 'fed amp', 'fed user', 'feder', 'feder fund', 'feder law', 'feel', 'feel bad', 'feel good', 'feel hope', 'feel like', 'feel much', 'feel other', 'feel right', 'feel said', 'feel sorri', 'feel want', 'fellow', 'fellow man', 'felon', 'felon day', 'felt', 'felt hope', 'felt like', 'felt pen', 'femal', 'femal offic', 'femal run', 'femal vp', 'femanist', 'femanist idiot', 'fewer', 'fewer trump', 'ff', 'ff would', 'fiancé', 'fiancé tonight', 'field', 'field day', 'field full', 'fieri', 'fieri presidenti', 'fight', 'fight back', 'fight dark', 'fight elimin', 'fight evil', 'fight flip', 'fight nevada', 'fight oh', 'fight still', 'fight stop', 'fight tyranni', 'fight warren', 'fightback', 'fightback wwg1gwa', 'fightbackamerica', 'fightbackamerica trumpwarrior', 'fightvoterfraud', 'fightvoterfraud voterfraud', 'figur', 'figur fit', 'figur moneymak', 'figur profit', 'file', 'file chapter', 'fillerbust', 'fillerbust lie', 'filthi', 'filthi infecti', 'final', 'final debat', 'final night', 'final push', 'final user', 'find', 'find http', 'find joebiden', 'find singl', 'find strang', 'find trump', 'fine', 'fine person', 'finest', 'finest negat', 'finest video', 'finish', 'finish answer', 'fire', 'fire bomb', 'fire cali', 'fire hate', 'fire readi', 'fire string', 'firefight', 'firefight blue', 'firethom', 'firethom dnc2020', 'firework', 'firework must', 'first', 'first black', 'first day', 'first find', 'first israel', 'first nation', 'first person', 'first presidenti', 'first respond', 'first term', 'first thing', 'first time', 'first trump', 'first week', 'first woman', 'fit', 'fit bottom', 'fit cloth', 'fit job', 'fit lead', 'fit new', 'fit uniform', 'five', 'five hundr', 'five minut', 'fix', 'fix fire', 'fix mess', 'fk', 'fk polic', 'fl22', 'fl22 maga', 'flag', 'flag militari', 'flail', 'flail man', 'flapol', 'flapol floridaprimari', 'flat', 'flat lie', 'flatli', 'flatli reject', 'flatteri', 'flatteri dictat', 'fleec', 'flesh', 'flesh trump2020', 'flew', 'flew back', 'fli', 'fli one', 'flight', 'flight countri', 'flip', 'flip last', 'flip rnc', 'fliptx14', 'fliptx14 demconvent', 'flop', 'flop maga', 'flopper', 'flopper look', 'florida', 'florida district', 'florida trumpcountri', 'floridaprimari', 'fluoresc', 'fluoresc thing', 'focu', 'focu gotv', 'focu hate', 'focu main', 'focu polici', 'focu truth', 'folk', 'folk call', 'folk demdeb', 'folk made', 'folk maga', 'folk mouth', 'follo4follo', 'follo4follo kag', 'follow', 'follow 2020elect', 'follow away', 'follow back', 'follow biden', 'follow count', 'follow dollar', 'follow everyon', 'follow give', 'follow immedi', 'follow last', 'follow least', 'follow maga', 'follow patriot', 'follow peopl', 'follow pleas', 'follow reach', 'follow rnc', 'follow rt', 'follow rule', 'follow sever', 'follow train', 'follow trump', 'follow us', 'follow would', 'followback', 'followback everyon', 'followblueback', 'followblueback voteblu', 'food', 'food fight', 'food stamp', 'food tabl', 'food truck', 'fool', 'fool 2016', 'fool biden2020', 'fool bidenwon', 'fool cant', 'fool get', 'fool like', 'fool vote', 'footag', 'footag arstechnica', 'footbal', 'footbal joe', 'forbidden', 'forbidden even', 'forehead', 'forehead paidinful', 'foreign', 'foreign govern', 'foreign leader', 'forget', 'forget close', 'forget democrat', 'forget give', 'forget kamalaharrisvp', 'forget like', 'forget support', 'forget trump', 'forgotten', 'forgotten fact', 'form', 'form fit', 'formal', 'formal accept', 'formal nomin', 'former', 'former california', 'former democrat', 'former presid', 'former rival', 'former us', 'formerliber', 'formerliber maga2020', 'fort', 'fort base', 'fortnit', 'fortnit kid', 'fortun', 'fortun soon', 'forum', 'forum delus', 'forward', 'forward 2020', 'forward candid', 'forward hear', 'forward receiv', 'forward trump2020', 'fossilfuel', 'fossilfuel compani', 'fought', 'fought coddl', 'fought decad', 'foundat', 'foundat countri', 'four', 'four year', 'fourmoreyear', 'fourmoreyear gop', 'fourmoreyear maga2020', 'fourmoreyear make', 'fourth', 'fourth could', 'fox', 'fox http', 'fox news', 'fox oann', 'fox trump', 'foxnew', 'foxnew fakepresid', 'foxnew tweet', 'foxnewssuck', 'frack', 'frack car', 'francisco', 'francisco street', 'frantic', 'frantic mode', 'freak', 'freak admin', 'free', 'free healthcar', 'free let', 'free sign', 'free utopian', 'freedom', 'freedom american', 'freedom attack', 'freedom gottavotetrump', 'freedom last', 'freedom like', 'freedom ownit', 'freedom social', 'freedomofspeech', 'freedomofspeech buildthewal', 'freek', 'freek wait', 'freekylerittennhous', 'freekylerittennhous godwin', 'fresh', 'fresh cut', 'friday', 'friday dem', 'friday follow', 'fridayfeel', 'fridayfeel resist', 'fridaymotiv', 'fridaymotiv fridayfeel', 'fridaythought', 'fridaythought fridaymotiv', 'fridayvib', 'fridayvib fridaythought', 'friend', 'friend anyth', 'friend famili', 'friend jeff', 'friend like', 'friend mine', 'friend one', 'friend pl', 'friend save', 'friend senat', 'friend told', 'friend user', 'frig', 'frig problem', 'friggin', 'friggin exampl', 'fring', 'fring right', 'front', 'front busi', 'front crowd', 'front microphon', 'front suck', 'frontlinework', 'frontlinework scientist', 'fuck', 'fuck away', 'fuck demon', 'fuck donald', 'fuck fuck', 'fuck klobuchar', 'fuck lmao', 'fuck maniac', 'fuck stage', 'fuck wrong', 'fuckantifa', 'fuckantifa bluelivesmatt', 'fuckblm', 'fuckblm fuckantifa', 'fuckcnn', 'fuckcnn democraticdeb', 'fuckcreepyjo', 'fuckcreepyjo trump2020', 'fucktrump', 'fucktrump http', 'fuel', 'fuel fire', 'fuel trumpet', 'full', 'full crap', 'full frantic', 'full lie', 'full rant', 'full republican', 'full snake', 'full steam', 'full stop', 'full support', 'full time', 'fullmoon', 'fullmoon 2020vision', 'fun', 'fun biden', 'fun total', 'fun votebluetosaveamerica', 'function', 'function brain', 'fund', 'fund blmdomesticterrorist', 'fund dem', 'fund pac', 'fund pay', 'funni', 'funni bidenharris2020tosaveamerica', 'funni sell', 'furiou', 'furiou take', 'futur', 'futur ag', 'futur energi', 'futur former', 'futur futur', 'futur nation', 'futur said', 'futur truth', 'futur watch', 'gain', 'gain 943', 'gain popular', 'gain rnc2020', 'gain shield', 'gall', 'gall question', 'game', 'game demdeb', 'game seri', 'game stop', 'game user', 'gang', 'gang organ', 'gang see', 'gang trump', 'garden', 'garden girl', 'garden still', 'gaslight', 'gaslight america', 'gaslight use', 'gather', 'gather begun', 'gather place', 'gave', 'gave state', 'gay', 'gay right', 'gayl', 'gayl king', 'gear', 'gear fat', 'gee', 'gee patriot', 'gender', 'gender becom', 'gender margin', 'gender pleas', 'gender race', 'gender trump2020', 'gener', 'gener deni', 'gener imaginari', 'genuin', 'genuin trump', 'georgefloyd', 'georgefloyd breonnataylor', 'georgesoro', 'georgesoro fund', 'geraldin', 'geraldin page', 'germani', 'germani ted', 'gesticul', 'gesticul wealthi', 'gestur', 'gestur allow', 'gestur peac', 'get', 'get america', 'get amp', 'get angri', 'get anoth', 'get away', 'get biden', 'get brief', 'get butt', 'get coher', 'get elect', 'get everyon', 'get evict', 'get fact', 'get fight', 'get fortnit', 'get free', 'get fuck', 'get hope', 'get hypocrit', 'get impati', 'get info', 'get inspect', 'get involv', 'get job', 'get leader', 'get littl', 'get lost', 'get machin', 'get medicar', 'get moder', 'get move', 'get nomin', 'get noth', 'get old', 'get one', 'get organ', 'get paid', 'get perspect', 'get prime', 'get rave', 'get readi', 'get requir', 'get rid', 'get ridicul', 'get roll', 'get sander', 'get sent', 'get skin', 'get sonnyboy', 'get swamp', 'get time', 'get trend', 'get troubl', 'get trump', 'get trump2020', 'get truth', 'get ugli', 'get unemploy', 'get vote', 'get way', 'get wife', 'get wors', 'get wrong', 'getoutthevot', 'getoutthevot vote', 'getregisteredtoday', 'getregisteredtoday gop', 'gger', 'gger ggot', 'ggot', 'ggot ignor', 'ggot sent', 'ghetto', 'ghost', 'ghost rider', 'giant', 'giant downer', 'giberish', 'giberish amp', 'gif', 'gif presid', 'gift', 'gift trump2020', 'gig', 'gig user', 'girl', 'girl http', 'girl suspect', 'give', 'give bankrupt', 'give biden', 'give corp', 'give crap', 'give damn', 'give donat', 'give enough', 'give fact', 'give four', 'give gop', 'give govern', 'give hero', 'give much', 'give open', 'give smart', 'give trump', 'give whole', 'give word', 'given', 'given death', 'given minor', 'given presid', 'glaad', 'glaad http', 'glad', 'glad call', 'glad expos', 'glad none', 'glad noth', 'glad see', 'glass', 'glass water', 'gleeful', 'gleeful trump2020', 'global', 'global commi', 'global corrupt', 'global democrat', 'global pandem', 'globalreset', 'globalreset endoftim', 'globe', 'globe watch', 'glori', 'glori would', 'glove', 'glove sander', 'gma', 'gma like', 'go', 'go ahead', 'go back', 'go benefit', 'go berni', 'go bet', 'go come', 'go cut', 'go demconvent', 'go drop', 'go equival', 'go expect', 'go figur', 'go folk', 'go get', 'go hand', 'go hell', 'go histori', 'go kamala', 'go keep', 'go leftist', 'go like', 'go lit', 'go live', 'go lose', 'go march', 'go match', 'go much', 'go place', 'go plan', 'go sake', 'go sh', 'go south', 'go spend', 'go start', 'go steal', 'go take', 'go toe', 'go trump', 'go trump2020', 'go twitter', 'go user', 'go vote', 'go votebidentosaveamerica', 'go voteblue2020', 'go votebluetosaveamerica', 'go watch', 'go websit', 'go well', 'go win', 'go youtub', 'goal', 'goal http', 'goat', 'goat manipul', 'god', 'god bless', 'god dsdt2020', 'god ear', 'god famili', 'god god', 'god love', 'god mean', 'god muslim', 'god remov', 'god rest', 'god servic', 'god tell', 'god trump', 'god trump2020', 'god will', 'godbless', 'godblessamerica', 'godblessamerica http', 'godwin', 'godwin god', 'godwin http', 'goe', 'goe chanc', 'goe full', 'goe prove', 'goggl', 'goggl http', 'gojo', 'gojo votebluetosaveamerica', 'gold', 'gold help', 'gold news', 'goldpric', 'goldpric http', 'golli', 'golli take', 'gone', 'gone miss', 'gone would', 'gonna', 'gonna get', 'gonna give', 'gonna lie', 'gonna loooooong', 'gonna race', 'gonna smoke', 'good', 'good 2020', 'good actual', 'good america', 'good bad', 'good compani', 'good control', 'good creat', 'good day', 'good enough', 'good even', 'good fact', 'good friend', 'good heart', 'good kind', 'good laugh', 'good look', 'good morn', 'good pay', 'good person', 'good polit', 'good see', 'good show', 'good shower', 'good talk', 'good tri', 'good trump2020', 'good voteblu', 'googl', 'googl find', 'gop', 'gop backward', 'gop buildbackbett', 'gop constitut', 'gop donald', 'gop gopconvention2020', 'gop grave', 'gop http', 'gop kag', 'gop less', 'gop made', 'gop member', 'gop need', 'gop rule', 'gop senat', 'gop stop', 'gop strategist', 'gop tri', 'gop user', 'gop voter', 'gop want', 'gopbetrayedamerica', 'gopbetrayedamerica must', 'gopconvent', 'gopconvent americafirst', 'gopconvention2020', 'gopconvention2020 trumpchao', 'gopcorruptionovercountri', 'gopcorruptionovercountri gop', 'gopcorruptionovercountri votebluetosaveamerica', 'gopcoward', 'gopcoward want', 'gopgaslight', 'gopgaslight idiotbas', 'gosh', 'gosh media', 'got', 'got away', 'got big', 'got call', 'got caught', 'got effect', 'got get', 'got hairi', 'got infect', 'got lazi', 'got rid', 'got say', 'got vote', 'gotta', 'gotta bring', 'gotta get', 'gotta love', 'gotta regist', 'gotta say', 'gottavotetrump', 'gottavotetrump trump2020', 'gotv', 'gotv effort', 'gover', 'gover aid', 'govern', 'govern america', 'govern check', 'govern creat', 'govern decid', 'govern gop', 'govern interfer', 'govern let', 'govern rob', 'govern run', 'govern taken', 'govern two', 'govern votelikeyourlifedependsonit', 'govern want', 'governmentoverreach', 'governmentoverreach votetrumpout', 'governor', 'governor allow', 'governor amp', 'governor antifa', 'governor love', 'governor mayor', 'governor nice', 'governor wisconsin', 'govt', 'govt http', 'govt realiti', 'gracia', 'gracia hermano', 'grade', 'grade parti', 'gradual', 'gradual embellish', 'graffiti', 'graffiti trump', 'graham', 'graham donald', 'grant', 'grant draintheswamp', 'grante', 'grante serv', 'grappl', 'grappl legaci', 'grasp', 'grasp concept', 'grasp straw', 'grassroot', 'grassroot hrc', 'grave', 'grave danger', 'grave practic', 'gray', 'gray hair', 'great', 'great 4u', 'great american', 'great bell', 'great convent', 'great crisi', 'great hahaha', 'great job', 'great makeamericagreatagain', 'great open', 'great opportun', 'great soul', 'great speech', 'great spread', 'great strong', 'great thing', 'great trump2020', 'great work', 'greatest', 'greatest elect', 'green', 'green vote', 'greg', 'greg kelli', 'grenadin', 'grenadin woooohooo', 'grenel', 'grenel rnc', 'grew', 'grew nope', 'grifter', 'grifter see', 'grope', 'grope sniff', 'ground', 'ground thought', 'group', 'group antifa', 'group gender', 'group like', 'group repres', 'group stand', 'grovel', 'grovel sycoph', 'grow', 'grow follow', 'grow outlandish', 'grow sinc', 'gt', 'gt believ', 'gt http', 'guarante', 'guarante trump', 'guess', 'guess biden', 'guess cult45', 'guess might', 'guess parti', 'guess usp', 'guess woman', 'guess worri', 'guilfoylechalleng', 'guilfoylechalleng would', 'gun', 'gun reform', 'gun seem', 'gush', 'gush prais', 'guy', 'guy everybodi', 'guy excus', 'guy find', 'guy grifter', 'guy nail', 'guy religion', 'guy spend', 'guy still', 'guy think', 'hack', 'hack fakenewscnn', 'hack phone', 'hack swamp', 'hag', 'hag week', 'hahaha', 'hahaha maga', 'hahahaha', 'hahahaha today', 'hair', 'hair dy', 'hair http', 'hair touch', 'hairi', 'hairi leg', 'half', 'half brain', 'half countri', 'half dozen', 'hamilton', 'hamilton hot', 'hand', 'hand biden', 'hand draintheswamp', 'hand hand', 'hand offer', 'hand sanit', 'hand show', 'hand sign', 'hand take', 'hand trump', 'hand wait', 'handl', 'handl coronaviru', 'handl fuck', 'handler', 'handler campaign', 'handler chosen', 'hang', 'hang maga2020', 'happen', 'happen 2b', 'happen bernel', 'happen easi', 'happen formerliber', 'happen intrumpsamerica', 'happen need', 'happen noth', 'happen politician', 'happen profession', 'happen right', 'happen see', 'happen sure', 'happen us', 'happen yet', 'happi', 'happi anyon', 'happi friday', 'happi labor', 'happi trump', 'happylaborday', 'happylaborday laborday', 'hard', 'hard behalf', 'hard honest', 'hard kany', 'hard love', 'harden', 'harden level', 'hardli', 'hardli democrat', 'harr', 'harr http', 'harri', 'harri 2020', 'harri becom', 'harri biden', 'harri candid', 'harri describ', 'harri destroy', 'harri dnc', 'harri go', 'harri light', 'harri lock', 'harri put', 'harri run', 'harri say', 'harri sign', 'harri somebodi', 'harri test', 'hat', 'hat call', 'hat compliment', 'hat demconvent', 'hat execut', 'hat http', 'hate', 'hate america', 'hate come', 'hate crime', 'hate divis', 'hate election2020', 'hate empti', 'hate god', 'hate hope', 'hate peopl', 'hate quit', 'hate rd', 'hate slur', 'hate trump', 'hatr', 'hatr america', 'hatr fear', 'hatr user', 'havasu', 'havasu cigar', 'hay', 'hay dummi', 'head', 'head maga', 'head snake', 'headlin', 'headlin speaker', 'headphon', 'headquart', 'headquart sign', 'health', 'health care', 'health emerg', 'health insur', 'health issu', 'health letter', 'healthcar', 'healthcar biden', 'healthcar univers', 'healthcar votingright', 'healthcareforal', 'healthcareforal climateactionnow', 'healthcareforal http', 'healthcareforal opportun', 'healthcarework', 'healthcarework medicalstaff', 'hear', 'hear aid', 'hear amaz', 'hear biden', 'hear build', 'hear hunter', 'hear speak', 'hear thought', 'hear total', 'hear word', 'hear year', 'heard', 'heard trump', 'heart', 'heart man', 'heart presid', 'heart still', 'heavili', 'heavili infect', 'held', 'held back', 'held senat', 'hell', 'hell almost', 'hell biden', 'hell maga', 'hell reserv', 'hell user', 'hella', 'hella inspir', 'hellnodementiajo', 'hellnodementiajo trump2020', 'hello', 'hello futur', 'help', 'help american', 'help biden', 'help black', 'help chines', 'help clean', 'help facilit', 'help get', 'help grow', 'help love', 'help millionair', 'help need', 'help one', 'help peopl', 'help pre', 'help save', 'help solv', 'help steal', 'help trump', 'help us', 'help would', 'henc', 'henc vet', 'here', 'here fact', 'hermano', 'hermano jeremyjack', 'hero', 'hero trump', 'hero uniform', 'hey', 'hey bill', 'hey dem', 'hey guilfoylechalleng', 'hey resist', 'hey son', 'hey user', 'hide', 'hide among', 'hide anymor', 'hide basement', 'hide desk', 'hidenbiden', 'high', 'high blame', 'high despit', 'high ground', 'high probabl', 'high road', 'high think', 'highli', 'highli respect', 'hijack', 'hijack marxist', 'hilari', 'hilari ahead', 'hilari go', 'hilari smackdown', 'hill', 'hill fliptx14', 'hill got', 'hillari', 'hillari barack', 'hillari beat', 'hillari clinton', 'hillari everi', 'hillari liber', 'hillari lost', 'hindu', 'hindu sikh', 'hire', 'hire someon', 'histor', 'histor nomin', 'histori', 'histori best', 'histori book', 'histori done', 'histori racist', 'histori savenavidafkari', 'histori sinc', 'hit', 'hit bullsey', 'hmmm', 'hmmm know', 'hmmmmm', 'hoard', 'hoard tp', 'hoax', 'hoax partisan', 'hogan', 'hogan mean', 'hold', 'hold breath', 'hold money', 'hold news', 'hole', 'hole domest', 'hole infiltr', 'hollywood', 'hollywood beach', 'home', 'home abroad', 'home call', 'home energi', 'home make', 'home mani', 'home scream', 'home sole', 'home solv', 'home trump', 'home user', 'homeless', 'hometown', 'hometown gain', 'homi', 'honest', 'honest work', 'honestli', 'honestli never', 'honestli part', 'honestli think', 'honor', 'honor first', 'honor glori', 'hoodi', 'hoodi bandanna', 'hope', 'hope amp', 'hope better', 'hope biden', 'hope biden2020', 'hope blow', 'hope countri', 'hope etc', 'hope futur', 'hope keep', 'hope leadership', 'hope long', 'hope lot', 'hope peopl', 'hope power', 'hope presid', 'hope product', 'hope sake', 'hope sinc', 'hope spirit', 'hope trump', 'hope warren', 'horribl', 'horribl user', 'hors', 'hors even', 'hors play', 'hospit', 'hospit quarantin', 'hot', 'hot spring', 'hour', 'hour 0626', 'hour shoulder', 'hour stand', 'hour tre45onpuppet', 'hour week', 'hous', 'hous 13', 'hous 2020elect', 'hous cannot', 'hous flip', 'hous http', 'hous lose', 'hous repres', 'hous votebluenomatterwho', 'hous worship', 'houston', 'houston opportun', 'howev', 'howev nyt', 'howev uneduc', 'howtovot', 'howtovot registertovot', 'hr', 'hr user', 'hrc', 'hrc glaad', 'hs', 'hs tonight', 'http', 'http 18', 'http anyon', 'http berniewonia', 'http bidenharri', 'http covid19', 'http demdeb', 'http dnc2020', 'http fridayvib', 'http http', 'http impeachtrumpagain', 'http joebiden', 'http jojorgensen2020', 'http knew', 'http leftw', 'http let', 'http rampant', 'http sign', 'http suppos', 'http trump', 'http trump2020', 'http vppenc', 'huckster', 'huckster blackfac', 'huge', 'huge heart', 'huge honor', 'huge vote', 'human', 'human disingenu', 'human hope', 'human sound', 'hummin', 'humor', 'humor trump2020', 'hundr', 'hundr religi', 'hundr thousand', 'hundr year', 'hungri', 'hunter', 'hunter biden', 'hunter brother', 'hunter suddenli', 'hurl', 'hurl racist', 'hurt', 'hurt biden', 'hurt democrat', 'husband', 'husband citizen', 'hush', 'hush buddi', 'hussein', 'hussein third', 'hypocrisi', 'hypocrisi finest', 'hypocrisi gop', 'hypocrisi show', 'hypocrit', 'hypocrit everyth', 'hypocrit surpris', 'hypocrit take', 'hypocrit trump', 'hypocrit trump2020', 'hyster', 'hyster obstruct', 'iacaucu', 'iacaucu berniewon', 'ice', 'ice cake', 'ice cube', 'id', 'id biden', 'idea', 'idea civic', 'idea curs', 'idea full', 'idea give', 'idea handler', 'idea need', 'idea prefer', 'idea talk', 'ident', 'ident want', 'identifi', 'identifi prosecut', 'ideolog', 'ideolog distract', 'idgaf', 'idgaf pick', 'idioci', 'idioci left', 'idiot', 'idiot atyp', 'idiot logic', 'idiot protestor', 'idiotbas', 'idiotinchief', 'idiotinchief although', 'ignor', 'ignor hate', 'ignor joe', 'ignor know', 'ignor rule', 'ignor white', 'ill', 'ill also', 'ill inform', 'illadvis', 'illadvis statement', 'illustr', 'illustr http', 'illustr lie', 'illustr sketchbook', 'im', 'im follow', 'im sure', 'ima', 'ima take', 'imagin', 'imagin besid', 'imagin like', 'imagin must', 'imaginari', 'imaginari excit', 'imma', 'imma keep', 'immatur', 'immatur idiot', 'immedi', 'immedi fillerbust', 'immedi result', 'immedi senior', 'immigr', 'immigr headlin', 'immigr told', 'immor', 'immor one', 'impact', 'impact covid_19', 'impati', 'impati time', 'impeach', 'impeach hear', 'impeach nobel', 'impeach remov', 'impeachtrumpagain', 'impeachtrumpagain votebluetosaveamerica', 'implement', 'implement import', 'import', 'import critic', 'import elect', 'import gender', 'import inform', 'import issu', 'import subject', 'impress', 'impress everyon', 'impress speech', 'imprison', 'imprison thousand', 'improv', 'improv thing', 'imwithjo', 'inaugur', 'inaugur hatr', 'incessantli', 'incessantli well', 'inch', 'inch presid', 'includ', 'includ biden', 'includ black', 'includ one', 'includ presidenti', 'includ women', 'inclus', 'inclus howev', 'incoher', 'incoher inept', 'incom', 'incom tax', 'incompet', 'incompet boot', 'incompet feel', 'incompet solv', 'incompet trump2020', 'incomprehens', 'increas', 'increas current', 'increas employ', 'increas voter', 'incumb', 'incumb run', 'inde', 'inde increas', 'indefens', 'indefens whatabout', 'independ', 'independ alway', 'independ voter', 'indi', 'indi voter', 'india', 'india oldest', 'indiana', 'indiana indianapoli', 'indianapoli', 'indianapoli votersuppress', 'indoor', 'indoor make', 'industri', 'industri group', 'inept', 'inept govern', 'inept incompet', 'inept leadership', 'infant', 'infant care', 'infect', 'infect lost', 'infect pelosi', 'infecti', 'infecti diseas', 'infiltr', 'infiltr win', 'inflat', 'inflat doll', 'influenc', 'influenc outcom', 'influenc us', 'info', 'info convinc', 'info upcom', 'inform', 'inform could', 'inform ignor', 'inform regurgit', 'inform us', 'inject', 'injustic', 'injustic wake', 'ink', 'ink pencildraw', 'innoc', 'innoc bash', 'innoc children', 'innoc man', 'insan', 'insan expect', 'insan whole', 'inshallah', 'inshallah biden', 'inshallah trump', 'inspect', 'inspect way', 'inspir', 'inspir angri', 'inspir hope', 'inspir militia', 'inspir stori', 'inspir vote', 'instaart', 'instaart fanart', 'instead', 'instead ask', 'instead pay', 'instead presidentialdeb', 'instead racist', 'instead san', 'instruct', 'instruct pat', 'insult', 'insult fieri', 'insult hell', 'insur', 'insur user', 'insurrectionist', 'insurrectionist arsonist', 'intellig', 'intellig experi', 'intellig peopl', 'intend', 'intend american', 'intent', 'intent dem', 'interest', 'interest elect', 'interest fake', 'interest mind', 'interf', 'interf russia', 'interfer', 'interfer elect', 'interfer investig', 'interject', 'interject biden', 'internet', 'internet maga', 'interrupt', 'interrupt biden', 'interrupt men', 'interrupt wast', 'intersect', 'intersect demdeb', 'interst', 'interst gather', 'interview', 'interview indefens', 'introduc', 'introduc joe', 'intrumpsamerica', 'intrumpsamerica votebluetosaveamerica', 'investig', 'investig realli', 'involv', 'involv planet', 'iowa', 'iowa may', 'iphon', 'iphon stop', 'iran', 'iran way', 'iranian', 'iranian love', 'iranianfortrump', 'iranianfortrump makeamericagreatagain', 'iranianslovetrump', 'iranianslovetrump iranianfortrump', 'iranianssupporttrump', 'iraq', 'iraq war', 'irrelev', 'irrelev even', 'isi', 'isi 2018', 'island', 'island men', 'ism', 'ism trump', 'isnt', 'isnt deal', 'israel', 'israel endlesswar', 'israel muslim', 'issa', 'issa like', 'issu', 'issu blackwomen', 'issu go', 'issu hand', 'issu hilari', 'issu state', 'issu vote2020', 'italia', 'italia kelli', 'iv', 'iv user', 'ivanka', 'ivanka job', 'jack', 'jack sh', 'jacob', 'jacob blake', 'jacquelyn', 'jacquelyn brittani', 'jail', 'jail call', 'jaimeharrison', 'jaimeharrison trump', 'jame', 'jame corden', 'jame harden', 'jan', 'jan 31', 'jason', 'jason johnson', 'jay', 'jay danielson', 'jayap', 'jayap dncplatform', 'jealou', 'jealou jeff', 'jealou much', 'jeff', 'jeff bezo', 'jeff cancelcultur', 'jeff user', 'jefferson', 'jefferson februari', 'jelli', 'jelli much', 'jennif', 'jennif trump2020', 'jepardi', 'jepardi support', 'jeremyjack', 'jeremyjack jeremyjackcigar', 'jeremyjackcigar', 'jeremyjackcigar jj23', 'jesu', 'jesu eat', 'jew', 'jew hindu', 'jill', 'jill biden', 'jim', 'jim jone', 'jj23', 'jj23 trump', 'jk', 'jk connect', 'job', 'job bui', 'job control', 'job creation', 'job elimin', 'job ever', 'job fbrpartytim', 'job help', 'job manag', 'job mani', 'job safeti', 'job stock', 'job trump', 'job trump2020', 'job vivatheresist', 'job votebluedownballot', 'jobless', 'jobless aid', 'joe', 'joe biden', 'joe clearli', 'joe far', 'joe free', 'joe genuin', 'joe get', 'joe got', 'joe hand', 'joe joebiden2020', 'joe kamala', 'joe know', 'joe let', 'joe maga', 'joe mechan', 'joe never', 'joe number', 'joe radic', 'joe rememb', 'joe sinc', 'joe stay', 'joe trump2020', 'joebiden', 'joebiden 2020elect', 'joebiden aa', 'joebiden actual', 'joebiden address', 'joebiden artist', 'joebiden biden2020', 'joebiden bidenharri', 'joebiden capitald', 'joebiden clearli', 'joebiden complet', 'joebiden corrupt', 'joebiden day', 'joebiden demconvent', 'joebiden everyth', 'joebiden gain', 'joebiden get', 'joebiden great', 'joebiden http', 'joebiden joe', 'joebiden kamalaharri', 'joebiden know', 'joebiden nap', 'joebiden one', 'joebiden pick', 'joebiden presidentbiden', 'joebiden presidenttrump', 'joebiden press', 'joebiden realiti', 'joebiden realli', 'joebiden run', 'joebiden senatormccain', 'joebiden sunday', 'joebiden top', 'joebiden uselect', 'joebiden user', 'joebiden vppick', 'joebiden white', 'joebiden would', 'joebiden2020', 'joebiden2020 biden2020', 'joebidenkamalaharris2020', 'joebidenkamalaharris2020 joebiden', 'joewir', 'joewir debates2020', 'john', 'john fleec', 'john kennedi', 'johnson', 'johnson warn', 'join', 'join biden', 'join rank', 'join stage', 'join us', 'jointli', 'jointli endors', 'jojorgensen2020', 'jojorgensen2020 trump2020', 'joke', 'joke got', 'joke joebiden', 'joke nation', 'joke trump2020', 'jone', 'jone offer', 'journal', 'journal report', 'journalist', 'journalist along', 'joy', 'joy need', 'judg', 'judg barrett', 'juli', 'juli joe', 'julialouisdreyfu', 'julialouisdreyfu moder', 'justic', 'justic activist', 'justic clarenc', 'justic dnc2020', 'justic trump2020', 'justiceforal', 'justiceforal educationforal', 'justifi', 'justifi death', 'justifi scapegoat', 'kag', 'kag americafirst', 'kag freedomofspeech', 'kag http', 'kag kag2020', 'kag maga2020', 'kag money', 'kag prevent', 'kag regular', 'kag thank', 'kag trump', 'kag trump2020', 'kag user', 'kag wake', 'kag2020', 'kag2020 bebest', 'kag2020 denver', 'kag2020 fourmoreyear', 'kag2020 kag', 'kag2020 maga', 'kag2020 operationlegend', 'kag2020 trump2020', 'kag2020 user', 'kamala', 'kamala biden', 'kamala blow', 'kamala harri', 'kamala hillari', 'kamala joe', 'kamala see', 'kamala would', 'kamaladay', 'kamaladay vote', 'kamalaharri', 'kamalaharri democraticparti', 'kamalaharri http', 'kamalaharri joebiden', 'kamalaharri kamaladay', 'kamalaharri vice', 'kamalaharri wednesday', 'kamalaharrisisjustnotlik', 'kamalaharrisvp', 'kamalaharrisvp bidenharris2020', 'kamalaharrisvp kamalaisacop', 'kamalaharrisvp ridenwithbiden', 'kamalaharrisvp trumppressconfer', 'kamalaisacop', 'kamalaisacop firethom', 'kamalasalbatross', 'kamalasalbatross dnc', 'kamelaharri', 'kamelaharri aintit', 'kamelaharri hollywood', 'kany', 'kany west', 'karin4congress', 'karin4congress votebluenomatterwho', 'kaynewest', 'kaynewest great', 'kazarian', 'kazarian mafia', 'ke', 'ke gger', 'keep', 'keep america', 'keep black', 'keep everi', 'keep expos', 'keep great', 'keep hummin', 'keep like', 'keep make', 'keep power', 'keep push', 'keep real', 'keep say', 'keep speak', 'keep talk', 'keep track', 'keep unemploy', 'keepamericagreat', 'keepamericagreat trump2020', 'kelli', 'kelli dave', 'kelli report', 'kennedi', 'kennedi dream', 'kennedi even', 'kenosha', 'kenosha http', 'kenoshashoot', 'kenoshashoot tie', 'kenya', 'kenya africa', 'kept', 'kept promis', 'kept tradit', 'kevin', 'kevin want', 'key', 'key swing', 'keyboard', 'keyboard mansion', 'keynot', 'keynot bidenharris2020', 'keynot demconvent', 'kick', 'kick tonight', 'kid', 'kid 6th', 'kid brain', 'kid concern', 'kid gay', 'kid get', 'kid good', 'kid http', 'kid right', 'kid think', 'kill', 'kill 200k', 'kill black', 'kill children', 'kill debat', 'kill mani', 'kill may', 'kill media', 'kim', 'kim klacik', 'kind', 'kind brave', 'kind govern', 'kind loyalti', 'kind point', 'kind stuff', 'kind violenc', 'kinda', 'kinda feel', 'king', 'king joe', 'kingdomwithpahlavi', 'kingdomwithpahlavi user', 'kkk', 'kkk friend', 'kkk member', 'kkk racist', 'klacik', 'klacik day', 'klobuchar', 'klobuchar buttegieg', 'klobuchar demdeb', 'klobuchar harri', 'klobuchar make', 'klobuchar mutter', 'klobuchar walk', 'kneed', 'kneed democrat', 'kneel', 'kneel flag', 'kneepadsandpeepads2020', 'kneepadsandpeepads2020 best', 'knew', 'knew viru', 'knew would', 'knock', 'knock park', 'know', 'know best', 'know chump', 'know creat', 'know darn', 'know decrimin', 'know exactli', 'know fuckcnn', 'know get', 'know go', 'know great', 'know hurt', 'know know', 'know like', 'know mani', 'know merit', 'know nanci', 'know nobodi', 'know peopl', 'know prioriti', 'know purchas', 'know rather', 'know reelect', 'know right', 'know run', 'know serious', 'know singl', 'know stop', 'know strong', 'know suffer', 'know thing', 'know think', 'know traitorinchief', 'know tri', 'know trump', 'know trump2020', 'know truth', 'know unconstitut', 'know variou', 'know vote', 'know votebluetosaveamerica', 'know want', 'know world', 'know wtf', 'knowledg', 'knowledg trump', 'known', 'known sourc', 'knowyourdeplor', 'kobe', 'kobe memori', 'kobe name', 'korea', 'korea see', 'kristen', 'kristen urquiza', 'kungflu', 'kungflu saveourchildren', 'labor', 'labor day', 'labor wast', 'laborday', 'laborday trump2020', 'lack', 'lack given', 'lack logic', 'lack tri', 'laid', 'laid wo', 'lake', 'lake hamilton', 'lake hs', 'lakehavasu', 'lakehavasu az', 'laker', 'laker big', 'landscap', 'landscap come', 'landslid', 'landslid nevertrump', 'laratrump', 'laratrump rnc2020', 'larger', 'larger glass', 'largest', 'largest chemic', 'last', 'last 30', 'last boomer', 'last chanc', 'last hour', 'last least', 'last night', 'last person', 'last republican', 'last week', 'late', 'late especi', 'later', 'later wake', 'latino', 'latino amp', 'latino leader', 'laud', 'laud presidenti', 'laugh', 'laugh felt', 'laugh rest', 'laugh smoke', 'laugh stock', 'laugh vote', 'launder', 'launder sex', 'law', 'law amp', 'law get', 'law presidentjohnadam', 'law receiv', 'lawandord', 'lawandord usa', 'lawandordernow', 'lawandordernow teamtrump', 'lawenforc', 'lawenforc joebiden', 'lawless', 'lawless riot', 'lawsuit', 'lawsuit republican', 'lay', 'lay youtub', 'lazi', 'lazi one', 'lead', 'lead citizen', 'lead crook', 'lead entir', 'lead fall', 'lead good', 'lead last', 'lead let', 'lead micromanag', 'lead necessari', 'lead presidenti', 'lead pro', 'lead realiti', 'lead sold', 'lead texa', 'lead trump', 'lead unit', 'lead violenc', 'leader', 'leader across', 'leader amp', 'leader castro', 'leader christian', 'leader come', 'leader email', 'leader give', 'leader let', 'leader like', 'leader nation', 'leader offic', 'leader possibl', 'leader protect', 'leader run', 'leader stfu', 'leader think', 'leader vote', 'leader votebluetosaveamerica', 'leadership', 'leadership charact', 'leadership open', 'leadership presid', 'leadership trump2020', 'leadership unpreced', 'leagu', 'leagu london', 'learn', 'learn colleg', 'learn fk', 'learn run', 'least', 'least 17', 'least abhor', 'least anoth', 'least joe', 'least watch', 'leather', 'leather sack', 'leav', 'leav appl', 'leav citi', 'leav europ', 'leav offic', 'leav washington', 'led', 'led america', 'leech', 'leech across', 'left', 'left creat', 'left democrat', 'left get', 'left lie', 'left plantat', 'left scratch', 'left still', 'left truth', 'left want', 'left white', 'left woke', 'left wonder', 'lefti', 'lefti terrorist', 'leftisbest', 'leftisbest left', 'leftist', 'leftist experienc', 'leftist hurl', 'leftist leftisbest', 'leftist parti', 'leftw', 'leftw polit', 'leg', 'leg thing', 'legaci', 'legaci prove', 'legaci racial', 'legend', 'legend http', 'legend someon', 'legisl', 'legisl know', 'legitim', 'legitim convers', 'less', 'less anyth', 'less committ', 'less donaldtrump', 'less faction', 'less main', 'less stage', 'less target', 'less viewer', 'less year', 'lesson', 'lesson america', 'let', 'let agre', 'let alon', 'let america', 'let answer', 'let antifa', 'let biden', 'let build', 'let cancel', 'let get', 'let go', 'let help', 'let hundr', 'let improv', 'let includ', 'let man', 'let other', 'let piss', 'let poor', 'let reason', 'let remov', 'let retweet', 'let see', 'let stop', 'let thousand', 'let time', 'let tri', 'let trump', 'let us', 'letter', 'letter amp', 'letter thoma', 'level', 'level flop', 'lgbqt', 'lgbqt veteransagainsttrump', 'lgbt', 'lgbt vote2020', 'lgbtq', 'lgbtq activist', 'lgbtq elect', 'lgbtq lgbt', 'lgbtq peopl', 'liar', 'liar corrupt', 'liar get', 'lib', 'lib 125', 'liber', 'liber brainwash', 'liber democrat', 'liber fantasi', 'liber hack', 'liber must', 'liber polici', 'liber think', 'liber tonight', 'liber would', 'lid', 'lid creepyjoebiden', 'lie', 'lie amaz', 'lie amp', 'lie best', 'lie biden', 'lie came', 'lie cheat', 'lie circu', 'lie come', 'lie deflect', 'lie deliber', 'lie dig', 'lie dnc', 'lie dnc2020', 'lie easili', 'lie flail', 'lie giant', 'lie good', 'lie grow', 'lie guy', 'lie incessantli', 'lie lol', 'lie omit', 'lie presid', 'lie scari', 'lie sway', 'lie want', 'lieafterli', 'lieafterli votebluetosaveamerica', 'lier', 'lier user', 'life', 'life also', 'life democrat', 'life devest', 'life pleas', 'life say', 'life thing', 'life trump2020', 'life voter', 'lift', 'lift progress', 'light', 'light polici', 'light power', 'light project', 'light trump2020', 'light wtf', 'lighten', 'lighten earnest', 'like', 'like 2010', 'like aca', 'like art', 'like attack', 'like biden', 'like bloomberg', 'like blooper', 'like choic', 'like cnn', 'like commun', 'like convent', 'like creeoy', 'like debat', 'like demdeb', 'like dnc', 'like dnc2020', 'like elizabethwarren', 'like everi', 'like excus', 'like fake', 'like full', 'like glad', 'like happen', 'like hilari', 'like interrupt', 'like jame', 'like joe', 'like judg', 'like klobuchar', 'like lie', 'like like', 'like live', 'like minut', 'like motiv', 'like never', 'like one', 'like past', 'like peopl', 'like pleas', 'like proud', 'like republican', 'like rnc2020', 'like rt', 'like satan', 'like sky', 'like someth', 'like support', 'like think', 'like thought', 'like time', 'like trump', 'like user', 'like valid', 'like wake', 'like war', 'like wild', 'likelyhood', 'likelyhood guess', 'likewis', 'likewis ask', 'limit', 'limit plastic', 'lincoln', 'lincoln joe', 'lindsey', 'lindsey go', 'lindsey graham', 'lindsey south', 'line', 'line base', 'line one', 'line pocket', 'liner', 'liner lighten', 'linguist', 'linguist let', 'link', 'link amp', 'link http', 'link us', 'lip', 'lip god', 'lip inject', 'lip wager', 'list', 'list could', 'list instead', 'list trump2020', 'listen', 'listen dr', 'listen expert', 'listen go', 'listen joe', 'listen mean', 'listen nobodi', 'listen ny', 'listen realli', 'listen speech', 'lit', 'lit user', 'liter', 'liter go', 'liter gonna', 'liter point', 'liter talk', 'liter uproot', 'liter vote', 'littl', 'littl babi', 'littl bitch', 'littl emot', 'littl late', 'littl thing', 'littl trump', 'live', 'live 200k', 'live 20th', 'live almost', 'live america', 'live decis', 'live depend', 'live drive', 'live feel', 'live first', 'live free', 'live http', 'live kamalasalbatross', 'live matter', 'live one', 'live russia', 'live sick', 'live truer', 'live trump', 'live trumpspeech', 'live tv', 'live user', 'live vote', 'livelihood', 'livelihood loot', 'livid', 'livid might', 'liz', 'liz warren', 'lmao', 'lmao debate2020', 'lmao debates2020', 'lmfao', 'lmfao dnc2020', 'loath', 'loath sound', 'lobbi', 'lobbi disabl', 'lobbi influenc', 'local', 'local anarchist', 'local democrat', 'local leader', 'local one', 'local race', 'local vote', 'lock', 'lock 1500', 'lock children', 'lock someon', 'lock user', 'lockdown', 'lockdown keep', 'lockdown mail', 'logic', 'logic love', 'logic maga', 'logic mani', 'logo', 'logo endless', 'loke', 'loke presid', 'lol', 'lol almost', 'lol biden', 'lol bidenharris2020', 'lol cri', 'lol debates2020', 'lol everi', 'lol http', 'lol perfect', 'lol quit', 'lol rich', 'lol trump2020', 'lol world', 'london', 'london may', 'long', 'long histori', 'long republican', 'long time', 'long trump', 'longer', 'longer listen', 'look', 'look bad', 'look biden', 'look close', 'look even', 'look forward', 'look good', 'look govt', 'look like', 'look lmfao', 'look number', 'look say', 'look votebluetosaveamerica', 'loooooong', 'loooooong year', 'loos', 'loos polic', 'loot', 'loot amp', 'loot arson', 'loot burn', 'loot busi', 'loot riot', 'looter', 'looter hypocrit', 'lose', 'lose control', 'lose cool', 'lose debat', 'lose everyon', 'lose joe', 'lose lindsey', 'lose new', 'lose novemb', 'lose thier', 'lose train', 'lose trump2020', 'lose yet', 'loser', 'loser cultist', 'loser democrat', 'loser pick', 'loser sucker', 'loss', 'loss demeanor', 'loss would', 'lost', 'lost count', 'lost fiancé', 'lost job', 'lost lose', 'lost republican', 'lost scant', 'lost trump', 'lot', 'lot aggrav', 'lot good', 'lot gop', 'lot look', 'lot posit', 'lot rememb', 'lot think', 'lot world', 'loud', 'loud votebluetosaveamerica', 'love', 'love biden', 'love comment', 'love comrad', 'love continu', 'love debates2020', 'love get', 'love god', 'love hear', 'love hypocrit', 'love idea', 'love lmao', 'love lockdown', 'love love', 'love mr', 'love noth', 'love old', 'love patriot', 'love peac', 'love power', 'love respect', 'love right', 'love see', 'love senat', 'love talk', 'love traitor', 'love trump', 'love trump2020', 'love user', 'love violenc', 'lowbal', 'lowbal 37', 'lower', 'lower demdeb', 'loyalti', 'loyalti support', 'lucid', 'lucid anyway', 'lunat', 'luncheon', 'luncheon houston', 'lurk', 'lurk http', 'lyingelis', 'lyingelis cocaineconvent', 'lyinghypocrit', 'lyinghypocrit votebluetosaveamerica', 'lyingtrump', 'lyingtrump amp', 'lynch', 'lynch justic', 'lynch tree', 'm4a', 'm4a despit', 'machin', 'machin stupid', 'mad', 'mad biden2020', 'mad man', 'mad spell', 'mad twitter', 'maddow', 'maddow 11thhour', 'made', 'made auto', 'made candid', 'made debat', 'made eve', 'made first', 'made great', 'made lot', 'made million', 'made proud', 'made thing', 'made viral', 'made way', 'mafia', 'mafia jk', 'maga', 'maga american', 'maga ass', 'maga backtheblu', 'maga buildbackbett', 'maga coronaviru', 'maga crowd', 'maga debates2020', 'maga dont', 'maga drag', 'maga embrac', 'maga end', 'maga friend', 'maga gear', 'maga gopconvention2020', 'maga hat', 'maga healthcareforal', 'maga http', 'maga kag', 'maga kag2020', 'maga keep', 'maga keepamericagreat', 'maga lakehavasu', 'maga maga2020', 'maga melania', 'maga minoritiesfortrump', 'maga mobster', 'maga murder', 'maga oh', 'maga paid', 'maga power', 'maga qanon', 'maga respect', 'maga sleepyjo', 'maga stay', 'maga support', 'maga traitorsofamerica', 'maga trump', 'maga trump2020', 'maga trump2020landsid', 'maga trump2020landslid', 'maga usa', 'maga user', 'maga viru', 'maga voteredtosaveamerica', 'maga walkaway', 'maga white', 'maga wwg1wga', 'maga2020', 'maga2020 democratsaredestroyingamerica', 'maga2020 election2020', 'maga2020 hat', 'maga2020 http', 'maga2020 kag2020', 'maga2020 like', 'maga2020 maga', 'maga2020 potus45', 'maga2020 trump2020', 'maga2020 voter', 'magaforallbutdemocrat', 'magaforallbutdemocrat maga', 'mail', 'mail http', 'mail state', 'mail thing', 'mail vote', 'main', 'main popul', 'main question', 'mainstream', 'mainstream media', 'major', 'major citi', 'major leader', 'major maga', 'major must', 'major theme', 'major thinker', 'make', 'make america', 'make angri', 'make brain', 'make chang', 'make cheaper', 'make chrissi', 'make death', 'make decis', 'make feel', 'make fool', 'make gray', 'make insurrectionist', 'make kaynewest', 'make less', 'make lie', 'make mad', 'make money', 'make nonsens', 'make plan', 'make point', 'make polici', 'make rise', 'make run', 'make shift', 'make shit', 'make sure', 'make us', 'make whole', 'make windfal', 'make work', 'makeamericagreatagain', 'makeamericagreatagain http', 'makeamericagreatagain maga', 'makeamericanotrussiaagain', 'makeamericanotrussiaagain shutupman', 'maker', 'maker fossilfuel', 'male', 'male shout', 'man', 'man activ', 'man death', 'man dem', 'man democraticdeb', 'man digniti', 'man ever', 'man face', 'man hous', 'man husband', 'man keep', 'man make', 'man plantat', 'man polit', 'man properti', 'man tri', 'man woman', 'man work', 'man yell', 'manag', 'manag complet', 'manag part', 'manag social', 'mandat', 'mandat open', 'mani', 'mani biden2020', 'mani billion', 'mani black', 'mani blm', 'mani bs', 'mani clown', 'mani great', 'mani health', 'mani hour', 'mani lie', 'mani like', 'mani peopl', 'mani remot', 'mani thing', 'mani time', 'mani us', 'mani viewer', 'mani votebluetosaveamerica', 'maniac', 'maniac white', 'manipul', 'manipul draintheoldwhiteliberalswamp', 'mansion', 'mansion throw', 'march', 'march 15', 'march everi', 'margin', 'margin ident', 'marilyn', 'marilyn user', 'mark', 'mark pigeon', 'market', 'market creat', 'market put', 'markey', 'markey draintheswamp', 'marxism', 'marxism collectiv', 'marxist', 'marxist ccp', 'marxist domest', 'marxist governor', 'marxist idea', 'marxist led', 'masen', 'masen debat', 'mask', 'mask hypocrit', 'mask polic', 'mask sheep', 'massachusett', 'massachusett votema', 'massiv', 'massiv throng', 'master', 'master lie', 'match', 'match joebiden', 'match speak', 'mate', 'mate geraldin', 'mate http', 'mate roll', 'mate vanessa', 'mate votethemout', 'mate woman', 'mate ye', 'mate yet', 'matter', 'matter biden', 'matter die', 'matter ever', 'matter graffiti', 'matter must', 'matter poison', 'maxwel', 'maxwel http', 'may', 'may 2018', 'may abl', 'may competit', 'may decid', 'may disagre', 'may face', 'may georgefloyd', 'may kid', 'may littl', 'may need', 'may readi', 'may sleeper', 'may win', 'mayb', 'mayb dem', 'mayb get', 'mayb kid', 'mayb nomin', 'mayb pga', 'mayb trump', 'mayb unbias', 'mayb us', 'mayhem', 'mayhem biden', 'mayor', 'mayor governor', 'mayor pete', 'mayor promot', 'mayor respons', 'mb', 'mb hack', 'mccarthi', 'mccarthi bidenharris2020landslid', 'mcconnel', 'mcconnel lindsey', 'mean', 'mean anyth', 'mean biden', 'mean demdeb', 'mean even', 'mean hundr', 'mean hunter', 'mean noth', 'mean orangeisthenewblack', 'mean superdeleg', 'mean trump', 'mean websit', 'mean world', 'mean ye', 'meant', 'meant demdeb', 'meanwhil', 'meanwhil good', 'mechan', 'mechan 32', 'meddl', 'media', 'media bia', 'media justifi', 'media let', 'media never', 'media obli', 'media propaganda', 'media say', 'media vi', 'medic', 'medic data', 'medic system', 'medicalstaff', 'medicalstaff doctor', 'medicar', 'medicar biden', 'meet', 'meet foreign', 'meet jacob', 'meet talk', 'mel', 'mel brook', 'melania', 'melania almost', 'melania wear', 'melt', 'melt giberish', 'meltdown', 'meltdown http', 'member', 'member blame', 'member die', 'member one', 'member want', 'memento', 'memento year', 'memo', 'memo hill', 'memori', 'memori let', 'memori son', 'men', 'men arrest', 'men debat', 'men even', 'men support', 'men tight', 'men trump2020', 'ment', 'ment say', 'mental', 'mental abil', 'mental moral', 'mental ward', 'mention', 'mention call', 'mention deceas', 'mention democraticdeb', 'mention stephen', 'mere', 'mere quot', 'merit', 'merit votebluetosaveamerica', 'mess', 'mess like', 'mess mail', 'mess surpris', 'mess take', 'mess trump', 'messag', 'messag across', 'messag america', 'messag god', 'messag votebidenharri', 'messeng', 'messeng votebluetosaveamerica', 'met', 'met whitmer', 'metoo', 'metoo huckster', 'mf', 'mf go', 'mi', 'mi heavili', 'michael', 'michael bloomberg', 'michel', 'michel obama', 'michigan', 'michigan articul', 'michigan dem', 'micromanag', 'micromanag rnc2020', 'microphon', 'microphon mental', 'middl', 'middl east', 'midterm', 'midterm elect', 'midwest', 'midwest women', 'might', 'might accomplish', 'might actual', 'might beg', 'might enjoy', 'might final', 'might look', 'might proven', 'might stroke', 'might tell', 'might wear', 'might well', 'mike', 'mike tell', 'mile', 'mile crazi', 'militari', 'militari call', 'militari constantli', 'militari least', 'militari polic', 'militari stupid', 'militari tank', 'militari trump', 'militari trumptrain', 'militia', 'militia blm', 'million', 'million american', 'million food', 'million get', 'million job', 'million peopl', 'million poverti', 'million tax', 'million viewer', 'million year', 'millionair', 'millionair billionair', 'millionaireberni', 'millionaireberni three', 'min', 'min speech', 'mind', 'mind back', 'mind follow', 'mind leav', 'mind made', 'mind vote', 'mine', 'mine actual', 'mine popular', 'minesotta', 'minesotta regan', 'minnesota', 'minnesota nonprofit', 'minnesota took', 'minor', 'minor countri', 'minor cours', 'minoritiesfortrump', 'minoritiesfortrump americafirst', 'minut', 'minut spent', 'minut today', 'minut user', 'minut warn', 'mirror', 'mirror exactli', 'misconduct', 'misconduct worri', 'misdirect', 'misdirect user', 'misinform', 'misinform fun', 'mislead', 'mislead narr', 'mismanag', 'mismanag medic', 'misogynist', 'misogynist support', 'misrepres', 'misrepres 99', 'miss', 'miss ann', 'miss hypocrisi', 'miss lgbqt', 'miss presid', 'miss think', 'miss wait', 'miss work', 'mission', 'mission biden2020', 'mission thank', 'mistak', 'mistak amp', 'mitch', 'mitch mcconnel', 'mitch tell', 'mo', 'mo oxymoron', 'mob', 'mob need', 'mobster', 'mobster govern', 'mobster mode', 'mock', 'mock user', 'mode', 'mode disinform', 'mode murder', 'moder', 'moder embrac', 'moder final', 'moder fox', 'moder job', 'moder user', 'modern', 'modern democrat', 'mom', 'mom celebr', 'moment', 'moment got', 'moment liz', 'moment ment', 'moment mission', 'moment progress', 'moment seem', 'mon', 'mon man', 'mondal', 'mondal democrat', 'monetarili', 'monetarili nation', 'money', 'money demdeb', 'money goldpric', 'money govern', 'money leav', 'money read', 'money state', 'money ted', 'money tri', 'moneymak', 'moneymak go', 'monolith', 'monolith crew', 'month', 'month prior', 'month see', 'month spark', 'month trump', 'monument', 'monument name', 'moral', 'moral ethic', 'morn', 'morn happi', 'moron', 'moron offic', 'moron tri', 'moscow', 'moscow stay', 'moscowmitch', 'moscowmitch cnn', 'motiv', 'motiv forum', 'motiv vote', 'mouth', 'mouth biden', 'mouth joebiden', 'mouth pleas', 'move', 'move countri', 'move farther', 'move needl', 'move rather', 'move speech', 'move toward', 'move user', 'movehimout', 'movehimout trumpisbrok', 'movement', 'movement argument', 'movement fightbackamerica', 'movi', 'movi dnc', 'movi next', 'movi promo', 'mr', 'mr peretti', 'mr presid', 'msm', 'msm big', 'msm dirti', 'msm journalist', 'msnbc', 'msnbc chrismatthew', 'msnbc know', 'msnbc laud', 'much', 'much 1st', 'much better', 'much biden2020', 'much bluewav', 'much childish', 'much cruel', 'much cut', 'much democraticdeb', 'much fun', 'much less', 'much life', 'much love', 'much marilyn', 'much obamawasbetterateveryth', 'much possibl', 'much rather', 'much safer', 'much sinc', 'much time', 'much wanna', 'mullah', 'mullah becom', 'mullah regim', 'murder', 'murder arsonist', 'murder authoritarian', 'murder peopl', 'murica', 'murica usa', 'muslim', 'muslim christian', 'muslim countri', 'muslim jew', 'must', 'must anoth', 'must call', 'must defend', 'must end', 'must get', 'must go', 'must lead', 'must make', 'must reign', 'must show', 'must think', 'must trigger', 'must trump', 'must vote', 'mutter', 'mutter kobe', 'mvpharri', 'mvpharri vadem', 'mysteri', 'mysteri demconvent', 'nadler', 'nadler left', 'nail', 'nail coffin', 'nail great', 'nail realli', 'name', 'name black', 'name call', 'name fort', 'name proxi', 'name walk', 'nanci', 'nanci livid', 'nanci pelosi', 'nanci trump2020', 'nancyblowout', 'nancyblowout user', 'nap', 'nap chanc', 'narr', 'narr complet', 'narr memo', 'narr support', 'narr tell', 'narrat', 'narrat fuck', 'nation', 'nation beat', 'nation convent', 'nation deleg', 'nation ever', 'nation grappl', 'nation nativ', 'nation patriot', 'nation plung', 'nation problem', 'nation recommend', 'nation secur', 'nation state', 'nation tax', 'nation televis', 'nation virtual', 'nation watch', 'nativ', 'nativ leader', 'natur', 'natur rnc', 'naw', 'naw nazi', 'nazi', 'nazi germani', 'nazi right', 'nba', 'nba rate', 'nda', 'nda take', 'nearest', 'nearest antifa', 'nearest lynch', 'necessari', 'necessari state', 'necessarili', 'necessarili affect', 'need', 'need 99', 'need act', 'need air', 'need anymor', 'need bump', 'need chang', 'need chief', 'need convers', 'need detail', 'need erad', 'need follow', 'need fought', 'need go', 'need immedi', 'need job', 'need know', 'need leadership', 'need lip', 'need need', 'need pick', 'need real', 'need someon', 'need stand', 'need stop', 'need support', 'need take', 'need tax', 'need thank', 'need think', 'need toobigtorig', 'need trump', 'need unifi', 'need unit', 'need vote2020', 'need voteblu', 'need walk', 'needl', 'needl say', 'neg', 'neg campaign', 'neg democraticdeb', 'neg ghost', 'neg trump', 'negat', 'negat high', 'negoti', 'negoti kenya', 'neither', 'neither biden', 'neither trump', 'neither wethepeopl', 'neo', 'neo fascist', 'nevada', 'nevada corral', 'nevadafortrump', 'nevadafortrump trump2020', 'never', 'never agre', 'never amp', 'never anyth', 'never care', 'never conced', 'never die', 'never elect', 'never fail', 'never forget', 'never give', 'never go', 'never hire', 'never kind', 'never lead', 'never motiv', 'never nation', 'never presid', 'never realiz', 'never recov', 'never want', 'never would', 'neverbiden', 'neverbiden nevertrump', 'nevertrump', 'nevertrump biden2020landslid', 'nevertrump fdt', 'nevertrump republican', 'new', 'new account', 'new american', 'new apart', 'new approv', 'new danger', 'new democrat', 'new even', 'new fbi', 'new hat', 'new inform', 'new mean', 'new moment', 'new nicknam', 'new patriot', 'new start', 'new twist', 'new york', 'new yt', 'newag', 'newag pizzag', 'newhampshir', 'newhampshir easili', 'news', 'news alert', 'news biden', 'news broke', 'news chri', 'news confer', 'news decid', 'news lie', 'news maga', 'news schemer', 'news spin', 'news trump', 'news trump2020', 'news via', 'news vote', 'newsflash', 'newsflash lie', 'nexstardc', 'next', 'next berni', 'next four', 'next friday', 'next mine', 'next one', 'next suprem', 'next trump', 'next year', 'nh', 'nh nurs', 'nhprimari', 'nice', 'nice hair', 'nicknam', 'nicknam biden', 'nigg', 'nigg user', 'night', 'night ag', 'night amaz', 'night demconvent', 'night elizabeth', 'night fire', 'night joe', 'night masen', 'night popcorn', 'night put', 'night sarcasm', 'night top', 'night trump', 'night trump2020landslid', 'night want', 'night watch', 'nightli', 'nightli sappi', 'nightmar', 'nightmar backtheblu', 'nightmar ebolacrisi', 'nj', 'nj mi', 'nobel', 'nobel nobl', 'nobel prize', 'nobiden', 'nobiden neverbiden', 'nobl', 'nobl peac', 'nobl prize', 'nobodi', 'nobodi expect', 'nobodi stand', 'nobodi want', 'nobodi would', 'nojusticenopeac', 'nomailinvot', 'nomailinvot kag2020', 'nomin', 'nomin democraticparti', 'nomin http', 'nomin joe', 'nomin joebiden', 'nomin lead', 'nomin nobel', 'nomin presid', 'nomin user', 'nomin woman', 'nomine', 'nomine bad', 'nomine demconvent', 'nomine includ', 'nomine let', 'nomine lol', 'nomine minnesota', 'nomine point', 'nomine tx14', 'nomine vp', 'non', 'non violent', 'none', 'none famili', 'none matter', 'nonprofit', 'nonprofit 35m', 'nonsens', 'nonsens move', 'nonsens old', 'nonsens surpris', 'nonsens understand', 'nope', 'nope strategi', 'nope tri', 'noplatform', 'noplatform bore', 'nora', 'nora time', 'north', 'north korea', 'north south', 'not_a_democrathoax', 'not_a_democrathoax innoc', 'note', 'note biden', 'noth', 'noth accomplish', 'noth better', 'noth come', 'noth controversi', 'noth disproven', 'noth enhanc', 'noth hidenbiden', 'noth less', 'noth maga', 'noth make', 'noth polici', 'noth press', 'noth realli', 'noth reboot', 'noth user', 'notic', 'notic differ', 'notic globalreset', 'notic jelli', 'notmeu', 'notmeu bluewave2020', 'notmypresid', 'notmypresid makeamericanotrussiaagain', 'notrump', 'notrump nobiden', 'nov', 'nov 2020', 'nov 3rd', 'nov thank', 'nov though', 'novemb', 'novemb 2020', 'novemb 3rd', 'novemb continu', 'novemb full', 'novemb go', 'novemb peopl', 'novemb vote', 'november3rd', 'november3rd http', 'november3rd put', 'november3rd support', 'novemberiscom', 'novemberiscom http', 'nra', 'nra nation', 'nuclear', 'nuclear famili', 'nullifi', 'nullifi whole', 'number', 'number ass', 'number cash', 'number demdeb', 'number dont', 'number high', 'number must', 'number number', 'number women', 'nurs', 'nurs home', 'ny', 'ny dept', 'ny lib', 'ny mayor', 'ny nj', 'ny shut', 'nyt', 'nyt joebiden', 'nyt tax', 'nytim', 'nytim industri', 'oann', 'oann maga', 'oann would', 'obama', 'obama back', 'obama biden', 'obama brother', 'obama demconvent', 'obama hillari', 'obama saturdaythought', 'obama saw', 'obama vp', 'obama warrenendorsesbiden', 'obamacar', 'obamacar damn', 'obamacar year', 'obamawasbetterateveryth', 'obamawasbetterateveryth votebluetosaveamerica', 'obli', 'obli start', 'obstruct', 'obstruct dem', 'obstruct driven', 'obviou', 'obviou even', 'obvious', 'obvious huge', 'octob', 'octob make', 'oeopl', 'oeopl readi', 'offenc', 'offenc trump2020', 'offer', 'offer democraticdeb', 'offer golli', 'offer hand', 'offer one', 'offer shake', 'offer trump2020', 'offer week', 'offic', 'offic come', 'offic conduct', 'offic decad', 'offic endors', 'offic last', 'offic long', 'offic lose', 'offic might', 'offic pure', 'offic run', 'offic see', 'offic shot', 'offic susan', 'offic trump2020', 'offic votebluetosaveamerica', 'offici', 'offici democrat', 'offici user', 'oh', 'oh biden', 'oh god', 'oh life', 'oh man', 'oh mayor', 'oh pleas', 'oh wait', 'oh ya', 'ohio', 'ohio trump', 'oil', 'ok', 'ok bought', 'ok burn', 'ok gotta', 'ok king', 'ok mani', 'ok thesilentmajor', 'ok trump', 'okay', 'okay assum', 'okay bc', 'okay democrat', 'oklahoma', 'oklahoma roll', 'okvot', 'okvot okvotes2020', 'okvotes2020', 'okvotes2020 votebiden', 'old', 'old boy', 'old girl', 'old hag', 'old liter', 'old man', 'old parson', 'old realiz', 'old serious', 'old song', 'old timey', 'old white', 'older', 'older voter', 'older white', 'oldest', 'oldest democraci', 'omg', 'omg definit', 'omg fool', 'omit', 'omit amp', 'one', 'one asshol', 'one beaten', 'one best', 'one biggest', 'one bloomberg', 'one centrist', 'one citizen', 'one clearli', 'one comment', 'one dad', 'one debat', 'one donald', 'one fall', 'one find', 'one fit', 'one fix', 'one friend', 'one go', 'one hand', 'one hour', 'one hundr', 'one identifi', 'one know', 'one life', 'one liner', 'one mani', 'one new', 'one offic', 'one parti', 'one pick', 'one polic', 'one racisttrump', 'one realli', 'one show', 'one simpl', 'one speech', 'one tell', 'one thing', 'one third', 'one trump', 'one trump2020', 'one tweet', 'one volunt', 'one votebidenharris2020', 'one wall', 'one want', 'one watch', 'one way', 'one women', 'one would', 'one year', 'onenationundergod', 'onetermtrump', 'onetermtrump nevertrump', 'onlin', 'onlin 2020', 'onlin support', 'open', 'open address', 'open america', 'open door', 'open economi', 'open expand', 'open mouth', 'open ohio', 'open paidleav', 'open speech', 'openli', 'openli lgbtq', 'oper', 'oper legend', 'oper warp', 'operationlegend', 'operationlegend lawenforc', 'opinion', 'opinion want', 'opoyi', 'opportun', 'opportun buildbackbett', 'opportun home', 'opportun joe', 'opportun meet', 'opportun zone', 'oppos', 'oppos can', 'oppos iraq', 'option', 'option give', 'orang', 'orang agent', 'orang ggot', 'orang tan', 'orangeisthenewblack', 'orangeisthenewblack freek', 'orangemanbad', 'orangemanbad democratshateamerica', 'order', 'order 13887', 'order constitut', 'order covid', 'order mean', 'order stay', 'order unit', 'order would', 'ordinari', 'ordinari folk', 'organ', 'organ everi', 'organ realiz', 'organ threaten', 'other', 'other circl', 'other democrat', 'other emot', 'other jointli', 'other postcardstovot', 'other work', 'otherwis', 'otherwis receiv', 'ounc', 'ounc gold', 'outbreak', 'outbreak expos', 'outcom', 'outcom speak', 'outcom trump', 'outdo', 'outdo tax', 'outlandish', 'outlandish time', 'outperform', 'outperform year', 'outrag', 'outrag protest', 'outsid', 'outsid build', 'outsid day', 'outsid rnc2020', 'outsmart', 'outsmart someon', 'outstand', 'outstand young', 'outwardli', 'outwardli racist', 'oval', 'oval offic', 'overrid', 'overrid berni', 'oversea', 'oversea decid', 'oversight', 'oversight gopcorruptionovercountri', 'overthrow', 'overthrow mullah', 'overthrow terrorist', 'overwhelm', 'overwhelm number', 'owe', 'owe far', 'ownit', 'ownit democrat', 'oxymoron', 'oxymoron like', 'pac', 'pac billionair', 'pack', 'pack bag', 'pad', 'pad number', 'page', 'page state', 'page user', 'paid', 'paid million', 'paid russian', 'paid swaffar', 'paid user', 'paidinful', 'paidinful bloomberg', 'paidleav', 'paidleav brainhealthequ', 'pain', 'pain listen', 'paint', 'paint citi', 'paint instaart', 'palpabl', 'palpabl demdeb', 'pandem', 'pandem employe', 'pandem get', 'pandem health', 'pandem instead', 'pandem roll', 'pandem trump2020', 'pander', 'pander much', 'pant', 'pant 5th', 'pant chang', 'pant kamala', 'paper', 'paper vote', 'parad', 'parad lake', 'paragraph', 'paragraph detail', 'pardon', 'pardon demdeb', 'pardon4vot', 'pardon4vot votebluetosaveamerica', 'parent', 'parent aunt', 'parent stuf', 'park', 'park much', 'parliamentari', 'parliamentari debat', 'parscal', 'parscal alleg', 'parson', 'parson aman', 'part', 'part background', 'part economi', 'part fall', 'part marxist', 'part noth', 'part presidenti', 'part sound', 'part us', 'parti', 'parti arrang', 'parti blame', 'parti complet', 'parti countri', 'parti crimin', 'parti defil', 'parti lead', 'parti look', 'parti must', 'parti option', 'parti peopl', 'parti racist', 'parti rule', 'parti support', 'parti tell', 'parti think', 'parti trumppence2020', 'parti trust', 'parti user', 'parti woefulli', 'particularli', 'particularli aggress', 'partisan', 'partisan parti', 'partisan realli', 'partner', 'partner user', 'paso', 'paso man', 'pass', 'pass policeaccount', 'passion', 'passion care', 'past', 'past amp', 'past brownshirt', 'past four', 'past news', 'past night', 'past week', 'pastor', 'pastor teacher', 'pat', 'pat fit', 'path', 'path self', 'pathet', 'pathet demdeb', 'patholog', 'patholog liar', 'patriot', 'patriot dumb', 'patriot help', 'patriot http', 'patriot kag', 'patriot murica', 'patriot need', 'patriot patriot', 'patriot realli', 'patriot shoot', 'patriot shudder', 'patriot vote', 'patriotfam', 'patriotfam onenationundergod', 'patriotpray', 'patriotpray freekylerittennhous', 'patriotsunit', 'patriotsunit trump2020', 'patrol', 'patrol kag', 'patrol militari', 'paw', 'paw patrol', 'pay', 'pay energi', 'pay share', 'pay still', 'pay unemploy', 'pay whatev', 'payrol', 'payrol depend', 'payrol tax', 'peac', 'peac accord', 'peac amp', 'peac antifa', 'peac freedom', 'peac prize', 'peac protest', 'peac reset', 'pedophil', 'pedophil joe', 'pedophilia', 'pedophilia child', 'pelosi', 'pelosi amp', 'pelosi ny', 'pelosi other', 'pelosi say', 'pelosi schumer', 'pelosi went', 'pelosimustgo', 'pelosimustgo markey', 'pen', 'pen hand', 'penalti', 'penalti broadcast', 'penc', 'penc person', 'penc polici', 'pence2024', 'pence2024 trump2028', 'pencil', 'pencil draw', 'pencildraw', 'pencildraw design', 'penn', 'penn believ', 'pennsylvania', 'pennsylvania vp', 'peopl', 'peopl amp', 'peopl believ', 'peopl bidenharris2020', 'peopl black', 'peopl blind', 'peopl bring', 'peopl busi', 'peopl cast', 'peopl center', 'peopl crucifi', 'peopl dead', 'peopl democraticdeb', 'peopl demolish', 'peopl die', 'peopl differ', 'peopl dumb', 'peopl focu', 'peopl gather', 'peopl get', 'peopl gone', 'peopl honestli', 'peopl idioci', 'peopl includ', 'peopl kill', 'peopl know', 'peopl lead', 'peopl lier', 'peopl like', 'peopl live', 'peopl lol', 'peopl look', 'peopl maga', 'peopl make', 'peopl name', 'peopl new', 'peopl non', 'peopl offic', 'peopl one', 'peopl peopl', 'peopl protect', 'peopl rail', 'peopl read', 'peopl readi', 'peopl regist', 'peopl respect', 'peopl say', 'peopl similarli', 'peopl smoke', 'peopl spent', 'peopl stand', 'peopl state', 'peopl stupid', 'peopl support', 'peopl surviv', 'peopl think', 'peopl thought', 'peopl today', 'peopl told', 'peopl trump2020', 'peopl understand', 'peopl vote', 'peopl votebluenomatterwho', 'peopl voteredtosaveamerica2020', 'peopl wear', 'peopl wethepeopl', 'peopl whole', 'percentag', 'percentag kkk', 'peretti', 'peretti democraticdeb', 'peretti thank', 'peretti time', 'perfect', 'perfect gif', 'perfectli', 'perfectli describ', 'perfectli ok', 'perform', 'perform billieeilish', 'perform consist', 'perform trump', 'perhap', 'perhap may', 'perhap user', 'period', 'period nexstardc', 'person', 'person attach', 'person attack', 'person believ', 'person glad', 'person happen', 'person http', 'person man', 'person peopl', 'person polici', 'person qualifi', 'person said', 'person see', 'person user', 'person vote', 'person votebluetosaveamerica', 'perspect', 'perspect demdeb', 'pertain', 'pertain biden', 'pete', 'pete know', 'pete mayb', 'pete still', 'petesbillionair', 'petesbillionair democraticdeb', 'petit', 'petit sue', 'pga', 'pga weekend', 'phone', 'phone home', 'phone reveal', 'phonykamalaharri', 'phonykamalaharri sleepyjo', 'phonytrump', 'physic', 'physic contest', 'physic distanc', 'physic emot', 'physician', 'physician frontlinework', 'pic', 'pic use', 'pick', 'pick best', 'pick biden2020', 'pick california', 'pick elizabeth', 'pick kamalaharri', 'pick poison', 'pick promis', 'pick user', 'pick vote', 'pick vp', 'pick week', 'pick woman', 'pick would', 'pictur', 'pictur destruct', 'piec', 'piec covid', 'pigeon', 'pigeon john', 'piggyback', 'piggyback use', 'pill', 'pill brexit', 'pillow', 'pillow guy', 'pin', 'pin eye', 'pinki', 'pinki ice', 'pinki last', 'piss', 'piss away', 'piss pant', 'pizzag', 'pizzag http', 'pizzagatelsr', 'pizzagatelsr wwg1wwga', 'pl', 'pl make', 'place', 'place biden', 'place hell', 'place hour', 'place whine', 'plagiar', 'plagiar trump', 'plain', 'plain get', 'plan', 'plan address', 'plan anymor', 'plan aw', 'plan encourag', 'plan even', 'plan exactli', 'plan execut', 'plan hellnodementiajo', 'plan help', 'plan mouth', 'plan next', 'plan realli', 'plan regist', 'plan repeal', 'plan roll', 'plan select', 'plan sole', 'plan stop', 'plan tonight', 'plan vacat', 'plan vote', 'planet', 'plantat', 'plantat differ', 'plantat done', 'plaqu', 'plaqu trump2020', 'plastic', 'plastic biden2020', 'platform', 'platform extens', 'platform nonsens', 'platform summar', 'platitud', 'platitud word', 'play', 'play chess', 'play maga', 'play polit', 'play victim', 'play vigilant', 'pleas', 'pleas america', 'pleas banbillionair', 'pleas civil', 'pleas defund', 'pleas demdeb', 'pleas dnc2020', 'pleas follow', 'pleas followback', 'pleas futur', 'pleas get', 'pleas pick', 'pleas quiet', 'pleas read', 'pleas releas', 'pleas stop', 'pleas thank', 'pleas user', 'pleas vote', 'pledg', 'pledg provid', 'plenti', 'plenti oil', 'plug', 'plug mean', 'plung', 'plung third', 'plural', 'plural pretti', 'pm', 'pm et', 'poc', 'poc vote', 'pocket', 'pocket talk', 'podium', 'podium without', 'point', 'point accept', 'point articl', 'point becom', 'point behind', 'point birth', 'point choos', 'point differ', 'point http', 'point nearest', 'point presumpt', 'point sure', 'point wake', 'point win', 'poison', 'poison lie', 'poison unlik', 'poke', 'poke hole', 'polic', 'polic 67', 'polic abl', 'polic chao', 'polic firefight', 'polic fuckblm', 'polic govern', 'polic joke', 'polic kill', 'polic leav', 'polic live', 'polic offic', 'polic reform', 'polic say', 'polic stand', 'polic trend', 'policeaccount', 'policeaccount blacklivesmatt', 'polici', 'polici abil', 'polici berni', 'polici bring', 'polici cut', 'polici demdeb', 'polici deni', 'polici draconian', 'polici indiana', 'polici intersect', 'polici let', 'polici money', 'polici oh', 'polici possibl', 'polici reason', 'polici regard', 'polici show', 'polici specif', 'polit', 'polit comment', 'polit democrat', 'polit gain', 'polit game', 'polit independ', 'polit maga', 'polit nonsens', 'polit plan', 'polit prop', 'polit rant', 'polit scandal', 'polit seem', 'polit trump2020', 'polit valu', 'polit weapon', 'politic', 'politic death', 'politician', 'politician amp', 'politician got', 'politician like', 'poll', 'poll badli', 'poll need', 'poll say', 'poll show', 'poll tri', 'poll trump2020', 'poor', 'poor excus', 'poor peopl', 'poorli', 'poorli shame', 'poosi', 'poosi afraid', 'popcorn', 'popul', 'popul almost', 'popular', 'popular begin', 'popular michigan', 'popular one', 'popular vietnames', 'popular vote', 'popular would', 'porn', 'porn seem', 'portag', 'portag counti', 'portland', 'portland oper', 'portlandstrong', 'portlandstrong trump', 'portrait', 'portrait sketch', 'posit', 'posit neg', 'posit right', 'posit test', 'posit vibe', 'possibl', 'possibl felon', 'possibl get', 'possibl gonna', 'possibl leadership', 'post', 'post kenosha', 'postal', 'postal servic', 'postcardstovot', 'postcardstovot volunt', 'postmast', 'postmast gener', 'potato', 'potato tomato', 'potu', 'potu end', 'potu ever', 'potu http', 'potu user', 'potu voteblu', 'potus45', 'potus45 potu', 'poverti', 'poverti trump2020', 'pow', 'pow soldier', 'power', 'power alway', 'power american', 'power cost', 'power dark', 'power fear', 'power gang', 'power govern', 'power hate', 'power perform', 'power support', 'power transform', 'power uplift', 'power women', 'ppl', 'ppl get', 'ppl hoard', 'ppl ppl', 'practic', 'practic receipt', 'practic self', 'practic trump', 'prais', 'prate', 'prate falsehood', 'prayer', 'prayer art', 'prayer bit', 'prayforleo', 'prayforleo stopkillingleo', 'pre', 'pre exist', 'pre trump', 'preach', 'preach sister', 'preacher', 'preacher blacksfortrump', 'predict', 'predict vote', 'prefer', 'prefer demdeb', 'prefer statu', 'prep', 'prep democrat', 'prep need', 'prepar', 'prepar debat', 'prepar pandem', 'present', 'present danger', 'present time', 'presid', 'presid abc', 'presid also', 'presid americafirst', 'presid biden', 'presid campaign', 'presid candid', 'presid could', 'presid demdeb', 'presid donaldtrump', 'presid ever', 'presid gojo', 'presid http', 'presid im', 'presid impeach', 'presid iranian', 'presid joe', 'presid joebidenkamalaharris2020', 'presid keep', 'presid lack', 'presid lead', 'presid love', 'presid maga', 'presid nation', 'presid need', 'presid one', 'presid republican', 'presid speak', 'presid start', 'presid stay', 'presid think', 'presid tho', 'presid though', 'presid time', 'presid toddler', 'presid tomorrow', 'presid tonight', 'presid trump', 'presid trump2020', 'presid trumpviru', 'presid trust', 'presid uneth', 'presid unit', 'presid user', 'presid votebluenomatterwho', 'presid warren', 'presid way', 'presid win', 'presid would', 'presid year', 'presidentberniesand', 'presidentberniesand womenforberni', 'presidentbiden', 'presidentbiden november3rd', 'presidentbiden votebluetosaveamerica', 'presidenti', 'presidenti appointe', 'presidenti biden', 'presidenti campaign', 'presidenti candid', 'presidenti debat', 'presidenti month', 'presidenti nomine', 'presidenti race', 'presidenti respons', 'presidenti run', 'presidenti ticket', 'presidentialdeb', 'presidentialdeb debate2020', 'presidentialdeb let', 'presidentialdebate2020', 'presidentialdebate2020 debat', 'presidentialdebate2020 dumptrump', 'presidentialrac', 'presidentialrac endofjuli', 'presidentjohnadam', 'presidentjohnadam letter', 'presidenttrump', 'presidenttrump done', 'presidenttrump unitedst', 'presidenttrump work', 'presindet', 'presindet trump', 'press', 'press attend', 'press confer', 'pressconfer', 'pressconfer aka', 'pressur', 'pressur deal', 'pressur shatter', 'presumpt', 'presumpt democrat', 'pretti', 'pretti childish', 'pretti pathet', 'prevail', 'prevail return', 'prevent', 'prevent democratdefecationapertur', 'previou', 'previou year', 'pride', 'pride follow', 'primari', 'primari 10', 'primari ew', 'primari join', 'primari vote', 'primari warp', 'prime', 'prime time', 'principl', 'principl polit', 'print', 'print pictur', 'prior', 'prioriti', 'prioriti lie', 'prison', 'prison reform', 'prison tonight', 'privileg', 'privileg someon', 'prize', 'prize biden', 'prize jealou', 'prize third', 'pro', 'pro biden', 'pro congress', 'pro law', 'pro life', 'probabl', 'probabl big', 'probabl end', 'probabl least', 'problem', 'problem alreadi', 'problem coward', 'problem demdeb', 'problem fix', 'problem give', 'problem http', 'problem let', 'problem tri', 'process', 'process alreadi', 'process mean', 'process wast', 'produc', 'produc demdebate2020', 'produc distribut', 'product', 'product debat', 'product segment', 'profession', 'profit', 'profit way', 'progress', 'progress democrat', 'progress indi', 'progress larger', 'progress love', 'progress messeng', 'progress polici', 'progress voteblu', 'project', 'project democrat', 'project overthrow', 'project termin', 'promis', 'promis demconvent', 'promis demdeb', 'promis live', 'promis make', 'promis trump2020nowmorethanev', 'promisesmadepromiseskept', 'promisesmadepromiseskept donothingdemocrat', 'promo', 'promo say', 'promot', 'promot tourism', 'proof', 'proof right', 'proof trump', 'prop', 'propaganda', 'propaganda arm', 'propaganda report', 'propaganda right', 'properti', 'properti prove', 'propos', 'propos could', 'prosecut', 'prosecut period', 'prosper', 'prosper yet', 'protect', 'protect chao', 'protect court', 'protect creat', 'protect fellow', 'protect home', 'protect live', 'protect serv', 'protectourdemocraci', 'protest', 'protest faux', 'protest get', 'protest looter', 'protest outsid', 'protest vote', 'protestor', 'protestor ever', 'protestor liber', 'proud', 'proud american', 'proud boy', 'proud bulli', 'proud fact', 'proud partner', 'proud votebluetosaveamerica', 'prouder', 'prouder user', 'proudmomofleo', 'proudmomofleo worst', 'prove', 'prove fakenew', 'prove freak', 'prove justifi', 'prove snowflak', 'prove wrong', 'proven', 'proven campaign', 'proven right', 'provid', 'provid door', 'provid new', 'provid plan', 'proxi', 'proxi debat', 'psst', 'psst tunnel', 'public', 'public colleg', 'public wet', 'publicli', 'publicli shame', 'pull', 'pull ahead', 'pull black', 'pull face', 'pull random', 'pull stop', 'pull stunt', 'pump', 'pump voteblue2020', 'pundit', 'pundit tv', 'purchas', 'purchas evalongoria', 'pure', 'pure chao', 'push', 'push joebiden', 'push poll', 'push pro', 'push send', 'put', 'put andrew', 'put black', 'put elect', 'put experi', 'put food', 'put good', 'put iphon', 'put joebiden', 'put lid', 'put maga', 'put nail', 'put word', 'putin', 'putin dumptrump', 'putin lie', 'putin moscowmitch', 'putin orang', 'putinpuppet', 'putinpuppet bluewave2020', 'putinspuppet', 'putinspuppet putin', 'putinspuppet trumputin', 'puzzl', 'puzzl candid', 'q100', 'q100 day', 'qanon', 'qanon domest', 'qanon http', 'qanon maga', 'qanon thegreatawak', 'qanon user', 'qanon white', 'quailfi', 'quailfi biden2020', 'qualif', 'qualif amp', 'qualif think', 'qualifi', 'qualifi leader', 'qualifi presid', 'quarantin', 'quarantin ny', 'question', 'question actual', 'question attack', 'question audienc', 'question incoher', 'question know', 'question love', 'question pander', 'question pete', 'question respond', 'question trump', 'question user', 'quick', 'quick blmterrorist', 'quickli', 'quickli enough', 'quiet', 'quiet dont', 'quiet seem', 'quip', 'quip fox', 'quit', 'quit gleeful', 'quit humor', 'quit project', 'quot', 'quot trump', 'quot well', 'race', 'race absolut', 'race crim', 'race gender', 'race hope', 'race matter', 'race one', 'race presid', 'race republican', 'race sever', 'race soldier', 'race trump', 'racial', 'racial injustic', 'raciat', 'raciat narr', 'racist', 'racist abus', 'racist anti', 'racist clown', 'racist comment', 'racist deblasio', 'racist done', 'racist everybodi', 'racist given', 'racist group', 'racist hate', 'racist isnt', 'racist practic', 'racist sexist', 'racist shame', 'racist soulless', 'racist stop', 'racist trash', 'racist truli', 'racist user', 'racist want', 'racist would', 'racistli', 'racistli amp', 'racisttrump', 'racisttrump votetrumpout', 'radic', 'radic dem', 'radic leftist', 'radic progress', 'rail', 'rail cannot', 'rail user', 'rais', 'rais hand', 'rais scranton', 'ralli', 'ralli follow', 'ralli trump2020', 'ralli unifytowin', 'ralli youtub', 'ramp', 'ramp make', 'rampant', 'rampant crime', 'ran', 'ran counti', 'random', 'random number', 'rank', 'rank todaysdemocrat', 'rant', 'rant comment', 'rant jeff', 'rant kind', 'rape', 'rape 16', 'rapist', 'rapist alway', 'rapist beat', 'rapist want', 'rapist welcom', 'rapist ye', 'rat', 'rat scotu', 'rate', 'rate crash', 'rate everyth', 'rate stori', 'rate wtf', 'rather', 'rather actual', 'rather face', 'rather person', 'rather stick', 'rather tracey', 'rather trump', 'ratpet', 'rave', 'rave share', 'rd', 'rd thank', 'reach', 'reach 100', 'reach bulli', 'read', 'read articl', 'read fact', 'read http', 'read noplatform', 'read sleepi', 'readi', 'readi cop', 'readi day', 'readi go', 'readi keep', 'readi watch', 'readi woman', 'readi women', 'reagan', 'reagan legaci', 'real', 'real dem', 'real democraticdeb', 'real easi', 'real fake', 'real plan', 'real presid', 'real quick', 'real talk', 'real td', 'real think', 'realist', 'realist right', 'realiti', 'realiti idea', 'realiti tv', 'realiti wwg1wga', 'realiz', 'realiz dammit', 'realiz might', 'realiz plan', 'realiz trump', 'realli', 'realli afford', 'realli anyon', 'realli call', 'realli chief', 'realli embarrass', 'realli excit', 'realli extrem', 'realli fastest', 'realli get', 'realli goe', 'realli happen', 'realli hope', 'realli http', 'realli know', 'realli littl', 'realli move', 'realli must', 'realli north', 'realli sure', 'realli want', 'reason', 'reason despis', 'reason guy', 'reason vote', 'reason watch', 'reboot', 'reboot economi', 'rebuild', 'rebuild socialist', 'rebut', 'rebut ask', 'receipt', 'receipt tattoo', 'receiv', 'receiv back', 'receiv confirm', 'receiv feder', 'recent', 'recent poll', 'recent votebluetosaveamerica', 'recommend', 'recommend nobl', 'record', 'record accomplish', 'record lack', 'record past', 'record pelosi', 'recov', 'recoveri', 'recoveri rate', 'red', 'red across', 'red district', 'red hat', 'red maga', 'red pill', 'red wave', 'redflaglaw', 'redflaglaw statu', 'redstat', 'redstat maga', 'redwav', 'redwave2020', 'redwave2020 trump2020', 'redwave2020 trumplovesamerica', 'reel', 'reel movi', 'reelect', 'reelect chanc', 'referendum', 'referendum trumpmeltdown', 'reflect', 'reflect poorli', 'reform', 'reform increas', 'reform kid', 'reform may', 'refus', 'refus acknowledg', 'refus anoth', 'refus denounc', 'refus gover', 'refut', 'refut wrote', 'regan', 'regan 49', 'regard', 'regard elect', 'regim', 'regim vote', 'regist', 'regist amp', 'regist http', 'regist make', 'regist vote', 'registertovot', 'registertovot bidenharris2020', 'registr', 'registr get', 'regret', 'regret everi', 'regul', 'regul make', 'regular', 'regular attende', 'regurgit', 'regurgit useless', 'reign', 'reign gotta', 'reject', 'reject accus', 'reject appear', 'reject go', 'releas', 'releas light', 'releas tax', 'releaseyourtaxestrump', 'releaseyourtaxestrump trumpisaliar', 'relief', 'relief real', 'religi', 'religi leader', 'religi mind', 'religion', 'religion believ', 'reluctantli', 'reluctantli unfortun', 'rememb', 'rememb back', 'rememb click', 'rememb help', 'rememb pinki', 'rememb respons', 'rememb write', 'remind', 'remind best', 'remind hard', 'remind local', 'remot', 'remot opportun', 'remov', 'remov amp', 'remov barrier', 'remov certainli', 'remov everyth', 'remov outsid', 'reopen', 'reopen part', 'repeal', 'repeal amp', 'repeat', 'repeat trump', 'replac', 'replac cheap', 'replac obamacar', 'report', 'report absolut', 'report biden', 'report etc', 'report everyth', 'report media', 'report oper', 'report user', 'repres', 'repres comrad', 'repres florida', 'repres wear', 'repres world', 'repub', 'repub allow', 'republican', 'republican administr', 'republican battl', 'republican bernout', 'republican candid', 'republican care', 'republican convent', 'republican crap', 'republican delet', 'republican europ', 'republican fail', 'republican get', 'republican give', 'republican good', 'republican held', 'republican joe', 'republican mess', 'republican never', 'republican offer', 'republican one', 'republican parti', 'republican presid', 'republican pull', 'republican right', 'republican side', 'republican speak', 'republican support', 'republican sweati', 'republican swore', 'republican trump', 'republican user', 'republicansagainsttrump', 'republicansagainsttrump http', 'request', 'request help', 'requir', 'requir deleg', 'research', 'research 100', 'research everyth', 'research past', 'research vote', 'reserv', 'reserv user', 'reset', 'reset new', 'resid', 'resid shall', 'resist', 'resist biden2020', 'resist fbr', 'resist portlandstrong', 'resist resist', 'resist start', 'resist votebluetosaveamerica', 'resistingtrump', 'resistingtrump trumpism', 'resistlyingdonni', 'resistlyingdonni votebluetosaveamerica', 'respect', 'respect againt', 'respect call', 'respect dnc', 'respect leader', 'respect militari', 'respect offic', 'respect presid', 'respond', 'respond biden', 'respond debates2020', 'respond onlin', 'respond polic', 'respond seriou', 'respond user', 'respons', 'respons covidー19', 'respons democrat', 'respons good', 'respons sotu', 'respons user', 'rest', 'rest case', 'rest countri', 'rest us', 'restor', 'restor beauti', 'restor soul', 'restraint', 'restraint decenc', 'restrict', 'restrict extrem', 'result', 'result biden', 'result qanon', 'resum', 'resum qualifi', 'resum state', 'retain', 'retain crucial', 'return', 'return absente', 'return civil', 'return law', 'return person', 'return tradit', 'retweet', 'retweet messag', 'reveal', 'reveal actual', 'reveal eventu', 'revel', 'revel demconvent', 'revers', 'revers strict', 'revers year', 'review', 'review nytim', 'revolut', 'revolut need', 'reward', 'reward 45', 'reward wealth', 'reward work', 'rhetor', 'rhetor dnc2020', 'rhode', 'rhode island', 'rice', 'rice trot', 'rich', 'rich demdeb', 'rich love', 'rich rapist', 'rich walkaway', 'richard', 'richard grenel', 'richer', 'richer align', 'rid', 'rid environment', 'rid know', 'rid nuclear', 'ridenwithbiden', 'ridenwithbiden byedon', 'ridenwithbiden votebluetoendthisnightmar', 'ridenwithbiden votebluetosaveamerica', 'rider', 'rider trump2020', 'ridicul', 'ridicul sp', 'ridicul speech', 'ridicul wish', 'ridinwithbiden', 'ridinwithbiden fucktrump', 'ridinwithbiden mvpharri', 'ridinwithbidenharri', 'ridinwithbidenharri vote', 'right', 'right antifa', 'right attack', 'right back', 'right biden2020', 'right dnc2020', 'right focu', 'right front', 'right get', 'right look', 'right lot', 'right maga', 'right messag', 'right must', 'right nation', 'right one', 'right still', 'right thing', 'right trump', 'right trumpcrimefamili', 'right user', 'right vet', 'right vice', 'right votebluetosaveamerica', 'right way', 'right whatev', 'right wing', 'right wrong', 'rigid', 'rigid state', 'rino', 'rino get', 'riot', 'riot know', 'riot lefti', 'riot loot', 'riot make', 'riot tear', 'ripdaviddorn', 'ripdaviddorn dorn', 'ripleftey', 'ripleftey alllivesmattt', 'rise', 'rise basement', 'rise right', 'rise say', 'rival', 'rival appear', 'rn', 'rn savag', 'rnc', 'rnc 21', 'rnc accept', 'rnc bidenharri', 'rnc direct', 'rnc go', 'rnc good', 'rnc kick', 'rnc mail', 'rnc speaker', 'rnc speech', 'rnc wwe', 'rnc2020', 'rnc2020 almost', 'rnc2020 bidenharris2020tosaveamerica', 'rnc2020 go', 'rnc2020 guy', 'rnc2020 http', 'rnc2020 like', 'rnc2020 maddow', 'rnc2020 mitch', 'rnc2020 pretti', 'rnc2020 spite', 'rnc2020 trump2020', 'rnc2020 user', 'rncconvention2020', 'rncconvention2020 rnc2020', 'road', 'rob', 'rob brainwash', 'rob british', 'rock', 'rock bad', 'roll', 'roll back', 'roll call', 'roll comprehens', 'roll lie', 'roll portag', 'romyandmichel', 'romyandmichel http', 'room', 'room much', 'root', 'root shape', 'rootoutpedophil', 'rosari', 'rosari around', 'rose', 'rose garden', 'routin', 'routin call', 'row', 'row never', 'rt', 'rt give', 'rt short', 'rt usual', 'rt votebluetosaveamerica', 'rubi', 'rubi plaqu', 'rude', 'rude disrespect', 'rude un', 'ruin', 'ruin countri', 'rule', 'rule agre', 'rule break', 'rule could', 'rule govern', 'rule lie', 'run', 'run busi', 'run citi', 'run corridor', 'run countri', 'run cri', 'run mate', 'run neg', 'run next', 'run outsid', 'run show', 'run state', 'run superrich', 'run ticket', 'run well', 'russia', 'russia love', 'russia much', 'russia tri', 'russia user', 'russia venezuela', 'russiag', 'russiag global', 'russian', 'russian help', 'russian uniform', 'sabotag', 'sabotag postal', 'sack', 'sack older', 'sad', 'sad apologist', 'safe', 'safe live', 'safe oversight', 'safe return', 'safer', 'safer biden', 'safest', 'safest way', 'safeti', 'safeti america', 'said', 'said effect', 'said kobe', 'said listen', 'said racist', 'said reluctantli', 'said right', 'said said', 'said small', 'said trump', 'said trump2020', 'said unitedst', 'said woman', 'said xenophob', 'sake', 'sake america', 'salad', 'salad basic', 'salad demdeb', 'salli', 'salli yate', 'san', 'san antonio', 'san francisco', 'sanctuari', 'sanctuari polici', 'sander', 'sander best', 'sander biden', 'sander comment', 'sander give', 'sander less', 'sander pleas', 'sander want', 'sander warren', 'sanit', 'sanit etc', 'sappi', 'sappi tear', 'sarcasm', 'sarcasm trump2020landslid', 'satan', 'satan logo', 'satan made', 'saturdaythought', 'saturdaythought voteredtosaveamerica', 'savag', 'savag af', 'savag russiag', 'save', 'save 10x1000', 'save countri', 'save cri', 'save day', 'save earth', 'save footbal', 'save us', 'save wa', 'saveamerica', 'saveamerica savethecountri', 'saveamerica traitortrump', 'savedemocraci', 'savedemocraci savedivers', 'savedivers', 'savedivers saveamerica', 'savenavidafkari', 'savenavidafkari اعدام_نکنید', 'saveourchildren', 'saveourchildren qanon', 'saveourchildren savethechildren', 'saveourchildren saveyourselv', 'saveourcountryvoteblu', 'savethechildren', 'savethechildren http', 'savethechildren votebluetosaveamerica', 'savethecountri', 'savethepostalservic', 'savethepostalservic votebymail2020', 'savethepostoffic', 'savethepostoffic savedemocraci', 'savethepostoffic savethepostalservic', 'savetheusp', 'savetheusp voteblu', 'saveyourselv', 'saveyourselv trump2020', 'saw', 'saw blood', 'saw dude', 'saw somewher', 'say', 'say amp', 'say anoth', 'say anxiou', 'say anyon', 'say biden', 'say binder', 'say bunker', 'say coronaviru', 'say debat', 'say deput', 'say enough', 'say epa', 'say focu', 'say fox', 'say fund', 'say go', 'say good', 'say got', 'say hope', 'say instead', 'say joe', 'say joke', 'say likelyhood', 'say lot', 'say loud', 'say number', 'say pleas', 'say polic', 'say recent', 'say root', 'say sanctuari', 'say slowli', 'say someth', 'say tell', 'say throw', 'say trump', 'say trump2020', 'say trumppence2020', 'say two', 'say user', 'say vote', 'say voteblue2020', 'say wanna', 'say want', 'say would', 'say wrong', 'say ya', 'sayhisnam', 'sayhisnam http', 'sb', 'sb base', 'sc', 'sc protect', 'scandal', 'scandal ever', 'scant', 'scant 77k', 'scapegoat', 'scapegoat escal', 'scare', 'scare cowardli', 'scare littl', 'scarf', 'scarf sold', 'scari', 'scari funni', 'scatter', 'scatter key', 'scene', 'scene kid', 'schemer', 'schemer never', 'school', 'school choic', 'school hide', 'schumer', 'schumer caus', 'schumer mistak', 'scienc', 'scienc decenc', 'scientist', 'scientist appal', 'scientist user', 'scif', 'scif breacher', 'score', 'score blow', 'scotu', 'scotu plan', 'scranton', 'scranton penn', 'scratch', 'scratch bite', 'scream', 'scream gesticul', 'scream trump', 'screenwrit', 'screenwrit user', 'screw', 'screw democraticnationalconvent', 'screw rest', 'sean', 'sean sullivan', 'search', 'search youtub', 'seat', 'seat davidson', 'seattleriot', 'seattleriot democrat', 'second', 'second term', 'secur', 'secur elect', 'secur hmmm', 'secur trump', 'secur votebluenomatterwho', 'sediti', 'sediti act', 'see', 'see 30', 'see 45', 'see actual', 'see alot', 'see bad', 'see biden', 'see bluewav', 'see breakdown', 'see bs', 'see caravan', 'see children', 'see connect', 'see everyday', 'see hill', 'see joe', 'see kind', 'see know', 'see openli', 'see peopl', 'see reason', 'see refus', 'see replac', 'see sediti', 'see trump2020', 'see user', 'see work', 'seem', 'seem go', 'seem grasp', 'seem like', 'seem may', 'seem shallow', 'seem signific', 'seen', 'seen everi', 'seen neither', 'seen tier', 'seen type', 'seeyouinnovemb', 'seeyouinnovemb expectu', 'segment', 'segment aw', 'segreg', 'segreg unit', 'select', 'select femal', 'select user', 'self', 'self defeat', 'self defens', 'self destruct', 'self restraint', 'self serv', 'sell', 'sell fear', 'semit', 'semit anti', 'sen', 'sen user', 'sen warren', 'senat', 'senat byrd', 'senat confirm', 'senat congress', 'senat deep', 'senat extend', 'senat go', 'senat john', 'senat kamala', 'senat kamalaharri', 'senat major', 'senat seat', 'senat toomey', 'senat white', 'senatormccain', 'senatormccain jaimeharrison', 'senatorwarren', 'senatorwarren user', 'send', 'send edg', 'send joe', 'send pro', 'senil', 'senil shitbag', 'senior', 'senior democrat', 'sens', 'sens trump2020', 'senseless', 'senseless polici', 'sent', 'sent http', 'sent school', 'sent shut', 'sentenc', 'sentenc sinc', 'separ', 'separ wonen', 'sept', 'sept 2020', 'septemb', 'septemb 1st', 'seri', 'seri event', 'seri http', 'seriou', 'seriou issu', 'serious', 'serious anywher', 'serious charg', 'serious loot', 'serv', 'serv agenda', 'serv american', 'serv assort', 'serv board', 'servic', 'servic 2020elect', 'servic everi', 'servic trumpvotersuppress', 'servic violat', 'set', 'set announc', 'set make', 'settherecordstraight', 'settherecordstraight 2020elect', 'seven', 'seven lake', 'sever', 'sever new', 'sever recent', 'sex', 'sex traffick', 'sexist', 'sexist billionair', 'sexual', 'sexual tension', 'sf', 'sf dirtiest', 'sh', 'sh real', 'sh us', 'shake', 'shake boot', 'shake gestur', 'shall', 'shall deni', 'shall never', 'shallow', 'shallow moment', 'shame', 'shame bigot', 'shame commun', 'shame fakenew', 'shame trump2020', 'shameless', 'shameless viciou', 'shape', 'shape joebiden', 'shape size', 'share', 'share convent', 'share followblueback', 'share incom', 'shatter', 'shatter cement', 'she', 'she liter', 'sheastanfield', 'sheastanfield democrat', 'sheep', 'sheep actual', 'shegotitright', 'shegotitright jayap', 'shelter', 'shelter corp', 'shelv', 'shelv christian', 'shenanigan', 'shenanigan biden', 'sheriff', 'sheriff district', 'shield', 'shield care', 'shift', 'shift hospit', 'shiney', 'shiney fluoresc', 'shirt', 'shirt biden', 'shirt revolut', 'shit', 'shit crazi', 'shit hole', 'shit pant', 'shit shitti', 'shit show', 'shit stage', 'shit trump', 'shit whole', 'shitbag', 'shitbag argu', 'shithol', 'shithol usa', 'shitholeusa', 'shitholeusa trumpsuck', 'shitlib', 'shitlib vs', 'shitti', 'shitti shit', 'shock', 'shock trump', 'shoot', 'shoot innoc', 'shoot sorri', 'short', 'short 36', 'short live', 'short shegotitright', 'shot', 'shot antifa', 'shot basebal', 'shot democraticdeb', 'shot everi', 'shot immor', 'shoulder', 'shoulder shoulder', 'shoulder social', 'shout', 'shout instruct', 'show', 'show alot', 'show biden', 'show blm', 'show care', 'show close', 'show concern', 'show covid', 'show exampl', 'show far', 'show fit', 'show joe', 'show passion', 'show presidenti', 'show presidentialdebate2020', 'show savethechildren', 'show self', 'show support', 'show tax', 'show trump', 'show tv', 'show zero', 'shower', 'shower curtain', 'shower togeth', 'shown', 'shown abil', 'shown year', 'shrivel', 'shrivel liber', 'shudder', 'shudder think', 'shut', 'shut curfew', 'shut http', 'shut say', 'shutupman', 'sick', 'sick blacksfortrump', 'sicken', 'sicken behavior', 'side', 'side good', 'sideway', 'sideway need', 'sigh', 'sigh debat', 'sign', 'sign 16', 'sign assault', 'sign check', 'sign front', 'sign iowa', 'sign local', 'sign physic', 'signific', 'signific biden', 'sikh', 'sikh other', 'silenc', 'silenc come', 'silenc violenc', 'silent', 'silent el', 'silent major', 'silentmajorityris', 'silentmajorityris trump2020', 'silk', 'silk underp', 'similarli', 'similarli fight', 'simpl', 'simpl slogan', 'simpl statement', 'simpli', 'simpli support', 'sinc', 'sinc 2016', 'sinc candid', 'sinc cnn', 'sinc cuomo', 'sinc like', 'sinc march', 'sinc place', 'sinc return', 'sinc separ', 'sinc take', 'sinc trumpviru', 'singl', 'singl asian', 'singl corrupt', 'singl day', 'singl friggin', 'singl man', 'sister', 'sister tire', 'sit', 'sit around', 'sit behind', 'site', 'site show', 'size', 'size wwg1wga', 'skeepi', 'skeepi joe', 'sketch', 'sketch art', 'sketch doodl', 'sketchbook', 'sketchbook draw', 'skin', 'skin lol', 'sky', 'sky fall', 'slate', 'slate democraticdeb', 'sleep', 'sleep later', 'sleeper', 'sleeper pick', 'sleepi', 'sleepi joe', 'sleepi support', 'sleepyjo', 'sleepyjo http', 'sleepyjo sayhisnam', 'sli', 'sli move', 'slight', 'slight smug', 'slip', 'slogan', 'slogan keep', 'slowli', 'slowli understand', 'slum', 'slum world', 'slur', 'slur use', 'slur welcom', 'smackdown', 'smackdown trump', 'small', 'small percentag', 'smart', 'smart answer', 'smart old', 'smart voteouth', 'smarter', 'smarter jennif', 'smash', 'smash liber', 'smear', 'smear lie', 'smell', 'smell kid', 'smell pick', 'smile', 'smile biden', 'smoke', 'smoke biden', 'smoke crack', 'smoke weed', 'smug', 'smug smile', 'snake', 'snake realli', 'snake user', 'sniff', 'sniff hair', 'snooz', 'snooz mayb', 'snowflak', 'snowflak agenda', 'snowflak trump2020', 'social', 'social best', 'social democrat', 'social distanc', 'social justic', 'social secur', 'social trump2020', 'socialist', 'socialist communist', 'socialist marxist', 'socialist research', 'socialist social', 'socialsecur', 'socialsecur one', 'sold', 'sold countri', 'sold soul', 'sold trump2020', 'soldier', 'soldier loser', 'soldier pow', 'soldier tell', 'sole', 'sole base', 'sole intent', 'solut', 'solut polici', 'solv', 'solv frig', 'solv mysteri', 'solv nation', 'somebodi', 'somebodi nobodi', 'somehow', 'somehow bet', 'someon', 'someon busi', 'someon callou', 'someon chang', 'someon donald', 'someon idea', 'someon need', 'someon outwardli', 'someon point', 'someon rest', 'someon start', 'someth', 'someth bad', 'someth crazi', 'someth demconvent', 'someth democrat', 'someth expect', 'someth freedom', 'someth good', 'someth inshallah', 'someth trump', 'someth wear', 'sometim', 'sometim murder', 'somewher', 'somewher borrow', 'son', 'son beau', 'son user', 'son wire', 'song', 'song corrupmedia', 'sonnyboy', 'sonnyboy go', 'soon', 'soon bidenharris2020', 'soooo', 'soooo user', 'sorri', 'sorri attack', 'sorri excus', 'sorri trump', 'sort', 'sotu', 'sotu popular', 'soul', 'soul america', 'soul lost', 'soul trump', 'soul vast', 'soulless', 'soulless ask', 'sound', 'sound angri', 'sound bite', 'sound dement', 'sound human', 'sound like', 'sound lucid', 'sound point', 'sound proud', 'sound trump', 'sourc', 'sourc user', 'south', 'south carolina', 'south democrat', 'southasian', 'southasian asian', 'southcarolina', 'southcarolina debates2020', 'sow', 'sow discord', 'sp', 'sp ace', 'spark', 'spark hope', 'speak', 'speak camera', 'speak coher', 'speak dnc', 'speak eloqu', 'speak fakenew', 'speak gig', 'speak go', 'speak let', 'speak luncheon', 'speak rnc2020', 'speak see', 'speak trump2020', 'speak truth', 'speak volum', 'speak votebluetosaveamerica', 'speak want', 'speaker', 'speaker cspan', 'speaker http', 'special', 'special place', 'specif', 'specif debat', 'speech', 'speech avoid', 'speech biden', 'speech claim', 'speech dnc', 'speech draw', 'speech earlier', 'speech easili', 'speech get', 'speech go', 'speech link', 'speech made', 'speech night', 'speech propos', 'speech pump', 'speech rnc', 'speech savag', 'speech user', 'speech voteblu', 'speech vs', 'speech without', 'speed', 'speed execut', 'spell', 'spell backward', 'spell talk', 'spend', 'spend 2billion', 'spend couch', 'spend polici', 'spend protest', 'spend time', 'spent', 'spent much', 'spent walkaway', 'spill', 'spill wealth', 'spin', 'spin want', 'spirit', 'spirit look', 'spit', 'spit know', 'spit stump', 'spite', 'spite covid', 'spoke', 'spoke michael', 'spotlight', 'spotlight tennesse', 'spread', 'spread word', 'spring', 'spring arkansa', 'squad', 'squad lead', 'sr', 'sr long', 'ss', 'ss exist', 'st', 'st vincent', 'stack', 'stack arch', 'stage', 'stage antic', 'stage biden', 'stage big', 'stage demdeb', 'stage interview', 'stage tonight', 'stage top', 'stage use', 'stage user', 'stall', 'stall shower', 'stamp', 'stamp million', 'stand', 'stand african', 'stand bribe', 'stand clear', 'stand constitut', 'stand freedom', 'stand front', 'stand line', 'stand militari', 'stand nation', 'stand patriot', 'stand peac', 'stand see', 'stand someth', 'stand stage', 'stand togeth', 'stand trump', 'stand turd', 'stand way', 'standard', 'standard live', 'standard trump', 'start', 'start call', 'start day', 'start democraticnationalconvent', 'start hope', 'start new', 'start war', 'stat', 'stat http', 'state', 'state ballot', 'state cast', 'state citi', 'state control', 'state cost', 'state countri', 'state culp2020', 'state dnc2020', 'state everyth', 'state group', 'state http', 'state listen', 'state may', 'state minesotta', 'state order', 'state pad', 'state prevail', 'state public', 'state qualif', 'state stop', 'state tri', 'state union', 'state user', 'state violat', 'state vote', 'state would', 'statement', 'statement buse', 'statement kag', 'statement repeat', 'statement trip', 'statu', 'statu remov', 'statu sinc', 'stay', 'stay biden2020', 'stay cours', 'stay fuck', 'stay indoor', 'stay level', 'stay true', 'stay young', 'steal', 'steal 2020elect', 'steal biden', 'steal burn', 'steal elect', 'steam', 'steam ahead', 'steelwork', 'steelwork union', 'stephen', 'stephen trump2020', 'steve', 'steve bannon', 'stfu', 'stfu dog', 'stick', 'stick biden', 'stick pin', 'still', 'still believ', 'still enjoy', 'still felt', 'still gush', 'still help', 'still hide', 'still hope', 'still hous', 'still like', 'still live', 'still money', 'still much', 'still noth', 'still presid', 'still race', 'still she', 'still talk', 'still tri', 'still use', 'still user', 'still vote', 'still vulner', 'still wage', 'stock', 'stock market', 'stock world', 'stoke', 'stoke divis', 'stolen', 'stolen parent', 'stone', 'stone user', 'stood', 'stood laugh', 'stood like', 'stop', 'stop burn', 'stop call', 'stop covid', 'stop creat', 'stop cri', 'stop danc', 'stop fals', 'stop fight', 'stop kamelaharri', 'stop know', 'stop lie', 'stop look', 'stop loot', 'stop make', 'stop mess', 'stop play', 'stop push', 'stop racist', 'stop rais', 'stop talk', 'stop tiktok', 'stop travel', 'stop trump2020', 'stop user', 'stop violenc', 'stop voter', 'stop watch', 'stop whine', 'stopfakenew', 'stopkillingleo', 'stopkillingleo antifaterrorist', 'stori', 'stori http', 'stori parscal', 'stori sound', 'strang', 'strang djt', 'stranger', 'stranger incomprehens', 'strateg', 'strateg asset', 'strategi', 'strategi get', 'strategi ruin', 'strategi speak', 'strategist', 'strategist http', 'straw', 'straw thank', 'street', 'street filthi', 'street journal', 'street like', 'strength', 'stress', 'stress real', 'stretch', 'stretch truth', 'strict', 'strict limit', 'string', 'string one', 'stroke', 'stroke nevadafortrump', 'strong', 'strong enough', 'strong honor', 'strong togeth', 'strong trump2020', 'stronger', 'stronger person', 'strongertogeth', 'strongertogeth pride', 'student', 'student debt', 'student votebymail', 'stuf', 'stuf dirti', 'stuff', 'stuff learn', 'stump', 'stump line', 'stump speech', 'stun', 'stun stat', 'stunt', 'stunt still', 'stupid', 'stupid miss', 'stupid never', 'stupid rude', 'stupid voter', 'stupidest', 'stupidest voter', 'stutter', 'stutter tonight', 'style', 'style last', 'style seven', 'subcrib', 'subcrib http', 'subject', 'subject trump', 'submit', 'submit publicli', 'succeed', 'succeed utmost', 'success', 'success creat', 'success show', 'suck', 'suck didnt', 'sucker', 'sucker america', 'sucker perfectli', 'sucker shameless', 'sudden', 'sudden governor', 'suddenli', 'suddenli elect', 'sue', 'sue twitter', 'suffer', 'suffer dementia', 'suicid', 'suicid let', 'sullivan', 'sullivan http', 'summar', 'summar deal', 'sunday', 'sunday victim', 'sundaythought', 'sundaythought voteblu', 'super', 'super major', 'superdeleg', 'superdeleg overrid', 'superrich', 'superrich gop', 'support', 'support anarchist', 'support black', 'support bloomberg', 'support brave', 'support creepi', 'support demdeb', 'support democrat', 'support enemi', 'support everywher', 'support fight', 'support go', 'support http', 'support issu', 'support kkk', 'support leader', 'support liber', 'support local', 'support might', 'support modern', 'support okay', 'support presid', 'support process', 'support putin', 'support redflaglaw', 'support respond', 'support singl', 'support thread', 'support trump', 'support ur', 'support user', 'support young', 'suppos', 'suppos happi', 'suppress', 'suppress amp', 'suppress care', 'suppress votebluetosaveamerica', 'suprem', 'suprem court', 'supremaci', 'supremaci user', 'supremacist', 'supremacist group', 'supremacist one', 'supremacist republican', 'supremacist wait', 'sure', 'sure circl', 'sure drink', 'sure enough', 'sure fox', 'sure get', 'sure go', 'sure great', 'sure plan', 'sure presid', 'sure senat', 'sure still', 'sure top', 'sure ur', 'sure user', 'sure watch', 'surpris', 'surpris biden', 'surpris everyon', 'surpris maga2020', 'surpris trump', 'surpris trump2020', 'surrog', 'surrog immedi', 'surround', 'surround power', 'survey', 'survey joebiden', 'survey lead', 'survey survey', 'surviv', 'surviv anoth', 'surviv user', 'susan', 'susan collin', 'susan rice', 'suspect', 'suspect diagnosi', 'suspect loos', 'swaffar', 'swaffar congress', 'swaffar pro', 'swaffar republican', 'swamp', 'swamp close', 'swamp demconvent', 'swamp dump', 'swamp goat', 'swamp us', 'sway', 'sway peopl', 'sway religi', 'sweati', 'sweati young', 'swift', 'swift want', 'swing', 'swing state', 'swipe', 'swipe trump', 'swore', 'swore peopl', 'sycoph', 'sycoph repres', 'syndrom', 'syndrom real', 'system', 'system amaz', 'system crisi', 'system number', 'system user', 'tabl', 'tabl votebluetosaveamerica', 'taboo', 'taboo adjust', 'tactic', 'tactic american', 'tactic backfir', 'tactic clear', 'take', 'take action', 'take apart', 'take back', 'take bathroom', 'take biden', 'take care', 'take civilright', 'take demdeb', 'take global', 'take glove', 'take lead', 'take minut', 'take offic', 'take one', 'take paragraph', 'take prison', 'take quiet', 'take red', 'take shit', 'take shot', 'take trump', 'take turn', 'take win', 'taken', 'taken fund', 'taken great', 'taken us', 'takingbackourcountri', 'takingbackourcountri patriotfam', 'talk', 'talk actual', 'talk america', 'talk bout', 'talk chicago', 'talk come', 'talk convent', 'talk doubl', 'talk fast', 'talk futur', 'talk get', 'talk give', 'talk http', 'talk joe', 'talk mani', 'talk peopl', 'talk point', 'talk power', 'talk slur', 'talk trump', 'talk work', 'tan', 'tan make', 'tangibl', 'tangibl offer', 'tank', 'tank user', 'tantrum', 'tantrum biden2020', 'tard', 'tard fan', 'target', 'target henc', 'tattoo', 'tattoo forehead', 'tax', 'tax biden', 'tax code', 'tax credit', 'tax crimin', 'tax dumptrumperdinck', 'tax evas', 'tax prosper', 'tax return', 'tax spend', 'tax stori', 'taxpay', 'taxpay blind', 'taylor', 'taylor swift', 'tch', 'tch black', 'td', 'td orangemanbad', 'td yet', 'teacher', 'teacher friend', 'team', 'team biden', 'team cabinet', 'team fool', 'team work', 'teamtrump', 'tear', 'tear exactli', 'tear major', 'technolog', 'technolog replac', 'ted', 'ted belong', 'ted kennedi', 'ted would', 'teeth', 'teeth corrupt', 'televis', 'tell', 'tell american', 'tell belong', 'tell fight', 'tell look', 'tell made', 'tell maga', 'tell mani', 'tell need', 'tell pedophil', 'tell peopl', 'tell truth', 'tell us', 'tell user', 'tenleg', 'tenleg http', 'tennesse', 'tennesse democrat', 'tension', 'tension gayl', 'term', 'term get', 'term presid', 'termin', 'termin tower', 'terribl', 'terribl democrat', 'terrifi', 'terrifi anyth', 'terrorist', 'terrorist fals', 'terrorist fli', 'terrorist group', 'terrorist joe', 'terrorist kill', 'terrorist mullah', 'terrorist pic', 'test', 'test http', 'test mean', 'test never', 'test proven', 'test vaccin', 'texa', 'texa except', 'texa grew', 'texa hometown', 'texa txlege', 'thank', 'thank advanc', 'thank ben', 'thank biden2020', 'thank check', 'thank demconvent', 'thank except', 'thank god', 'thank happylaborday', 'thank http', 'thank leadership', 'thank mention', 'thank mr', 'thank much', 'thank presid', 'thank say', 'thank support', 'thank us', 'thank user', 'thank vote', 'theft', 'theft histori', 'thegreatawak', 'thegreatawak newag', 'thegreatawak user', 'thegreatawaken', 'thegreatawaken draintheswamp', 'theme', 'theme demconvent', 'theresist', 'thesilentmajor', 'thesilentmajor see', 'theupris', 'theupris dnc2020', 'thier', 'thier ever', 'thing', 'thing biden2020', 'thing bidenharris2020', 'thing cannot', 'thing democraticdeb', 'thing donald', 'thing elect', 'thing expens', 'thing fake', 'thing focu', 'thing help', 'thing hope', 'thing joe', 'thing know', 'thing less', 'thing like', 'thing listen', 'thing pleas', 'thing socialist', 'thing stand', 'thing vp', 'thing waaay', 'thing word', 'think', 'think allow', 'think also', 'think america', 'think american', 'think anyon', 'think astound', 'think biden', 'think billboard', 'think charl', 'think could', 'think debacl', 'think debates2020', 'think goal', 'think good', 'think governor', 'think great', 'think joe', 'think know', 'think left', 'think lot', 'think lowbal', 'think may', 'think might', 'think militari', 'think move', 'think oeopl', 'think one', 'think outsmart', 'think peopl', 'think presid', 'think racist', 'think realist', 'think resum', 'think secur', 'think sli', 'think state', 'think thing', 'think tho', 'think tri', 'think trump', 'think vice', 'think votebluetosaveamerica', 'think wash', 'think wear', 'think would', 'thinker', 'thinker transitionteam', 'third', 'third american', 'third choic', 'third parti', 'third term', 'third time', 'third world', 'thiscoolasfuckshit', 'thiscoolasfuckshit ripleftey', 'thisweek', 'thisweek covid19', 'tho', 'tho debat', 'tho time', 'thoma', 'thoma jefferson', 'though', 'though may', 'though surpris', 'though votebluetosaveamerica', 'thought', 'thought bad', 'thought declar', 'thought leader', 'thought lie', 'thought say', 'thought sentenc', 'thought trump2020', 'thousand', 'thousand black', 'thousand die', 'thousand head', 'thread', 'thread bunch', 'threat', 'threat america', 'threat elect', 'threat presid', 'threaten', 'threaten violenc', 'threaten voter', 'three', 'three home', 'throng', 'throng peopl', 'throw', 'throw stone', 'throw whole', 'thug', 'thug die', 'thug given', 'thug isi', 'thug learn', 'thumb', 'thumb thank', 'thumb youtub', 'thursday', 'thursday aug', 'ticket', 'ticket 2024', 'ticket alway', 'ticket demdeb', 'ticket obvious', 'ticket user', 'tie', 'tie global', 'tie look', 'tie qanon', 'tier', 'tier ted', 'tight', 'tight form', 'tiktok', 'tiktok governmentoverreach', 'time', 'time american', 'time amwrit', 'time biden', 'time chang', 'time come', 'time count', 'time creativ', 'time death', 'time effort', 'time fuel', 'time give', 'time god', 'time gradual', 'time guy', 'time hear', 'time high', 'time http', 'time import', 'time job', 'time joe', 'time know', 'time make', 'time mr', 'time nazi', 'time open', 'time petit', 'time qanon', 'time see', 'time speak', 'time thank', 'time trump', 'time user', 'time work', 'time worth', 'timetogo', 'timetogo voteblu', 'timey', 'timey challeng', 'tire', 'tire divis', 'tire senseless', 'tire white', 'today', 'today confirm', 'today democrat', 'today florida', 'today ghetto', 'today go', 'today lyinghypocrit', 'today redstat', 'today say', 'today user', 'today year', 'today yesterday', 'todaysdemocrat', 'todaysdemocrat trump2020', 'toddler', 'toddler tantrum', 'toddler trump2020', 'toe', 'toe toe', 'toe trump', 'togeth', 'togeth believ', 'togeth democrat', 'togeth engag', 'togeth joe', 'togeth unitednotdivid', 'togeth uplift', 'told', 'told america', 'told eat', 'told know', 'told lay', 'told mom', 'told peopl', 'told trump', 'told user', 'told white', 'tomato', 'tomato stuff', 'tomorrow', 'tomorrow fortun', 'tomorrow joe', 'tone', 'tone democraticconvent', 'tonight', 'tonight amaz', 'tonight amp', 'tonight await', 'tonight brain', 'tonight debat', 'tonight demdeb', 'tonight democrat', 'tonight democraticdeb', 'tonight fire', 'tonight follow', 'tonight ice', 'tonight love', 'tonight lunat', 'tonight mission', 'tonight think', 'tonight user', 'tonight win', 'tonight would', 'toobigtorig', 'took', 'took advic', 'took femal', 'took high', 'tool', 'tool truest', 'toomey', 'toomey concern', 'top', 'top 20', 'top bottom', 'top contend', 'top game', 'top plug', 'top ramp', 'top republican', 'top satan', 'top user', 'torn', 'torn trump', 'torycorrupt', 'toss', 'toss around', 'total', 'total absurd', 'total bullshit', 'total right', 'total unawar', 'touch', 'touch smell', 'tourism', 'tourism town', 'toward', 'toward end', 'toward social', 'tower', 'tower unit', 'town', 'town joebiden', 'town trump', 'townhal', 'townhal grassroot', 'tp', 'tp hand', 'tracey', 'tracey biden2020', 'track', 'track user', 'trade', 'trade insult', 'trade negoti', 'tradit', 'tradit seem', 'tradit valu', 'traffick', 'traffick elit', 'traffick sort', 'tragedi', 'tragedi polit', 'train', 'train thought', 'traitor', 'traitor biden', 'traitor go', 'traitor gop', 'traitorinchief', 'traitorinchief gopbetrayedamerica', 'traitorsofamerica', 'traitorsofamerica traitorssupporttraitortrump', 'traitorssupporttraitortrump', 'traitortrump', 'traitortrump treasonoustrump', 'trammel', 'trammel jay', 'tran', 'tran woman', 'transform', 'transform countri', 'transit', 'transit team', 'transitionteam', 'transitionteam biden2020', 'trash', 'trash make', 'trashcan', 'trashcan notic', 'travel', 'tre45on', 'tre45on americaortrump', 'tre45onpuppet', 'tre45onpuppet 10', 'treasonoustrump', 'treasonoustrump putinspuppet', 'tree', 'tree know', 'tree knowledg', 'tree voteblu', 'trend', 'trend kamalaharrisvp', 'trend trendingtop', 'trend truli', 'trend2020', 'trend2020 trendnew', 'trendingtop', 'trendingtop trend2020', 'trendnew', 'trendnew http', 'trendnew trendnew', 'tri', 'tri answer', 'tri bring', 'tri chang', 'tri confus', 'tri crucifi', 'tri decad', 'tri decid', 'tri delegitim', 'tri eva', 'tri get', 'tri help', 'tri hide', 'tri imagin', 'tri impress', 'tri keep', 'tri outdo', 'tri prove', 'tri real', 'tri rise', 'tri sabotag', 'tri say', 'tri shelter', 'tri sleepi', 'tri sow', 'tri stay', 'tri steal', 'tri swipe', 'tri tube', 'tri year', 'trigger', 'trigger protest', 'trillion', 'trillion debt', 'trip', 'trip epsteinisland', 'trip peopl', 'tripl', 'tripl threat', 'trojan', 'trojan hors', 'trollhunt', 'trollhunt user', 'troop', 'trot', 'trot mainstream', 'troubl', 'troubl http', 'troubl tri', 'troubl trump2020', 'truck', 'truck remov', 'true', 'true love', 'true standard', 'true vote', 'truer', 'truer word', 'truest', 'truest sens', 'truli', 'truli balanc', 'truli biden', 'truli hahahaha', 'truli show', 'trump', 'trump 2020', 'trump 24', 'trump accept', 'trump admin', 'trump age', 'trump allow', 'trump alreadi', 'trump also', 'trump americaortrump', 'trump amp', 'trump anger', 'trump apart', 'trump appeas', 'trump appointe', 'trump awesom', 'trump barr', 'trump beat', 'trump behavior', 'trump believ', 'trump best', 'trump better', 'trump biden', 'trump blah', 'trump boat', 'trump bring', 'trump buy', 'trump call', 'trump campaign', 'trump care', 'trump chang', 'trump civilwar2', 'trump claim', 'trump conced', 'trump concoct', 'trump continu', 'trump control', 'trump counterweight', 'trump credit', 'trump crimin', 'trump critic', 'trump daili', 'trump danger', 'trump day', 'trump death', 'trump debat', 'trump debates2020', 'trump defin', 'trump demand', 'trump demdeb', 'trump derang', 'trump determin', 'trump disrespect', 'trump draft', 'trump elect', 'trump els', 'trump end', 'trump european', 'trump even', 'trump execut', 'trump fail', 'trump famili', 'trump fault', 'trump fightback', 'trump fit', 'trump follow', 'trump fool', 'trump front', 'trump fuck', 'trump gave', 'trump get', 'trump go', 'trump god', 'trump gonna', 'trump good', 'trump gop', 'trump gosh', 'trump hand', 'trump handl', 'trump highli', 'trump http', 'trump ignor', 'trump incompet', 'trump interest', 'trump interrupt', 'trump jason', 'trump joe', 'trump knew', 'trump know', 'trump last', 'trump laugh', 'trump leav', 'trump legitim', 'trump lie', 'trump like', 'trump likewis', 'trump live', 'trump lobbi', 'trump logic', 'trump lose', 'trump loss', 'trump love', 'trump made', 'trump maga', 'trump manag', 'trump master', 'trump mayb', 'trump might', 'trump moder', 'trump much', 'trump name', 'trump need', 'trump never', 'trump next', 'trump nomin', 'trump noth', 'trump obviou', 'trump offic', 'trump outperform', 'trump paid', 'trump paint', 'trump patriot', 'trump penc', 'trump play', 'trump pleas', 'trump point', 'trump polit', 'trump presid', 'trump presidenti', 'trump pressconfer', 'trump problem', 'trump pull', 'trump putinspuppet', 'trump racist', 'trump rail', 'trump rate', 'trump realli', 'trump republican', 'trump right', 'trump rnc', 'trump routin', 'trump russia', 'trump said', 'trump say', 'trump serious', 'trump serv', 'trump show', 'trump shut', 'trump sign', 'trump speak', 'trump stand', 'trump stood', 'trump stop', 'trump success', 'trump support', 'trump survey', 'trump take', 'trump talk', 'trump team', 'trump thing', 'trump think', 'trump told', 'trump tri', 'trump trump', 'trump trump2020', 'trump trumpisanationaldisgrac', 'trump trumptaxreturn', 'trump trumptrain', 'trump twitter', 'trump voic', 'trump vote', 'trump voteblue2020', 'trump voter', 'trump win', 'trump would', 'trump wow', 'trump wtf', 'trump year', 'trump youaintblack', 'trump2020', 'trump2020 4moreyear', 'trump2020 alway', 'trump2020 bidenharris2020', 'trump2020 bidenharristosaveamerica', 'trump2020 bidenriot', 'trump2020 blacksfortrump', 'trump2020 bluelivesmatt', 'trump2020 covid19', 'trump2020 deardiari', 'trump2020 defeat', 'trump2020 distract', 'trump2020 draintheswamp', 'trump2020 everyon', 'trump2020 fourmoreyear', 'trump2020 foxnewssuck', 'trump2020 get', 'trump2020 godbless', 'trump2020 godblessamerica', 'trump2020 godwin', 'trump2020 homi', 'trump2020 http', 'trump2020 immigr', 'trump2020 iranianslovetrump', 'trump2020 iranianssupporttrump', 'trump2020 kag', 'trump2020 kag2020', 'trump2020 kamalaharrisisjustnotlik', 'trump2020 lawandordernow', 'trump2020 let', 'trump2020 maga', 'trump2020 maga2020', 'trump2020 middl', 'trump2020 one', 'trump2020 pence2024', 'trump2020 phonykamalaharri', 'trump2020 real', 'trump2020 releas', 'trump2020 rnc2020', 'trump2020 rncconvention2020', 'trump2020 sleepyjo', 'trump2020 stopfakenew', 'trump2020 support', 'trump2020 takingbackourcountri', 'trump2020 thegreatawaken', 'trump2020 trump2020landslid', 'trump2020 trump2020landslidevictori', 'trump2020 trumplandslide2020', 'trump2020 trumppence2020', 'trump2020 trumptrain', 'trump2020 trumpunleash', 'trump2020 usa', 'trump2020 user', 'trump2020 vetsfortrump', 'trump2020 votebluenomatterwho', 'trump2020 voteredtosaveamerica2020', 'trump2020 wearetrump', 'trump2020 wewillwin', 'trump2020 wisdom', 'trump2020landsid', 'trump2020landsid keepamericagreat', 'trump2020landslid', 'trump2020landslid donaldtrump', 'trump2020landslid http', 'trump2020landslid kag', 'trump2020landslid maga', 'trump2020landslid trump', 'trump2020landslid trump2020', 'trump2020landslidevictori', 'trump2020landslidevictori trumpnowmorethanever2020', 'trump2020nowmorethanev', 'trump2020nowmorethanev http', 'trump2020nowmorethanev maga', 'trump2024', 'trump2024 kag2020', 'trump2028', 'trump2028 trump2032', 'trump2032', 'trump2032 world', 'trumpchao', 'trumpchao trump', 'trumpcountri', 'trumpcountri trump2020', 'trumpcoupplot', 'trumpcoupplot trumpracist', 'trumpcrimefamili', 'trumpcrimefamili trumpisafak', 'trumpcrimefamili votebluenomatterwho', 'trumpcrimefamilyforprison', 'trumpcrimefamilyforprison noth', 'trumpcrimefamilyforprison trumpresignnow', 'trumpcult', 'trumpcult aunt', 'trumpdrunkmoron', 'trumpdrunkmoron pick', 'trumpet', 'trumpet biden2020', 'trumpet know', 'trumpfailsamerica', 'trumpfailsamerica trumpliesamericansdi', 'trumpfascist', 'trumpfascist trumpcoupplot', 'trumpgenocid', 'trumpgenocid coronaviruspandem', 'trumpgenocid ettd', 'trumpgenocid trumpgolfsamericansdi', 'trumpgolfsamericansdi', 'trumpgolfsamericansdi trumpliedamericansdi', 'trumpisacompletefailur', 'trumpisacompletefailur lesson', 'trumpisacompletefailur trumpisalaughingstock', 'trumpisafak', 'trumpisafak trumpisaphoni', 'trumpisalaughingstock', 'trumpisalaughingstock trumpisatraitor', 'trumpisaliar', 'trumpisaliar trumptaxreturn', 'trumpisanationaldisgrac', 'trumpisanationaldisgrac trumpviru', 'trumpisanidiot', 'trumpisanidiot trumpisacompletefailur', 'trumpisaphoni', 'trumpisaphoni trumpisfak', 'trumpisaracist', 'trumpisatraitor', 'trumpisatraitor votebluetosaveamerica', 'trumpisbrok', 'trumpisbrok trumpisnotabillionair', 'trumpisfak', 'trumpisfak phonytrump', 'trumpislos', 'trumpislos trumpthreatensamerica', 'trumpism', 'trumpism http', 'trumpisnotabillionair', 'trumpisnotabillionair trumptax', 'trumpisnotadoctor', 'trumpisnotwel', 'trumpisnotwel votebluetosaveamerica', 'trumpknew', 'trumpknew trumpriot', 'trumplandslide2020', 'trumpliedamericansdi', 'trumpliesamericansdi', 'trumpliesamericansdi http', 'trumpliesamericansdi votebluetosaveamerica', 'trumplovesamerica', 'trumplovesamerica democratshateamerica', 'trumpmeltdown', 'trumpmeltdown see', 'trumpnowmorethanever2020', 'trumpnowmorethanever2020 100daysdemocratswaterloo', 'trumppence2020', 'trumppence2020 demdeb', 'trumppence2020 democratsareevil', 'trumppence2020 sleepyjo', 'trumppressconfer', 'trumppressconfer gopcorruptionovercountri', 'trumpracist', 'trumpracist trumpresignnow', 'trumpresignnow', 'trumpresignnow lieafterli', 'trumpresignnow trumpcrimefamilyforprison', 'trumpriot', 'trumpriot trump2020', 'trumpspeech', 'trumpspeech rnc2020', 'trumpsuck', 'trumpsuck maga', 'trumptax', 'trumptax trumpfascist', 'trumptaxreturn', 'trumptaxreturn trumpcrimefamili', 'trumptaxreturn trumpknew', 'trumpthreatensamerica', 'trumpthreatensamerica dumptrump', 'trumptrain', 'trumptrain follo4follo', 'trumptrain patriot', 'trumptrain trump2020', 'trumptrain trumptrain2020', 'trumptrain2020', 'trumptrain2020 nojusticenopeac', 'trumpunleash', 'trumpunleash http', 'trumputin', 'trumputin http', 'trumpviru', 'trumpviru dncconvent', 'trumpviru felt', 'trumpviru trump2020landslid', 'trumpviru trumpgenocid', 'trumpvotersuppress', 'trumpvotersuppress savetheusp', 'trumpwarrior', 'trumpwarrior kag', 'trust', 'trust actual', 'trust best', 'trust countri', 'trust democrat', 'trust divid', 'trust elect', 'trust make', 'trust red', 'trust votebidenharris2020', 'truth', 'truth 2020elect', 'truth care', 'truth click', 'truth come', 'truth everyon', 'truth help', 'truth mean', 'truth nh', 'truth problem', 'truth quot', 'truth trump2020', 'truth would', 'truthseek', 'truthseek trump2020', 'tube', 'tube economi', 'tucker', 'tuition', 'tuition half', 'tulsi', 'tulsi win', 'tune', 'tune rnc2020', 'tunnel', 'tunnel rose', 'turd', 'turd dumptrump', 'turn', 'turn channel', 'turn great', 'turn kid', 'turn lift', 'turn new', 'turn page', 'turn person', 'turn shit', 'turn tragedi', 'turnout', 'turnout young', 'tv', 'tv antifa', 'tv awar', 'tv day', 'tv dnc', 'tv hous', 'tv mayb', 'tv preacher', 'tv presid', 'tv talk', 'tweet', 'tweet dimentia', 'tweet doctor', 'tweet everi', 'tweet particularli', 'tweet rn', 'tweet shown', 'tweet trump', 'tweet turn', 'tweet tv', 'twice', 'twice http', 'twice realli', 'twist', 'twist biden', 'twist stump', 'twit', 'twit desecr', 'twitch', 'twitter', 'twitter bash', 'twitter blatant', 'twitter danc', 'twitter follow', 'twitter give', 'twitter jail', 'twitter know', 'twitter one', 'twitter support', 'two', 'two america', 'two folk', 'two senil', 'two thing', 'two top', 'tx14', 'tx14 let', 'txlege', 'txlege vote', 'type', 'type simpl', 'typic', 'typic know', 'tyranni', 'tyrant', 'uggghh', 'uggghh good', 'ugh', 'ugh stand', 'ugli', 'ugli ass', 'ultim', 'ultim person', 'um', 'um joke', 'um know', 'un', 'un emp', 'un like', 'un respect', 'unaccept', 'unaccept lie', 'unauthor', 'unauthor biden', 'unawar', 'unawar happen', 'unbeliev', 'unbeliev annoy', 'unbeliev blm', 'unbias', 'unbias preach', 'uncl', 'uncl pastor', 'unconstitut', 'unconstitut stop', 'uncoop', 'uncoop fat', 'underp', 'underp votebluenomatterwho', 'understand', 'understand biden', 'understand democrat', 'understand govt', 'understand mess', 'understand ridicul', 'underwood', 'underwood etc', 'undoubtedli', 'undoubtedli go', 'uneduc', 'uneduc class', 'unemploy', 'unemploy check', 'unemploy high', 'uneth', 'uneth corrupt', 'unfit', 'unfit presid', 'unfortun', 'unfortun dumptrump', 'unfortun vote', 'unhing', 'unhing 2020elect', 'unifi', 'unifi parti', 'unifi win', 'uniform', 'uniform announc', 'uniform dnc2020', 'uniform gop', 'unifytowin', 'unifytowin votebluetosaveamerica', 'union', 'union ahead', 'union happen', 'union plan', 'unit', 'unit state', 'unit steelwork', 'unit surviv', 'unitedason', 'unitedason southasian', 'unitednotdivid', 'unitednotdivid wwg1wga', 'unitedst', 'unitedst joe', 'unitedst presid', 'unitedst votethegopout', 'univers', 'univers childcar', 'unlik', 'unlik jim', 'unnecessari', 'unnecessari new', 'unpreced', 'unpreced time', 'unrecognis', 'unrecognis 2024', 'up', 'up energi', 'upbeat', 'upbeat bluesi', 'upbeat video', 'upcom', 'upcom elect', 'updat', 'updat voter', 'uplift', 'uplift countri', 'uplift video', 'upon', 'upon campaign', 'upon trump2020', 'upper', 'upper eastsid', 'uproot', 'uproot life', 'ur', 'ur choic', 'ur last', 'ur local', 'ur regist', 'urquiza', 'urquiza demconvent', 'us', 'us bidenharris2020', 'us chang', 'us china', 'us citizen', 'us democrat', 'us edg', 'us elect', 'us even', 'us everyon', 'us god', 'us hous', 'us laugh', 'us live', 'us militari', 'us money', 'us perhap', 'us presidenti', 'us save', 'us support', 'us swamp', 'us take', 'us trade', 'us trump', 'us trust', 'us user', 'us votebluetosaveamerica', 'us votelikeyourlifedependsonit', 'us voter', 'us withdraw', 'us without', 'usa', 'usa amp', 'usa http', 'usa shirt', 'usa shitholeusa', 'usa usapolit', 'usa votebidenharristosaveamerica', 'usa voter', 'usapolit', 'usapolit democrat', 'use', 'use black', 'use brain', 'use china', 'use evid', 'use foreign', 'use one', 'use pay', 'use polit', 'use simpli', 'use wire', 'uselect', 'uselect blackwomen', 'uselect http', 'uselection2020', 'uselection2020 uselect', 'useless', 'useless sound', 'user', 'user 2018', 'user 2048', 'user 2a', 'user 45', 'user abcnew', 'user accept', 'user accomplish', 'user accord', 'user actual', 'user ad', 'user addit', 'user adjust', 'user administr', 'user afford', 'user agre', 'user alllll', 'user alreadi', 'user also', 'user alway', 'user amaz', 'user amen', 'user america', 'user americafirst', 'user american', 'user amp', 'user anonym', 'user anoth', 'user antifa', 'user anymor', 'user anyth', 'user appreci', 'user ask', 'user assist', 'user attempt', 'user aw', 'user aww', 'user basic', 'user believ', 'user best', 'user better', 'user biden', 'user bidenharris2020', 'user blah', 'user blame', 'user bluewav', 'user bother', 'user break', 'user brought', 'user buffoon', 'user bulli', 'user bullshit', 'user cabl', 'user call', 'user came', 'user campaign', 'user cancel', 'user caravan', 'user care', 'user career', 'user ccot', 'user cheap', 'user check', 'user chew', 'user children', 'user citi', 'user cognit', 'user cohes', 'user come', 'user command', 'user comment', 'user communist', 'user concern', 'user condemn', 'user continu', 'user contrast', 'user conven', 'user correctli', 'user could', 'user cure', 'user curri', 'user da', 'user dc', 'user deal', 'user debat', 'user debates2020', 'user decid', 'user delusion', 'user demconvent', 'user demdeb', 'user democrat', 'user deplor', 'user disguis', 'user disown', 'user distract', 'user divis', 'user dnc', 'user doubt', 'user draintheswamp', 'user dream', 'user dum', 'user dumb', 'user either', 'user electionday', 'user elizabeth', 'user enjoy', 'user enough', 'user even', 'user ever', 'user everi', 'user exactli', 'user excit', 'user execut', 'user existenti', 'user expos', 'user fair', 'user fake', 'user far', 'user fat', 'user feel', 'user first', 'user flatli', 'user focu', 'user follow', 'user forgotten', 'user former', 'user fought', 'user fox', 'user foxnew', 'user fring', 'user full', 'user funni', 'user gall', 'user georgesoro', 'user get', 'user give', 'user glad', 'user go', 'user god', 'user goe', 'user good', 'user gop', 'user gopcoward', 'user gotta', 'user govern', 'user gracia', 'user grant', 'user guarante', 'user guess', 'user guy', 'user happen', 'user happi', 'user havasu', 'user hay', 'user hear', 'user help', 'user hero', 'user hey', 'user high', 'user hillari', 'user hit', 'user hogan', 'user hold', 'user home', 'user honestli', 'user hope', 'user http', 'user human', 'user hush', 'user hypocrisi', 'user idea', 'user idgaf', 'user imagin', 'user immatur', 'user impress', 'user incompet', 'user innoc', 'user insult', 'user issa', 'user jill', 'user joe', 'user joebiden', 'user join', 'user joke', 'user joy', 'user kag', 'user kag2020', 'user kamala', 'user kevin', 'user kkk', 'user kneepadsandpeepads2020', 'user know', 'user left', 'user let', 'user lie', 'user like', 'user line', 'user lip', 'user liter', 'user lol', 'user long', 'user longer', 'user lose', 'user lot', 'user love', 'user lyingelis', 'user maga', 'user maga2020', 'user make', 'user mani', 'user mask', 'user may', 'user mayb', 'user mccarthi', 'user mean', 'user meanwhil', 'user media', 'user mel', 'user melania', 'user mention', 'user met', 'user might', 'user miss', 'user mock', 'user moder', 'user moment', 'user mon', 'user move', 'user much', 'user must', 'user nanci', 'user naw', 'user need', 'user neg', 'user never', 'user new', 'user next', 'user nope', 'user noth', 'user notrump', 'user november3rd', 'user oann', 'user obama', 'user oh', 'user ok', 'user omg', 'user one', 'user open', 'user oppos', 'user orang', 'user organ', 'user oval', 'user part', 'user parti', 'user patholog', 'user patriotsunit', 'user peac', 'user peopl', 'user perform', 'user person', 'user plan', 'user pleas', 'user podium', 'user point', 'user polit', 'user politic', 'user poosi', 'user popular', 'user postal', 'user preach', 'user predict', 'user presid', 'user proof', 'user proud', 'user proudmomofleo', 'user pull', 'user put', 'user question', 'user racist', 'user racistli', 'user realli', 'user reason', 'user rebut', 'user refus', 'user refut', 'user relief', 'user rememb', 'user republican', 'user research', 'user respect', 'user respond', 'user rich', 'user ridinwithbiden', 'user ridinwithbidenharri', 'user right', 'user rnc2020', 'user sad', 'user said', 'user say', 'user sc', 'user scif', 'user screw', 'user see', 'user senat', 'user send', 'user septemb', 'user shiney', 'user show', 'user shown', 'user sicken', 'user sideway', 'user silenc', 'user silent', 'user sit', 'user somehow', 'user sorri', 'user sound', 'user special', 'user speech', 'user stage', 'user stand', 'user state', 'user stay', 'user still', 'user stop', 'user submit', 'user support', 'user surpris', 'user take', 'user taken', 'user talk', 'user taylor', 'user team', 'user tell', 'user texa', 'user thank', 'user thegreatawak', 'user think', 'user third', 'user time', 'user told', 'user tool', 'user traitor', 'user trollhunt', 'user trump', 'user trump2020', 'user trump2020landslid', 'user trumpet', 'user trumpisacompletefailur', 'user trust', 'user truth', 'user turn', 'user tweet', 'user typic', 'user unaccept', 'user understand', 'user unfortun', 'user ur', 'user user', 'user vaccin', 'user viru', 'user vote', 'user votebidenharris2020', 'user votebidenharristosaveamerica', 'user voteblu', 'user votebluetosaveamerica', 'user votefordemocraci', 'user voter', 'user votethemallout2020', 'user wait', 'user want', 'user warrenforvp', 'user watch', 'user way', 'user weak', 'user weird', 'user welcom', 'user well', 'user went', 'user whoop', 'user win', 'user wise', 'user wit', 'user world', 'user worri', 'user worst', 'user would', 'user wow', 'user wrong', 'user yay', 'user ye', 'user yeah', 'user year', 'user young', 'usernam', 'usernam monolith', 'usp', 'usp fauci', 'usp polici', 'usp vote', 'usual', 'usual get', 'utmost', 'utmost respect', 'utopian', 'utopian democrat', 'utter', 'utter bs', 'vacat', 'vacat club', 'vaccin', 'vaccin best', 'vaccin votebluetosaveamerica', 'vadem', 'vadem dpvadeleg', 'valid', 'valid certif', 'valid encourag', 'valid worthwhil', 'valu', 'valu demdeb', 'valu trump', 'vampir', 'vampir kill', 'vandal', 'vandal crimin', 'vanessa', 'vanessa william', 'variou', 'variou racist', 'vast', 'vast view', 'veep', 'veep slate', 'venezuela', 'venezuela need', 'ventur', 'ventur say', 'vet', 'vet food', 'vet prefer', 'vet process', 'vet user', 'veteran', 'veteran gop', 'veteran school', 'veteran woundedwarrior', 'veteransagainsttrump', 'veteransagainsttrump werespectourvet', 'veteransfortrump', 'veteransfortrump trump2020', 'veto', 'veto m4a', 'vetsfortrump', 'vetsfortrump veteran', 'vi', 'vi correspond', 'vi vi', 'via', 'via gang', 'via user', 'vibe', 'vibe anxiou', 'vice', 'vice presid', 'vice presidenti', 'viciou', 'viciou point', 'victim', 'victim cri', 'victim david', 'victim make', 'video', 'video ban', 'video berni', 'video black', 'video extrem', 'video footag', 'video trump2020', 'video voteblu', 'vietnames', 'vietnames immigr', 'view', 'view 2020elect', 'view abort', 'view beyond', 'viewer', 'viewer biden', 'viewer done', 'viewer trump', 'vigilant', 'vigilant wonder', 'vile', 'vile marxist', 'vincent', 'vincent grenadin', 'violat', 'violat feder', 'violat law', 'violenc', 'violenc guess', 'violenc hate', 'violenc minor', 'violenc much', 'violenc potato', 'violenc seattleriot', 'violenc shot', 'violenc trump', 'violenc video', 'violenc violenc', 'violent', 'violent base', 'violent crime', 'violent day', 'violent offenc', 'viral', 'viral hate', 'virtual', 'virtual democrat', 'virtual evenli', 'viru', 'viru came', 'viru decemb', 'viru destroy', 'vivatheresist', 'vivatheresist ridenwithbiden', 'voic', 'voic take', 'void', 'void 47', 'volum', 'volum silentmajorityris', 'volunt', 'volunt fed', 'volunt mani', 'vote', 'vote 2020elect', 'vote 22', 'vote amp', 'vote arizona', 'vote aug', 'vote barackobama', 'vote berniesand', 'vote biden', 'vote biden2020', 'vote black', 'vote blindli', 'vote block', 'vote blue', 'vote candid', 'vote cast', 'vote clue', 'vote conspiraci', 'vote convict', 'vote count', 'vote darlen', 'vote democrat', 'vote donald', 'vote dumptrump', 'vote earli', 'vote either', 'vote elect', 'vote ew', 'vote first', 'vote follow', 'vote get', 'vote hillari', 'vote howtovot', 'vote http', 'vote hurt', 'vote iran', 'vote issu', 'vote joe', 'vote joebiden', 'vote life', 'vote mad', 'vote mail', 'vote messag', 'vote misdirect', 'vote nomailinvot', 'vote nov', 'vote novemb', 'vote octob', 'vote offic', 'vote overwhelm', 'vote person', 'vote presindet', 'vote real', 'vote red', 'vote scatter', 'vote sleepi', 'vote though', 'vote trump', 'vote trump2020', 'vote trumpviru', 'vote twice', 'vote tyrant', 'vote user', 'vote vote', 'vote vote2020', 'vote votebidenharri', 'vote voteblu', 'vote voteblue2020', 'vote votebluetosaveamerica', 'vote votebymailearli', 'vote weak', 'vote ye', 'vote2020', 'vote2020 trump2020', 'vote2020 votebidenharristosaveamerica', 'vote2020 voteblu', 'vote2020 voteblue2020', 'vote2020 voteproud', 'votebiden', 'votebiden oklahoma', 'votebiden onetermtrump', 'votebiden trumpisnotadoctor', 'votebiden voteblueasifyourlifedependedonit', 'votebiden votebluetosaveamerica', 'votebiden2020', 'votebiden2020 votebiden', 'votebidenharri', 'votebidenharri democraticnationalconvent', 'votebidenharri voteblue2020', 'votebidenharris2020', 'votebidenharris2020 bidenharris2020', 'votebidenharris2020 enjoy', 'votebidenharris2020 kamala', 'votebidenharris2020 voteblu', 'votebidenharris2020 voteblue2020', 'votebidenharris2020 votegopout', 'votebidenharris2020 votehimout2020', 'votebidenharristosaveamerica', 'votebidenharristosaveamerica bidenharris2020landslid', 'votebidenharristosaveamerica voteblu', 'votebidenharristosaveamerica votebluetoendthisnightmar', 'votebidenharristosaveamerica votetrumpout', 'votebidentosaveamerica', 'votebidentosaveamerica voteblu', 'voteblu', 'voteblu biden', 'voteblu blacklivesmatt', 'voteblu get', 'voteblu http', 'voteblu saveamerica', 'voteblu top', 'voteblu votebidenharris2020', 'voteblu voteblue2020', 'voteblu votebluenomatterwho', 'voteblu votersuppress', 'voteblue2020', 'voteblue2020 bidencalm', 'voteblue2020 democraticdeb', 'voteblue2020 getregisteredtoday', 'voteblue2020 http', 'voteblue2020 need', 'voteblue2020 notmeu', 'voteblue2020 opinion', 'voteblue2020 tenleg', 'voteblue2020 trend', 'voteblue2020 voteearli', 'voteblue2020 voteforchang', 'voteblue2020 voterfraud', 'voteblueasifyourlifedependedonit', 'voteblueasifyourlifedependedonit putinpuppet', 'votebluedownballot', 'votebluedownballot southcarolina', 'votebluenomatterwho', 'votebluenomatterwho ettd', 'votebluenomatterwho ralli', 'votebluenomatterwho votebiden', 'votebluenomatterwho votebiden2020', 'votebluenomatterwho votebluetoendthisnightmar', 'votebluenomatterwho votebluetosaveamerica', 'votebluenomatterwho zero', 'votebluetoendthisnightmar', 'votebluetoendthisnightmar bidenharris2020', 'votebluetoendthisnightmar http', 'votebluetoendthisnightmar voteblue2020', 'votebluetoendthisnightmar votebluetosaveamerica', 'votebluetoendthisnightmar votebluetostoprussiasgop', 'votebluetosaveamerica', 'votebluetosaveamerica americaortrump', 'votebluetosaveamerica amp', 'votebluetosaveamerica biden2020', 'votebluetosaveamerica bidenharri', 'votebluetosaveamerica bidenharris2020', 'votebluetosaveamerica bidenharrislandslide2020', 'votebluetosaveamerica blind', 'votebluetosaveamerica foxnew', 'votebluetosaveamerica gopgaslight', 'votebluetosaveamerica http', 'votebluetosaveamerica knowyourdeplor', 'votebluetosaveamerica protectourdemocraci', 'votebluetosaveamerica republicansagainsttrump', 'votebluetosaveamerica resist', 'votebluetosaveamerica trumpliesamericansdi', 'votebluetosaveamerica user', 'votebluetosaveamerica vote', 'votebluetosaveamerica votebiden', 'votebluetosaveamerica votebidenharris2020', 'votebluetosaveamerica voteblue2020', 'votebluetosaveamerica votebluenomatterwho', 'votebluetosaveamerica votebluetoendthisnightmar', 'votebluetosaveamerica votebymail2020', 'votebluetosaveamerica votetrumpout', 'votebluetosaveamerica2020', 'votebluetosaveamerica2020 votebluenomatterwho', 'votebluetostoprussiasgop', 'votebymail', 'votebymail absenteeballot', 'votebymail sheastanfield', 'votebymail2020', 'votebymail2020 imwithjo', 'votebymail2020 votebluetosaveamerica', 'votebymailearli', 'votebymailearli votebymail', 'votebyoct22', 'votebyoct22 user', 'votedemsout', 'votedemsout http', 'voteearli', 'voteearli votebyoct22', 'voteforbidenharri', 'voteforbidenharri voteoutcorruptgop', 'voteforchang', 'voteforchang arizonavot', 'voteforchang voteforchang', 'votefordemocraci', 'votefordemocraci choic', 'votefordemocraci getoutthevot', 'votegopout', 'votehimout2020', 'votehimout2020 votingright', 'votelikeyourlifedependsonit', 'votelikeyourlifedependsonit votebluetosaveamerica', 'votema', 'votema http', 'voteoutalldemocrat', 'voteoutalldemocrat san', 'voteoutcorruptgop', 'voteoutcorruptgop votebluetosaveamerica', 'voteouth', 'voteouth voteoutthegop', 'voteoutthegop', 'voteoutthegop even', 'voteoutthegop votetrumpout', 'voteproud', 'voteproud voteblue2020', 'voter', 'voter 2016', 'voter 2020elect', 'voter american', 'voter blindli', 'voter democrat', 'voter deport', 'voter donald', 'voter embrac', 'voter enough', 'voter help', 'voter id', 'voter last', 'voter need', 'voter newsflash', 'voter presidenttrump', 'voter registr', 'voter remind', 'voter street', 'voter stress', 'voter support', 'voter suppress', 'voter survey', 'voter turnout', 'voter vote', 'voteredtosaveamerica', 'voteredtosaveamerica promisesmadepromiseskept', 'voteredtosaveamerica walkaway', 'voteredtosaveamerica2020', 'voteredtosaveamerica2020 amp', 'voteredtosaveamerica2020 trump2020landslid', 'voterfraud', 'voterfraud trump2020', 'voterfraud votersuppress', 'voteridnow', 'voteridnow freedom', 'votersuppress', 'votersuppress http', 'votersuppress vote', 'votethegopout', 'votethegopout votebluetosaveamerica', 'votethemallout2020', 'votethemallout2020 votebluetosaveamerica', 'votethemout', 'votethemout voteblu', 'votetrumpout', 'votetrumpout debat', 'votetrumpout votebluenomatterwho', 'votetrumpout votebluetosaveamerica', 'votetrumpout2020', 'votetrumpout2020 votebluetoendthisnightmar', 'votingissexi', 'votingissexi gotta', 'votingright', 'votingright job', 'votingright votingrightsact', 'votingrightsact', 'vp', 'vp campaign', 'vp choic', 'vp dem', 'vp demconvent', 'vp demdeb', 'vp great', 'vp guess', 'vp guy', 'vp histori', 'vp joebiden', 'vp know', 'vp nomin', 'vp penc', 'vp pick', 'vp run', 'vp sb', 'vp voteblue2020', 'vp word', 'vppenc', 'vppenc trump2024', 'vppick', 'vppick bidenharris2020', 'vs', 'vs biden', 'vs equal', 'vs left', 'vs trump', 'vs youaintblack', 'vulner', 'vulner maga', 'wa', 'wa redwav', 'waaay', 'waaay ahead', 'wage', 'wage even', 'wage today', 'wager', 'wager allow', 'wait', 'wait assur', 'wait berni', 'wait biden2020', 'wait give', 'wait nora', 'wait one', 'wait ralli', 'wait see', 'wait time', 'wait trump2020', 'wait watch', 'wake', 'wake amp', 'wake peopl', 'wake polic', 'wake think', 'wakeup', 'wakeup voteredtosaveamerica2020', 'walk', 'walk dem', 'walk press', 'walk tonight', 'walkaway', 'walkaway americafirst', 'walkaway bidenriot', 'walkaway demexit', 'walkaway screenwrit', 'walkaway trump2020', 'walkaway trumptrain', 'walkawayfromdemocrat', 'walkawayfromdemocrat maga2020', 'wall', 'wall street', 'wallac', 'wallac blew', 'wallac control', 'wallac give', 'wallac walkaway', 'walter', 'walter mondal', 'wander', 'wander wood', 'wanna', 'wanna say', 'want', 'want attent', 'want biden', 'want clear', 'want coward', 'want cut', 'want dead', 'want defund', 'want end', 'want factsmatt', 'want free', 'want get', 'want go', 'want grovel', 'want hear', 'want hope', 'want hussein', 'want joe', 'want keep', 'want listen', 'want make', 'want man', 'want nomin', 'want one', 'want paper', 'want part', 'want peopl', 'want rt', 'want rule', 'want run', 'want safe', 'want shithol', 'want sound', 'want spend', 'want support', 'want sure', 'want take', 'want talk', 'want veteransfortrump', 'want vote', 'want watch', 'want withhold', 'want women', 'want work', 'war', 'war debates2020', 'war du', 'war veto', 'war win', 'ward', 'ward contempl', 'ward http', 'warn', 'warn game', 'warn mirror', 'warn voter', 'warp', 'warp illadvis', 'warp speed', 'warren', 'warren announc', 'warren battl', 'warren becam', 'warren berni', 'warren brought', 'warren castro', 'warren demdeb', 'warren klobuchar', 'warren lie', 'warren need', 'warren presid', 'warren senat', 'warren spoke', 'warren warren2020', 'warren woman', 'warren2020', 'warren2020 democrats2020', 'warren2020 http', 'warrenendorsesbiden', 'warrenendorsesbiden joebiden', 'warrenforvp', 'warrenforvp biden2020', 'warroompandem', 'warroompandem blm', 'wartim', 'wartim presid', 'wash', 'wash trump', 'washington', 'washington biden2020', 'wast', 'wast dang', 'wast major', 'wast much', 'wast time', 'watch', 'watch biden', 'watch chase', 'watch debat', 'watch demconvent', 'watch democraticdeb', 'watch dnc', 'watch fair', 'watch fauxnew', 'watch first', 'watch game', 'watch gma', 'watch greg', 'watch half', 'watch happen', 'watch joe', 'watch last', 'watch live', 'watch maga', 'watch maga2020', 'watch rnc', 'watch rnc2020', 'watch still', 'watch sure', 'watch tune', 'watch two', 'watch user', 'watch video', 'water', 'water first', 'water lip', 'water look', 'water maga', 'water michigan', 'wave', 'wave come', 'way', 'way america', 'way better', 'way biden', 'way bring', 'way good', 'way http', 'way north', 'way overthrow', 'way presid', 'way produc', 'way rather', 'way short', 'way stop', 'way take', 'way trump2020', 'way watch', 'way wh', 'way would', 'weak', 'weak answer', 'weak god', 'weak kneed', 'weaken', 'weaken need', 'wealth', 'wealth blood', 'wealth reward', 'wealthi', 'wealthi rich', 'wealthtax', 'wealthtax demdeb', 'weapon', 'weapon formal', 'wear', 'wear biden', 'wear black', 'wear hear', 'wear mask', 'wear red', 'wear rosari', 'wear russian', 'wear scene', 'wear silk', 'wear thiscoolasfuckshit', 'wearetrump', 'websit', 'websit demdeb', 'websit listen', 'wednesday', 'wednesday part', 'wednesday said', 'wednesdaywisdom', 'weed', 'weed block', 'weed laugh', 'week', 'week action', 'week choos', 'week even', 'week extent', 'week guy', 'week month', 'week rnc2020', 'weekend', 'weekend draintheswamp', 'weight', 'weight behind', 'weird', 'weird sound', 'welcom', 'welcom chanc', 'welcom dnc', 'welcom famili', 'welcom new', 'welcom votebluetosaveamerica', 'well', 'well ask', 'well done', 'well go', 'well guess', 'well hang', 'well hell', 'well known', 'well peopl', 'well put', 'well trump', 'well ugh', 'well user', 'well votebluetosaveamerica', 'well written', 'went', 'went chinatown', 'went well', 'werespectourvet', 'werespectourvet votebluetosaveamerica', 'west', 'west http', 'western', 'western leftist', 'wet', 'wet willi', 'wethepeopl', 'wethepeopl biden2020tosaveamerica', 'wethepeopl histori', 'wethepeopl wethepeoplearenotfool', 'wethepeoplearenotfool', 'wethepeoplearenotfool amp', 'wether', 'wether counti', 'wewillvot', 'wewillvot voteblu', 'wewillwin', 'wh', 'wh destroy', 'wh votebluetosaveamerica', 'what', 'what polici', 'whatabout', 'whatabout ism', 'whatev', 'whatev piggyback', 'whatev want', 'whenev', 'whenev trump', 'whether', 'whether pick', 'whether vote', 'whine', 'whine lot', 'whine time', 'whistl', 'whistl stand', 'white', 'white base', 'white evangel', 'white hous', 'white liber', 'white male', 'white mark', 'white power', 'white shrivel', 'white silenc', 'white supremaci', 'white supremacist', 'whitehous', 'whitehous contend', 'whitehous opoyi', 'whitmer', 'whitmer deliv', 'whoever', 'whoever nomine', 'whole', 'whole ass', 'whole cabinet', 'whole democrat', 'whole even', 'whole idea', 'whole joebiden', 'whole new', 'whole raciat', 'whole time', 'whole weight', 'whoop', 'whoop ass', 'wick', 'wick good', 'wide', 'wide margin', 'wife', 'wife http', 'wife joe', 'wild', 'wild anim', 'will', 'will elector', 'willi', 'willi joe', 'william', 'william sean', 'williebrown', 'williebrown wrote', 'willingli', 'willingli go', 'wilmington', 'wilmington delawar', 'wilt', 'wilt pressur', 'win', 'win 20', 'win 2020', 'win 2020elect', 'win biden', 'win big', 'win calliopean', 'win countri', 'win elect', 'win fakenewsmedia', 'win inshallah', 'win landslid', 'win last', 'win least', 'win lol', 'win newhampshir', 'win novemb', 'win perhap', 'win polici', 'win progress', 'win red', 'win swamp', 'win trump2020', 'win trust', 'win us', 'win votebluenomatterwho', 'win want', 'windfal', 'windfal gift', 'wing', 'wing dupe', 'wing mob', 'wire', 'wire bat', 'wire headphon', 'wisconsin', 'wisconsin request', 'wisdom', 'wisdom fear', 'wise', 'wise choic', 'wise like', 'wise would', 'wiser', 'wiser wwg1wga', 'wish', 'wish list', 'wish make', 'wish segreg', 'wish think', 'wit', 'wit anyon', 'wit could', 'wit unbeliev', 'withdraw', 'withdraw un', 'withheld', 'withheld inform', 'withhold', 'withhold money', 'within', 'within conserv', 'without', 'without colleg', 'without lie', 'without mask', 'without mention', 'without resum', 'without trump', 'without user', 'without usp', 'without want', 'wmd', 'wmd oppos', 'wo', 'wo dime', 'woefulli', 'woefulli inept', 'woke', 'woke walkaway', 'woman', 'woman anarchist', 'woman asian', 'woman could', 'woman criteria', 'woman elect', 'woman end', 'woman first', 'woman lot', 'woman run', 'woman sander', 'woman suprem', 'woman vice', 'woman view', 'woman vote', 'woman vp', 'woman win', 'woman word', 'women', 'women amp', 'women could', 'women kim', 'women lgbtq', 'women presid', 'women qualifi', 'women ridicul', 'women stage', 'women strateg', 'women take', 'women user', 'women usernam', 'women without', 'womenforberni', 'womenforberni iacaucu', 'wonder', 'wonder day', 'wonder debat', 'wonder kenoshashoot', 'wonder user', 'wonder watch', 'wonen', 'wonen black', 'wood', 'wood someth', 'woooohooo', 'woooohooo demconvent', 'word', 'word ask', 'word black', 'word match', 'word open', 'word plan', 'word pull', 'word rnc2020', 'word salad', 'word tonight', 'word valid', 'word well', 'work', 'work amp', 'work backsid', 'work believ', 'work class', 'work dem', 'work engag', 'work hard', 'work http', 'work job', 'work peopl', 'work potu', 'work republican', 'work togeth', 'work trump', 'work trump2020', 'work user', 'work vote', 'worker', 'worker trump2020', 'worker union', 'world', 'world countri', 'world crook', 'world depend', 'world ever', 'world go', 'world http', 'world know', 'world largest', 'world leader', 'world liter', 'world nightmar', 'world one', 'world see', 'world trump', 'world votebluetosaveamerica', 'world walk', 'worldwid', 'worldwid blm', 'worri', 'worri elect', 'worri trip', 'worri user', 'wors', 'wors better', 'wors biden2020', 'wors obama', 'wors tonight', 'wors trust', 'worship', 'worship god', 'worship loot', 'worst', 'worst corrupt', 'worst enemi', 'worst nightmar', 'worst polit', 'worst thing', 'worth', 'worth kamalaharri', 'worth mention', 'worthless', 'worthless mandat', 'worthwhil', 'worthwhil say', 'would', 'would absolut', 'would actual', 'would anyth', 'would appoint', 'would appreci', 'would attend', 'would better', 'would chain', 'would check', 'would civil', 'would communist', 'would complet', 'would differ', 'would epic', 'would fallen', 'would field', 'would fun', 'would happen', 'would health', 'would insan', 'would look', 'would love', 'would maga', 'would never', 'would otherwis', 'would pick', 'would popular', 'would presid', 'would presidenti', 'would reach', 'would refus', 'would short', 'would show', 'would speak', 'would thought', 'would torn', 'would ventur', 'would vote', 'would welcom', 'would wors', 'woundedwarrior', 'woundedwarrior patriot', 'wow', 'wow asshol', 'wow stupid', 'wow trump2020', 'wreck', 'wreck economi', 'wrightforbiden', 'wrightforbiden ridinwithbiden', 'wrist', 'wrist memori', 'write', 'write senat', 'write tweet', 'writingcommun', 'writingcommun voteblue2020', 'written', 'written statement', 'wrong', 'wrong behavior', 'wrong crazi', 'wrong maga', 'wrong sure', 'wrong trump', 'wrong trump2020', 'wrong wow', 'wrote', 'wrote eh', 'wrote harri', 'wtf', 'wtf keep', 'wtf talk', 'wtf torycorrupt', 'wtf wrong', 'wuhan', 'wuhan pleas', 'wwe', 'wwe bare', 'wwg1gwa', 'wwg1gwa patriotpray', 'wwg1wga', 'wwg1wga best', 'wwg1wga trump2020', 'wwg1wga trump2020nowmorethanev', 'wwg1wga truthseek', 'wwg1wwga', 'wwg1wwga trump2020', 'xenophob', 'xenophob record', 'ya', 'ya copper', 'ya electiontim', 'ya nancyblowout', 'yang', 'yang transit', 'yate', 'yate demconvention2020', 'yay', 'yay trump2020', 'ye', 'ye chang', 'ye cours', 'ye definit', 'ye exactli', 'ye know', 'ye let', 'ye presid', 'ye rapist', 'ye real', 'ye undoubtedli', 'ye user', 'ye ye', 'yeah', 'yeah figur', 'yeah moron', 'yeah trump', 'yeah wish', 'year', 'year ago', 'year america', 'year anniversari', 'year believ', 'year biden', 'year campaign', 'year debatenight', 'year done', 'year dumptrump', 'year go', 'year loss', 'year maga', 'year noth', 'year old', 'year record', 'year rnc2020', 'year snowflak', 'year suprem', 'year today', 'year trump', 'year trump2020', 'year um', 'year want', 'year would', 'year year', 'yell', 'yell cloud', 'yell elizabeth', 'yesterday', 'yesterday execut', 'yesterday popular', 'yesterday stock', 'yet', 'yet biden', 'yet come', 'yet embarrass', 'yet fuckcreepyjo', 'yet hey', 'yet maga', 'yet seen', 'yet want', 'yet watch', 'york', 'york cri', 'york death', 'youaintblack', 'youaintblack harri', 'youaintblack trump2020', 'young', 'young actual', 'young men', 'young older', 'young voter', 'youtub', 'youtub cannot', 'youtub http', 'youtub thank', 'youtub votebluetosaveamerica', 'youtub watch', 'yt', 'yt channel', 'zero', 'zero fact', 'zero research', 'zero result', 'zero tangibl', 'zone', 'zone prison', 'آزادشان_کنید', 'آزادشان_کنید kingdomwithpahlavi', 'اعدام_نکنید', 'اعدام_نکنید آزادشان_کنید']\n"
     ]
    }
   ],
   "source": [
    "print(vect.get_feature_names())"
   ]
  },
  {
   "cell_type": "code",
   "execution_count": 255,
   "id": "bdb2943a",
   "metadata": {},
   "outputs": [],
   "source": [
    "xt_vec = vect.transform(xt_clean).toarray()"
   ]
  },
  {
   "cell_type": "markdown",
   "id": "bdf734a2",
   "metadata": {},
   "source": [
    "#### y"
   ]
  },
  {
   "cell_type": "code",
   "execution_count": 243,
   "id": "8c03ee96",
   "metadata": {},
   "outputs": [],
   "source": [
    "from sklearn import preprocessing, decomposition, model_selection, metrics, pipeline"
   ]
  },
  {
   "cell_type": "code",
   "execution_count": 268,
   "id": "3579c5d4",
   "metadata": {},
   "outputs": [],
   "source": [
    "lbl_enc = preprocessing.LabelEncoder()\n",
    "y_train = lbl_enc.fit_transform(biden_train['label'].values)\n",
    "y_test = lbl_enc.transform(biden_test['label'].values)"
   ]
  },
  {
   "cell_type": "markdown",
   "id": "0f4f4848",
   "metadata": {},
   "source": [
    "## Multinomial Naive Bayes"
   ]
  },
  {
   "cell_type": "markdown",
   "id": "fc698481",
   "metadata": {},
   "source": [
    "p(y=1|x) probability that the email belongs to spam\n",
    "p(y=0|x) probability that the email belongs to non-spam\n",
    "x=[text]=[x1,x2,x3,...,xn]\n",
    "\n",
    "Bayes theorem:  \n",
    "p(y=1|x) = p(x|y=1)p(y=1)/p(y=0)\n",
    "p(y=0|x) = p(x|y=0)p(y=0)/p(y=1)  \n",
    "case x give y=0 is hard to get\n",
    "\n",
    "Naive Bayes:  \n",
    "given a particular class value(1/0), the value of a particular feature is independent of the value of other features\n",
    "\n",
    "p(x|y=1) = p(x1|y=0)p(x2|y=0)...p(xn|y=0)\n"
   ]
  },
  {
   "cell_type": "code",
   "execution_count": 270,
   "id": "fadd75d0",
   "metadata": {},
   "outputs": [],
   "source": [
    "from sklearn.naive_bayes import MultinomialNB"
   ]
  },
  {
   "cell_type": "code",
   "execution_count": 271,
   "id": "689ea889",
   "metadata": {},
   "outputs": [],
   "source": [
    "classifier = MultinomialNB()"
   ]
  },
  {
   "cell_type": "code",
   "execution_count": 272,
   "id": "946b8c47",
   "metadata": {},
   "outputs": [
    {
     "data": {
      "text/plain": [
       "MultinomialNB()"
      ]
     },
     "execution_count": 272,
     "metadata": {},
     "output_type": "execute_result"
    }
   ],
   "source": [
    "classifier.fit(x_vec,y_train)"
   ]
  },
  {
   "cell_type": "code",
   "execution_count": 257,
   "id": "f14b5ff7",
   "metadata": {},
   "outputs": [
    {
     "data": {
      "text/plain": [
       "array([[3.47386759e-01, 3.02599722e-02, 6.22353269e-01],\n",
       "       [1.31754064e-03, 9.64952717e-01, 3.37297421e-02],\n",
       "       [1.90813907e-06, 3.16019502e-06, 9.99994932e-01],\n",
       "       ...,\n",
       "       [6.10168834e-04, 9.77503860e-01, 2.18859713e-02],\n",
       "       [8.93540173e-05, 9.99839760e-01, 7.08859107e-05],\n",
       "       [8.45178012e-01, 1.52245055e-01, 2.57693279e-03]])"
      ]
     },
     "execution_count": 257,
     "metadata": {},
     "output_type": "execute_result"
    }
   ],
   "source": [
    "y_pred = classifier.predict_proba(xt_vec)\n"
   ]
  },
  {
   "cell_type": "code",
   "execution_count": 273,
   "id": "46816cfb",
   "metadata": {},
   "outputs": [],
   "source": [
    "from sklearn.metrics import accuracy_score\n",
    "y_pred = classifier.predict(xt_vec)\n",
    "acc = accuracy_score(y_test, y_pred)"
   ]
  },
  {
   "cell_type": "code",
   "execution_count": 274,
   "id": "800450f0",
   "metadata": {},
   "outputs": [
    {
     "data": {
      "text/plain": [
       "0.6613333333333333"
      ]
     },
     "execution_count": 274,
     "metadata": {},
     "output_type": "execute_result"
    }
   ],
   "source": [
    "acc"
   ]
  },
  {
   "cell_type": "code",
   "execution_count": 275,
   "id": "9104d4d9",
   "metadata": {},
   "outputs": [
    {
     "data": {
      "text/plain": [
       "array([[76,  9, 21],\n",
       "       [16, 78, 18],\n",
       "       [35, 28, 94]], dtype=int64)"
      ]
     },
     "execution_count": 275,
     "metadata": {},
     "output_type": "execute_result"
    }
   ],
   "source": [
    "from sklearn.metrics import confusion_matrix\n",
    "confusion_matrix(y_test,y_pred)"
   ]
  },
  {
   "cell_type": "code",
   "execution_count": null,
   "id": "cc3defea",
   "metadata": {},
   "outputs": [],
   "source": []
  }
 ],
 "metadata": {
  "kernelspec": {
   "display_name": "Python 3",
   "language": "python",
   "name": "python3"
  },
  "language_info": {
   "codemirror_mode": {
    "name": "ipython",
    "version": 3
   },
   "file_extension": ".py",
   "mimetype": "text/x-python",
   "name": "python",
   "nbconvert_exporter": "python",
   "pygments_lexer": "ipython3",
   "version": "3.8.8"
  }
 },
 "nbformat": 4,
 "nbformat_minor": 5
}
